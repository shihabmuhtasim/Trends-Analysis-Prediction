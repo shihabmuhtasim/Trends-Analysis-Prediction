{
  "cells": [
    {
      "cell_type": "markdown",
      "metadata": {
        "id": "z337pjCe-HES"
      },
      "source": [
        "### **This file contains:**\n",
        "\n",
        "\n",
        "---\n",
        "\n",
        "\n",
        "1. **Loading `leader_df` CSV file that has leader info for each community**\n",
        "2. **Running different BERT models trained on the SST-2 dataset to perform sentiment analysis**\n",
        "3. **Storing each model's result graph and prediction dataset** **bold text**\n"
      ]
    },
    {
      "cell_type": "code",
      "execution_count": null,
      "metadata": {
        "id": "WnNJaM7oL-kh"
      },
      "outputs": [],
      "source": [
        "# !pip install tensorflow\n",
        "# !pip install wordcloud\n",
        "# !pip install pycountry\n",
        "# !pip install langdetect\n",
        "# !pip install prettytable"
      ]
    },
    {
      "cell_type": "code",
      "execution_count": null,
      "metadata": {
        "colab": {
          "base_uri": "https://localhost:8080/"
        },
        "id": "zMnkDtLIwtK9",
        "outputId": "bf58a12a-482c-4450-917e-a1a0235b4450"
      },
      "outputs": [
        {
          "output_type": "stream",
          "name": "stderr",
          "text": [
            "[nltk_data] Downloading package stopwords to /root/nltk_data...\n",
            "[nltk_data]   Unzipping corpora/stopwords.zip.\n",
            "[nltk_data] Downloading package punkt to /root/nltk_data...\n",
            "[nltk_data]   Unzipping tokenizers/punkt.zip.\n",
            "[nltk_data] Downloading package wordnet to /root/nltk_data...\n"
          ]
        },
        {
          "output_type": "execute_result",
          "data": {
            "text/plain": [
              "True"
            ]
          },
          "metadata": {},
          "execution_count": 1
        }
      ],
      "source": [
        "import pandas as pd\n",
        "import numpy as np\n",
        "import seaborn as sns\n",
        "import matplotlib.pyplot as plt\n",
        "# import tensorflow as tf\n",
        "# from tensorflow import keras\n",
        "import itertools\n",
        "from itertools import combinations\n",
        "import networkx as nx\n",
        "from networkx.algorithms.community import greedy_modularity_communities\n",
        "from collections import Counter\n",
        "import nltk\n",
        "from nltk.corpus import stopwords, words as nltk_words\n",
        "from nltk.tokenize import word_tokenize\n",
        "# from wordcloud import WordCloud\n",
        "import matplotlib.cm as cm\n",
        "import re\n",
        "from nltk.stem import WordNetLemmatizer\n",
        "import heapq\n",
        "from tqdm import tqdm\n",
        "\n",
        "# import pycountry\n",
        "# from langdetect import detect\n",
        "# from prettytable import PrettyTable\n",
        "\n",
        "nltk.download('stopwords')\n",
        "nltk.download('punkt')\n",
        "nltk.download('wordnet')"
      ]
    },
    {
      "cell_type": "code",
      "source": [
        "from google.colab import drive\n",
        "drive.mount('/content/drive')"
      ],
      "metadata": {
        "id": "5rzCj9V5-RMV"
      },
      "execution_count": null,
      "outputs": []
    },
    {
      "cell_type": "markdown",
      "metadata": {
        "id": "A9eHnyc7TVVs"
      },
      "source": [
        "# LOAD DATA FILES AND COMBINE"
      ]
    },
    {
      "cell_type": "code",
      "execution_count": null,
      "metadata": {
        "id": "JyljVherT0dZ"
      },
      "outputs": [],
      "source": [
        "\n",
        "\n",
        "#Temp lab\n",
        "leader_df = pd.read_csv('C:/Users/21301610/Downloads/code/leader_df.csv')\n",
        "\n"
      ]
    },
    {
      "cell_type": "code",
      "execution_count": null,
      "metadata": {
        "id": "wv09_VenY27A"
      },
      "outputs": [],
      "source": []
    },
    {
      "cell_type": "code",
      "execution_count": null,
      "metadata": {
        "id": "mtqQ12-xPgnp"
      },
      "outputs": [],
      "source": []
    },
    {
      "cell_type": "code",
      "execution_count": null,
      "metadata": {
        "colab": {
          "base_uri": "https://localhost:8080/"
        },
        "id": "dZdjAjZsBzSG",
        "outputId": "ba048f76-bc57-4c5d-9f52-166dc63cdd13"
      },
      "outputs": [
        {
          "name": "stdout",
          "output_type": "stream",
          "text": [
            "Defaulting to user installation because normal site-packages is not writeable\n",
            "Requirement already satisfied: transformers in c:\\users\\21301610\\appdata\\roaming\\python\\python311\\site-packages (4.41.2)\n",
            "Requirement already satisfied: datasets in c:\\users\\21301610\\appdata\\roaming\\python\\python311\\site-packages (2.20.0)\n",
            "Requirement already satisfied: torch in c:\\users\\21301610\\appdata\\roaming\\python\\python311\\site-packages (2.3.1)\n",
            "Requirement already satisfied: filelock in c:\\programdata\\anaconda3\\lib\\site-packages (from transformers) (3.13.1)\n",
            "Requirement already satisfied: huggingface-hub<1.0,>=0.23.0 in c:\\users\\21301610\\appdata\\roaming\\python\\python311\\site-packages (from transformers) (0.23.4)\n",
            "Requirement already satisfied: numpy>=1.17 in c:\\programdata\\anaconda3\\lib\\site-packages (from transformers) (1.26.4)\n",
            "Requirement already satisfied: packaging>=20.0 in c:\\programdata\\anaconda3\\lib\\site-packages (from transformers) (23.1)\n",
            "Requirement already satisfied: pyyaml>=5.1 in c:\\programdata\\anaconda3\\lib\\site-packages (from transformers) (6.0.1)\n",
            "Requirement already satisfied: regex!=2019.12.17 in c:\\programdata\\anaconda3\\lib\\site-packages (from transformers) (2023.10.3)\n",
            "Requirement already satisfied: requests in c:\\users\\21301610\\appdata\\roaming\\python\\python311\\site-packages (from transformers) (2.32.3)\n",
            "Requirement already satisfied: tokenizers<0.20,>=0.19 in c:\\users\\21301610\\appdata\\roaming\\python\\python311\\site-packages (from transformers) (0.19.1)\n",
            "Requirement already satisfied: safetensors>=0.4.1 in c:\\users\\21301610\\appdata\\roaming\\python\\python311\\site-packages (from transformers) (0.4.3)\n",
            "Requirement already satisfied: tqdm>=4.27 in c:\\users\\21301610\\appdata\\roaming\\python\\python311\\site-packages (from transformers) (4.66.4)\n",
            "Requirement already satisfied: pyarrow>=15.0.0 in c:\\users\\21301610\\appdata\\roaming\\python\\python311\\site-packages (from datasets) (16.1.0)\n",
            "Requirement already satisfied: pyarrow-hotfix in c:\\users\\21301610\\appdata\\roaming\\python\\python311\\site-packages (from datasets) (0.6)\n",
            "Requirement already satisfied: dill<0.3.9,>=0.3.0 in c:\\users\\21301610\\appdata\\roaming\\python\\python311\\site-packages (from datasets) (0.3.8)\n",
            "Requirement already satisfied: pandas in c:\\programdata\\anaconda3\\lib\\site-packages (from datasets) (2.1.4)\n",
            "Requirement already satisfied: xxhash in c:\\users\\21301610\\appdata\\roaming\\python\\python311\\site-packages (from datasets) (3.4.1)\n",
            "Requirement already satisfied: multiprocess in c:\\users\\21301610\\appdata\\roaming\\python\\python311\\site-packages (from datasets) (0.70.16)\n",
            "Requirement already satisfied: fsspec<=2024.5.0,>=2023.1.0 in c:\\programdata\\anaconda3\\lib\\site-packages (from fsspec[http]<=2024.5.0,>=2023.1.0->datasets) (2023.10.0)\n",
            "Requirement already satisfied: aiohttp in c:\\programdata\\anaconda3\\lib\\site-packages (from datasets) (3.9.3)\n",
            "Requirement already satisfied: typing-extensions>=4.8.0 in c:\\programdata\\anaconda3\\lib\\site-packages (from torch) (4.9.0)\n",
            "Requirement already satisfied: sympy in c:\\programdata\\anaconda3\\lib\\site-packages (from torch) (1.12)\n",
            "Requirement already satisfied: networkx in c:\\programdata\\anaconda3\\lib\\site-packages (from torch) (3.1)\n",
            "Requirement already satisfied: jinja2 in c:\\programdata\\anaconda3\\lib\\site-packages (from torch) (3.1.3)\n",
            "Requirement already satisfied: mkl<=2021.4.0,>=2021.1.1 in c:\\users\\21301610\\appdata\\roaming\\python\\python311\\site-packages (from torch) (2021.4.0)\n",
            "Requirement already satisfied: aiosignal>=1.1.2 in c:\\programdata\\anaconda3\\lib\\site-packages (from aiohttp->datasets) (1.2.0)\n",
            "Requirement already satisfied: attrs>=17.3.0 in c:\\programdata\\anaconda3\\lib\\site-packages (from aiohttp->datasets) (23.1.0)\n",
            "Requirement already satisfied: frozenlist>=1.1.1 in c:\\programdata\\anaconda3\\lib\\site-packages (from aiohttp->datasets) (1.4.0)\n",
            "Requirement already satisfied: multidict<7.0,>=4.5 in c:\\programdata\\anaconda3\\lib\\site-packages (from aiohttp->datasets) (6.0.4)\n",
            "Requirement already satisfied: yarl<2.0,>=1.0 in c:\\programdata\\anaconda3\\lib\\site-packages (from aiohttp->datasets) (1.9.3)\n",
            "Requirement already satisfied: intel-openmp==2021.* in c:\\users\\21301610\\appdata\\roaming\\python\\python311\\site-packages (from mkl<=2021.4.0,>=2021.1.1->torch) (2021.4.0)\n",
            "Requirement already satisfied: tbb==2021.* in c:\\users\\21301610\\appdata\\roaming\\python\\python311\\site-packages (from mkl<=2021.4.0,>=2021.1.1->torch) (2021.12.0)\n",
            "Requirement already satisfied: charset-normalizer<4,>=2 in c:\\programdata\\anaconda3\\lib\\site-packages (from requests->transformers) (2.0.4)\n",
            "Requirement already satisfied: idna<4,>=2.5 in c:\\programdata\\anaconda3\\lib\\site-packages (from requests->transformers) (3.4)\n",
            "Requirement already satisfied: urllib3<3,>=1.21.1 in c:\\programdata\\anaconda3\\lib\\site-packages (from requests->transformers) (2.0.7)\n",
            "Requirement already satisfied: certifi>=2017.4.17 in c:\\programdata\\anaconda3\\lib\\site-packages (from requests->transformers) (2024.2.2)\n",
            "Requirement already satisfied: colorama in c:\\programdata\\anaconda3\\lib\\site-packages (from tqdm>=4.27->transformers) (0.4.6)\n",
            "Requirement already satisfied: MarkupSafe>=2.0 in c:\\programdata\\anaconda3\\lib\\site-packages (from jinja2->torch) (2.1.3)\n",
            "Requirement already satisfied: python-dateutil>=2.8.2 in c:\\programdata\\anaconda3\\lib\\site-packages (from pandas->datasets) (2.8.2)\n",
            "Requirement already satisfied: pytz>=2020.1 in c:\\programdata\\anaconda3\\lib\\site-packages (from pandas->datasets) (2023.3.post1)\n",
            "Requirement already satisfied: tzdata>=2022.1 in c:\\programdata\\anaconda3\\lib\\site-packages (from pandas->datasets) (2023.3)\n",
            "Requirement already satisfied: mpmath>=0.19 in c:\\programdata\\anaconda3\\lib\\site-packages (from sympy->torch) (1.3.0)\n",
            "Requirement already satisfied: six>=1.5 in c:\\programdata\\anaconda3\\lib\\site-packages (from python-dateutil>=2.8.2->pandas->datasets) (1.16.0)\n",
            "Note: you may need to restart the kernel to use updated packages.\n"
          ]
        }
      ],
      "source": [
        "pip install transformers datasets torch\n"
      ]
    },
    {
      "cell_type": "code",
      "execution_count": null,
      "metadata": {
        "id": "-ewY7JNi-HEZ",
        "outputId": "4d1c9ead-d4fc-4ace-8989-588c8e2fa37b"
      },
      "outputs": [
        {
          "name": "stdout",
          "output_type": "stream",
          "text": [
            "Defaulting to user installation because normal site-packages is not writeable\n",
            "Requirement already satisfied: transformers in c:\\users\\21301610\\appdata\\roaming\\python\\python311\\site-packages (4.41.2)\n",
            "Requirement already satisfied: filelock in c:\\programdata\\anaconda3\\lib\\site-packages (from transformers) (3.13.1)\n",
            "Requirement already satisfied: huggingface-hub<1.0,>=0.23.0 in c:\\users\\21301610\\appdata\\roaming\\python\\python311\\site-packages (from transformers) (0.23.4)\n",
            "Requirement already satisfied: numpy>=1.17 in c:\\programdata\\anaconda3\\lib\\site-packages (from transformers) (1.26.4)\n",
            "Requirement already satisfied: packaging>=20.0 in c:\\programdata\\anaconda3\\lib\\site-packages (from transformers) (23.1)\n",
            "Requirement already satisfied: pyyaml>=5.1 in c:\\programdata\\anaconda3\\lib\\site-packages (from transformers) (6.0.1)\n",
            "Requirement already satisfied: regex!=2019.12.17 in c:\\programdata\\anaconda3\\lib\\site-packages (from transformers) (2023.10.3)\n",
            "Requirement already satisfied: requests in c:\\users\\21301610\\appdata\\roaming\\python\\python311\\site-packages (from transformers) (2.32.3)\n",
            "Requirement already satisfied: tokenizers<0.20,>=0.19 in c:\\users\\21301610\\appdata\\roaming\\python\\python311\\site-packages (from transformers) (0.19.1)\n",
            "Requirement already satisfied: safetensors>=0.4.1 in c:\\users\\21301610\\appdata\\roaming\\python\\python311\\site-packages (from transformers) (0.4.3)\n",
            "Requirement already satisfied: tqdm>=4.27 in c:\\users\\21301610\\appdata\\roaming\\python\\python311\\site-packages (from transformers) (4.66.4)\n",
            "Requirement already satisfied: fsspec>=2023.5.0 in c:\\programdata\\anaconda3\\lib\\site-packages (from huggingface-hub<1.0,>=0.23.0->transformers) (2023.10.0)\n",
            "Requirement already satisfied: typing-extensions>=3.7.4.3 in c:\\programdata\\anaconda3\\lib\\site-packages (from huggingface-hub<1.0,>=0.23.0->transformers) (4.9.0)\n",
            "Requirement already satisfied: colorama in c:\\programdata\\anaconda3\\lib\\site-packages (from tqdm>=4.27->transformers) (0.4.6)\n",
            "Requirement already satisfied: charset-normalizer<4,>=2 in c:\\programdata\\anaconda3\\lib\\site-packages (from requests->transformers) (2.0.4)\n",
            "Requirement already satisfied: idna<4,>=2.5 in c:\\programdata\\anaconda3\\lib\\site-packages (from requests->transformers) (3.4)\n",
            "Requirement already satisfied: urllib3<3,>=1.21.1 in c:\\programdata\\anaconda3\\lib\\site-packages (from requests->transformers) (2.0.7)\n",
            "Requirement already satisfied: certifi>=2017.4.17 in c:\\programdata\\anaconda3\\lib\\site-packages (from requests->transformers) (2024.2.2)\n",
            "Note: you may need to restart the kernel to use updated packages.\n"
          ]
        }
      ],
      "source": [
        "pip install transformers"
      ]
    },
    {
      "cell_type": "code",
      "execution_count": null,
      "metadata": {
        "id": "w83qn86jHB3e"
      },
      "outputs": [],
      "source": [
        "import pandas as pd\n",
        "from transformers import AutoTokenizer, AutoModelForSequenceClassification, pipeline\n",
        "\n",
        "\n",
        "\n",
        "# Load the pre-trained model and tokenizer for sentiment analysis\n",
        "model_name = \"distilbert-base-uncased-finetuned-sst-2-english\"  # Distilled BERT\n",
        "tokenizer = AutoTokenizer.from_pretrained(model_name)\n",
        "model = AutoModelForSequenceClassification.from_pretrained(model_name)\n",
        "\n",
        "# Create a sentiment analysis pipeline\n",
        "sentiment_analysis = pipeline(\"sentiment-analysis\", model=model, tokenizer=tokenizer)\n",
        "\n",
        "# Apply the sentiment analysis model to the 'Tweet Content' column\n",
        "leader_df['Sentiment'] = leader_df['Tweet Content'].apply(lambda x: sentiment_analysis(x)[0]['label'])\n",
        "\n",
        "leader_df.head(10)\n",
        "leader_df.to_csv('leader_distilled_bert.csv', index=False)"
      ]
    },
    {
      "cell_type": "code",
      "execution_count": null,
      "metadata": {
        "colab": {
          "base_uri": "https://localhost:8080/",
          "height": 472
        },
        "id": "e7FjoM8NHiyJ",
        "outputId": "95f69833-8110-42ce-df55-cf2b1036fdec"
      },
      "outputs": [
        {
          "data": {
            "image/png": "[encoded data removed]",
            "text/plain": [
              "<Figure size 640x480 with 1 Axes>"
            ]
          },
          "metadata": {},
          "output_type": "display_data"
        }
      ],
      "source": [
        "# prompt: Plot a graph where x axis has positive and negative and y axis has their counts for the column \"sentiment\" of leader_df\n",
        "\n",
        "import matplotlib.pyplot as plt\n",
        "\n",
        "sentiment_counts = leader_df['Sentiment'].value_counts()\n",
        "\n",
        "x_values = ['Positive', 'Negative']\n",
        "y_values = [sentiment_counts['POSITIVE'], sentiment_counts['NEGATIVE']]\n",
        "\n",
        "plt.bar(x_values, y_values)\n",
        "plt.xlabel('Sentiment')\n",
        "plt.ylabel('Count')\n",
        "plt.title('Distilled BERT')\n",
        "plt.show()\n"
      ]
    },
    {
      "cell_type": "code",
      "execution_count": null,
      "metadata": {
        "id": "d_i1nkhnHuP9"
      },
      "outputs": [],
      "source": [
        "import pandas as pd\n",
        "from transformers import AutoTokenizer, AutoModelForSequenceClassification, pipeline\n",
        "\n",
        "\n",
        "\n",
        "# Load the pre-trained model and tokenizer for sentiment analysis\n",
        "model_name = \"textattack/bert-base-uncased-SST-2\"  # BERT-based model fine-tuned on SST-2\n",
        "tokenizer = AutoTokenizer.from_pretrained(model_name)\n",
        "model = AutoModelForSequenceClassification.from_pretrained(model_name)\n",
        "\n",
        "# Create a sentiment analysis pipeline\n",
        "sentiment_analysis = pipeline(\"sentiment-analysis\", model=model, tokenizer=tokenizer)\n",
        "\n",
        "# Apply the sentiment analysis model to the 'Tweet Content' column\n",
        "leader_df['Sentiment'] = leader_df['Tweet Content'].apply(lambda x: sentiment_analysis(x)[0]['label'])\n",
        "\n",
        "leader_df.head(10)\n",
        "leader_df.to_csv('leader_bert.csv', index=False)"
      ]
    },
    {
      "cell_type": "code",
      "execution_count": null,
      "metadata": {
        "colab": {
          "base_uri": "https://localhost:8080/",
          "height": 472
        },
        "id": "N-8QpIKmH-zB",
        "outputId": "c4819c41-0150-4a41-bde4-6131e46358d5"
      },
      "outputs": [
        {
          "data": {
            "image/png": "[encoded data removed]",
            "text/plain": [
              "<Figure size 640x480 with 1 Axes>"
            ]
          },
          "metadata": {},
          "output_type": "display_data"
        }
      ],
      "source": [
        "# prompt: Plot a graph where x axis has positive and negative and y axis has their counts for the column \"sentiment\" of leader_df\n",
        "\n",
        "import matplotlib.pyplot as plt\n",
        "\n",
        "sentiment_counts = leader_df['Sentiment'].value_counts()\n",
        "\n",
        "x_values = ['Positive', 'Negative']\n",
        "y_values = [sentiment_counts['LABEL_1'], sentiment_counts['LABEL_0']]\n",
        "\n",
        "plt.bar(x_values, y_values)\n",
        "plt.xlabel('Sentiment')\n",
        "plt.ylabel('Count')\n",
        "plt.title('BERT')\n",
        "plt.show()\n"
      ]
    },
    {
      "cell_type": "code",
      "execution_count": null,
      "metadata": {
        "id": "fwbsUgO6H1K6"
      },
      "outputs": [],
      "source": [
        "import pandas as pd\n",
        "from transformers import AutoTokenizer, AutoModelForSequenceClassification, pipeline\n",
        "\n",
        "\n",
        "\n",
        "# Load the pre-trained model and tokenizer for sentiment analysis\n",
        "model_name = \"textattack/albert-base-v2-SST-2\"  # ALBERT (A Lite BERT\n",
        "tokenizer = AutoTokenizer.from_pretrained(model_name)\n",
        "model = AutoModelForSequenceClassification.from_pretrained(model_name)\n",
        "\n",
        "# Create a sentiment analysis pipeline\n",
        "sentiment_analysis = pipeline(\"sentiment-analysis\", model=model, tokenizer=tokenizer)\n",
        "\n",
        "# Apply the sentiment analysis model to the 'Tweet Content' column\n",
        "leader_df['Sentiment'] = leader_df['Tweet Content'].apply(lambda x: sentiment_analysis(x)[0]['label'])\n",
        "\n",
        "leader_df.head(10)\n",
        "\n",
        "leader_df.to_csv('leader_albert.csv', index=False)\n"
      ]
    },
    {
      "cell_type": "code",
      "execution_count": null,
      "metadata": {
        "colab": {
          "base_uri": "https://localhost:8080/",
          "height": 472
        },
        "id": "FfjnxQYrIAjK",
        "outputId": "4dfdd07b-34a4-449a-fc31-4e19aa743129"
      },
      "outputs": [
        {
          "data": {
            "image/png": "[encoded data removed]",
            "text/plain": [
              "<Figure size 640x480 with 1 Axes>"
            ]
          },
          "metadata": {},
          "output_type": "display_data"
        }
      ],
      "source": [
        "# prompt: Plot a graph where x axis has positive and negative and y axis has their counts for the column \"sentiment\" of leader_df\n",
        "\n",
        "import matplotlib.pyplot as plt\n",
        "\n",
        "sentiment_counts = leader_df['Sentiment'].value_counts()\n",
        "\n",
        "x_values = ['Positive', 'Negative']\n",
        "y_values = [sentiment_counts['LABEL_1'], sentiment_counts['LABEL_0']]\n",
        "\n",
        "plt.bar(x_values, y_values)\n",
        "plt.xlabel('Sentiment')\n",
        "plt.ylabel('Count')\n",
        "plt.title('ALBERT (A Lite BERT)')\n",
        "plt.show()\n"
      ]
    },
    {
      "cell_type": "code",
      "execution_count": null,
      "metadata": {
        "colab": {
          "base_uri": "https://localhost:8080/",
          "height": 487
        },
        "id": "Xxc2aO_oIexf",
        "outputId": "6e8d600e-4d2c-4fae-fcce-2b53c311302d"
      },
      "outputs": [
        {
          "name": "stderr",
          "output_type": "stream",
          "text": [
            "Some weights of the model checkpoint at textattack/roberta-base-SST-2 were not used when initializing RobertaForSequenceClassification: ['roberta.pooler.dense.bias', 'roberta.pooler.dense.weight']\n",
            "- This IS expected if you are initializing RobertaForSequenceClassification from the checkpoint of a model trained on another task or with another architecture (e.g. initializing a BertForSequenceClassification model from a BertForPreTraining model).\n",
            "- This IS NOT expected if you are initializing RobertaForSequenceClassification from the checkpoint of a model that you expect to be exactly identical (initializing a BertForSequenceClassification model from a BertForSequenceClassification model).\n"
          ]
        },
        {
          "data": {
            "text/html": [
              "<div>\n",
              "<style scoped>\n",
              "    .dataframe tbody tr th:only-of-type {\n",
              "        vertical-align: middle;\n",
              "    }\n",
              "\n",
              "    .dataframe tbody tr th {\n",
              "        vertical-align: top;\n",
              "    }\n",
              "\n",
              "    .dataframe thead th {\n",
              "        text-align: right;\n",
              "    }\n",
              "</style>\n",
              "<table border=\"1\" class=\"dataframe\">\n",
              "  <thead>\n",
              "    <tr style=\"text-align: right;\">\n",
              "      <th></th>\n",
              "      <th>Username</th>\n",
              "      <th>Tweet Content</th>\n",
              "      <th>Sentiment</th>\n",
              "    </tr>\n",
              "  </thead>\n",
              "  <tbody>\n",
              "    <tr>\n",
              "      <th>0</th>\n",
              "      <td>cryptosavingexp</td>\n",
              "      <td>\"#ethereum price update: $1421.34 usd 0.073224...</td>\n",
              "      <td>LABEL_0</td>\n",
              "    </tr>\n",
              "    <tr>\n",
              "      <th>1</th>\n",
              "      <td>puritylekutit</td>\n",
              "      <td>\"@janwues do not fear bear markets.they lead t...</td>\n",
              "      <td>LABEL_1</td>\n",
              "    </tr>\n",
              "    <tr>\n",
              "      <th>2</th>\n",
              "      <td>prymxpe</td>\n",
              "      <td>\"@janwues do not fear bear markets.they lead t...</td>\n",
              "      <td>LABEL_1</td>\n",
              "    </tr>\n",
              "    <tr>\n",
              "      <th>3</th>\n",
              "      <td>garygensler</td>\n",
              "      <td>\"@janwues do not fear bear markets.they lead t...</td>\n",
              "      <td>LABEL_1</td>\n",
              "    </tr>\n",
              "    <tr>\n",
              "      <th>4</th>\n",
              "      <td>minerstarmst</td>\n",
              "      <td>\"@janwues do not fear bear markets.they lead t...</td>\n",
              "      <td>LABEL_1</td>\n",
              "    </tr>\n",
              "    <tr>\n",
              "      <th>5</th>\n",
              "      <td>you97953679</td>\n",
              "      <td>\"@botarena_nft i respectfully believe that not...</td>\n",
              "      <td>LABEL_0</td>\n",
              "    </tr>\n",
              "    <tr>\n",
              "      <th>6</th>\n",
              "      <td>binance</td>\n",
              "      <td>\"@botarena_nft i respectfully believe that not...</td>\n",
              "      <td>LABEL_0</td>\n",
              "    </tr>\n",
              "    <tr>\n",
              "      <th>7</th>\n",
              "      <td>cryptolottodao</td>\n",
              "      <td>\"@botarena_nft i respectfully believe that not...</td>\n",
              "      <td>LABEL_0</td>\n",
              "    </tr>\n",
              "    <tr>\n",
              "      <th>8</th>\n",
              "      <td>Adnan25572221</td>\n",
              "      <td>\"@betllerofficial i respectfully believe that ...</td>\n",
              "      <td>LABEL_0</td>\n",
              "    </tr>\n",
              "    <tr>\n",
              "      <th>9</th>\n",
              "      <td>\"@airdropstario</td>\n",
              "      <td>\"@betllerofficial i respectfully believe that ...</td>\n",
              "      <td>LABEL_0</td>\n",
              "    </tr>\n",
              "  </tbody>\n",
              "</table>\n",
              "</div>"
            ],
            "text/plain": [
              "          Username                                      Tweet Content  \\\n",
              "0  cryptosavingexp  \"#ethereum price update: $1421.34 usd 0.073224...   \n",
              "1    puritylekutit  \"@janwues do not fear bear markets.they lead t...   \n",
              "2          prymxpe  \"@janwues do not fear bear markets.they lead t...   \n",
              "3      garygensler  \"@janwues do not fear bear markets.they lead t...   \n",
              "4     minerstarmst  \"@janwues do not fear bear markets.they lead t...   \n",
              "5      you97953679  \"@botarena_nft i respectfully believe that not...   \n",
              "6          binance  \"@botarena_nft i respectfully believe that not...   \n",
              "7   cryptolottodao  \"@botarena_nft i respectfully believe that not...   \n",
              "8    Adnan25572221  \"@betllerofficial i respectfully believe that ...   \n",
              "9  \"@airdropstario  \"@betllerofficial i respectfully believe that ...   \n",
              "\n",
              "  Sentiment  \n",
              "0   LABEL_0  \n",
              "1   LABEL_1  \n",
              "2   LABEL_1  \n",
              "3   LABEL_1  \n",
              "4   LABEL_1  \n",
              "5   LABEL_0  \n",
              "6   LABEL_0  \n",
              "7   LABEL_0  \n",
              "8   LABEL_0  \n",
              "9   LABEL_0  "
            ]
          },
          "execution_count": 14,
          "metadata": {},
          "output_type": "execute_result"
        }
      ],
      "source": [
        "import pandas as pd\n",
        "from transformers import AutoTokenizer, AutoModelForSequenceClassification, pipeline\n",
        "\n",
        "\n",
        "\n",
        "# Load the pre-trained model and tokenizer for sentiment analysis\n",
        "model_name = \"textattack/roberta-base-SST-2\"  #RoBERTa (Robustly optimized BERT approach)\n",
        "tokenizer = AutoTokenizer.from_pretrained(model_name)\n",
        "model = AutoModelForSequenceClassification.from_pretrained(model_name)\n",
        "\n",
        "# Create a sentiment analysis pipeline\n",
        "sentiment_analysis = pipeline(\"sentiment-analysis\", model=model, tokenizer=tokenizer)\n",
        "\n",
        "# Apply the sentiment analysis model to the 'Tweet Content' column\n",
        "leader_df['Sentiment'] = leader_df['Tweet Content'].apply(lambda x: sentiment_analysis(x)[0]['label'])\n",
        "\n",
        "leader_df.head(10)\n"
      ]
    },
    {
      "cell_type": "code",
      "execution_count": null,
      "metadata": {
        "id": "jdHd8L4E-HEc"
      },
      "outputs": [],
      "source": [
        "#leader_df.to_csv('leader_roberta.csv', index=False)\n"
      ]
    },
    {
      "cell_type": "code",
      "execution_count": null,
      "metadata": {
        "colab": {
          "base_uri": "https://localhost:8080/",
          "height": 472
        },
        "id": "pzEmQ8t0Irum",
        "outputId": "dcc84c20-b3b5-4893-bdf0-ef1c50205c9c"
      },
      "outputs": [
        {
          "data": {
            "image/png": "[encoded data removed]",
            "text/plain": [
              "<Figure size 640x480 with 1 Axes>"
            ]
          },
          "metadata": {},
          "output_type": "display_data"
        }
      ],
      "source": [
        "# prompt: Plot a graph where x axis has positive and negative and y axis has their counts for the column \"sentiment\" of leader_df\n",
        "\n",
        "import matplotlib.pyplot as plt\n",
        "\n",
        "sentiment_counts = leader_df['Sentiment'].value_counts()\n",
        "\n",
        "x_values = ['Positive', 'Negative']\n",
        "y_values = [sentiment_counts['LABEL_1'], sentiment_counts['LABEL_0']]\n",
        "\n",
        "plt.bar(x_values, y_values)\n",
        "plt.xlabel('Sentiment')\n",
        "plt.ylabel('Count')\n",
        "plt.title('RoBERTa (Robustly optimized BERT approach)')\n",
        "plt.show()\n"
      ]
    },
    {
      "cell_type": "code",
      "execution_count": null,
      "metadata": {
        "id": "p3jF6L7O-HEd"
      },
      "outputs": [],
      "source": []
    }
  ],
  "metadata": {
    "colab": {
      "provenance": []
    },
    "kernelspec": {
      "display_name": "Python 3 (ipykernel)",
      "language": "python",
      "name": "python3"
    },
    "language_info": {
      "codemirror_mode": {
        "name": "ipython",
        "version": 3
      },
      "file_extension": ".py",
      "mimetype": "text/x-python",
      "name": "python",
      "nbconvert_exporter": "python",
      "pygments_lexer": "ipython3",
      "version": "3.11.7"
    }
  },
  "nbformat": 4,
  "nbformat_minor": 0
}