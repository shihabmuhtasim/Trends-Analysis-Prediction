{
 "cells": [
  {
   "cell_type": "code",
   "execution_count": null,
   "metadata": {
    "executionInfo": {
     "elapsed": 468,
     "status": "ok",
     "timestamp": 1725872767935,
     "user": {
      "displayName": "SHIHAB MUHTASIM",
      "userId": "06646168134231725609"
     },
     "user_tz": -360
    },
    "id": "cYPl9eOFLaXR"
   },
   "outputs": [],
   "source": []
  },
  {
   "cell_type": "code",
   "execution_count": 1,
   "metadata": {
    "colab": {
     "base_uri": "https://localhost:8080/"
    },
    "executionInfo": {
     "elapsed": 5391,
     "status": "ok",
     "timestamp": 1725872773769,
     "user": {
      "displayName": "SHIHAB MUHTASIM",
      "userId": "06646168134231725609"
     },
     "user_tz": -360
    },
    "id": "LsHBvUiBdhPE",
    "outputId": "f26dda0e-983c-45b8-cde0-057c4ed01d61"
   },
   "outputs": [],
   "source": [
    "# from google.colab import drive\n",
    "# drive.mount('/content/drive')"
   ]
  },
  {
   "cell_type": "code",
   "execution_count": 2,
   "metadata": {
    "executionInfo": {
     "elapsed": 4,
     "status": "ok",
     "timestamp": 1725872773769,
     "user": {
      "displayName": "SHIHAB MUHTASIM",
      "userId": "06646168134231725609"
     },
     "user_tz": -360
    },
    "id": "2NbSvBycLY-m"
   },
   "outputs": [],
   "source": [
    "import pandas as pd\n",
    "import numpy as np\n",
    "import seaborn as sns\n",
    "import matplotlib.pyplot as plt\n",
    "# import tensorflow as tf\n",
    "# from tensorflow import keras\n",
    "import itertools\n",
    "from itertools import combinations\n",
    "import networkx as nx\n",
    "from networkx.algorithms.community import greedy_modularity_communities\n",
    "from collections import Counter\n",
    "import nltk\n",
    "from nltk.corpus import stopwords, words as nltk_words\n",
    "from nltk.tokenize import word_tokenize\n",
    "# from wordcloud import WordCloud\n",
    "import matplotlib.cm as cm\n",
    "import re\n",
    "from nltk.stem import WordNetLemmatizer\n",
    "import heapq\n",
    "from tqdm import tqdm\n",
    "\n",
    "# import pycountry\n",
    "# from langdetect import detect\n",
    "# from prettytable import PrettyTable\n",
    "\n"
   ]
  },
  {
   "cell_type": "code",
   "execution_count": 3,
   "metadata": {
    "executionInfo": {
     "elapsed": 4,
     "status": "ok",
     "timestamp": 1725872773769,
     "user": {
      "displayName": "SHIHAB MUHTASIM",
      "userId": "06646168134231725609"
     },
     "user_tz": -360
    },
    "id": "HUkFe6vTs_P7"
   },
   "outputs": [
    {
     "data": {
      "text/html": [
       "<div>\n",
       "<style scoped>\n",
       "    .dataframe tbody tr th:only-of-type {\n",
       "        vertical-align: middle;\n",
       "    }\n",
       "\n",
       "    .dataframe tbody tr th {\n",
       "        vertical-align: top;\n",
       "    }\n",
       "\n",
       "    .dataframe thead th {\n",
       "        text-align: right;\n",
       "    }\n",
       "</style>\n",
       "<table border=\"1\" class=\"dataframe\">\n",
       "  <thead>\n",
       "    <tr style=\"text-align: right;\">\n",
       "      <th></th>\n",
       "      <th>Unnamed: 0</th>\n",
       "      <th>Tweet Id</th>\n",
       "      <th>Tweet Posted Time</th>\n",
       "      <th>Tweet Content</th>\n",
       "      <th>Retweets Received</th>\n",
       "      <th>Likes Received</th>\n",
       "      <th>User  Id</th>\n",
       "      <th>Username</th>\n",
       "      <th>Verified or Non-Verified</th>\n",
       "      <th>User Followers</th>\n",
       "      <th>User Following</th>\n",
       "      <th>Hour</th>\n",
       "      <th>Frequency</th>\n",
       "      <th>Tweet Type_encoded</th>\n",
       "      <th>Average Likes</th>\n",
       "      <th>Average Retweets</th>\n",
       "    </tr>\n",
       "  </thead>\n",
       "  <tbody>\n",
       "    <tr>\n",
       "      <th>0</th>\n",
       "      <td>1</td>\n",
       "      <td>\"1570341208844808192\"</td>\n",
       "      <td>2022-09-15 09:18:14</td>\n",
       "      <td>\"businesses that accept #bitcoin can undercut ...</td>\n",
       "      <td>0</td>\n",
       "      <td>0.0</td>\n",
       "      <td>\"1000157817528049664\"</td>\n",
       "      <td>kenobi_d</td>\n",
       "      <td>0</td>\n",
       "      <td>954</td>\n",
       "      <td>3872</td>\n",
       "      <td>0.0</td>\n",
       "      <td>1</td>\n",
       "      <td>0</td>\n",
       "      <td>0.0</td>\n",
       "      <td>0.0</td>\n",
       "    </tr>\n",
       "    <tr>\n",
       "      <th>1</th>\n",
       "      <td>2</td>\n",
       "      <td>\"1570467945327001601\"</td>\n",
       "      <td>2022-09-15 17:41:50</td>\n",
       "      <td>\"#bitcoin is the end of counterfeiting.\"</td>\n",
       "      <td>0</td>\n",
       "      <td>0.0</td>\n",
       "      <td>\"1000157817528049664\"</td>\n",
       "      <td>kenobi_d</td>\n",
       "      <td>0</td>\n",
       "      <td>953</td>\n",
       "      <td>3877</td>\n",
       "      <td>8.0</td>\n",
       "      <td>2</td>\n",
       "      <td>0</td>\n",
       "      <td>0.0</td>\n",
       "      <td>0.0</td>\n",
       "    </tr>\n",
       "    <tr>\n",
       "      <th>2</th>\n",
       "      <td>3</td>\n",
       "      <td>\"1570750327787524098\"</td>\n",
       "      <td>2022-09-16 12:23:55</td>\n",
       "      <td>\"#bitcoin rabbit hole\"</td>\n",
       "      <td>0</td>\n",
       "      <td>1.0</td>\n",
       "      <td>\"1000157817528049664\"</td>\n",
       "      <td>kenobi_d</td>\n",
       "      <td>0</td>\n",
       "      <td>953</td>\n",
       "      <td>3879</td>\n",
       "      <td>27.0</td>\n",
       "      <td>1</td>\n",
       "      <td>2</td>\n",
       "      <td>1.0</td>\n",
       "      <td>0.0</td>\n",
       "    </tr>\n",
       "    <tr>\n",
       "      <th>3</th>\n",
       "      <td>4</td>\n",
       "      <td>\"1570603685201457153\"</td>\n",
       "      <td>2022-09-16 02:41:13</td>\n",
       "      <td>\"$54.94 to uber downtown and back only to find...</td>\n",
       "      <td>0</td>\n",
       "      <td>1.0</td>\n",
       "      <td>\"1000501176411000832\"</td>\n",
       "      <td>Schmieglese</td>\n",
       "      <td>0</td>\n",
       "      <td>1406</td>\n",
       "      <td>813</td>\n",
       "      <td>17.0</td>\n",
       "      <td>1</td>\n",
       "      <td>2</td>\n",
       "      <td>1.0</td>\n",
       "      <td>0.0</td>\n",
       "    </tr>\n",
       "    <tr>\n",
       "      <th>4</th>\n",
       "      <td>5</td>\n",
       "      <td>\"1570768653045633024\"</td>\n",
       "      <td>2022-09-16 13:36:45</td>\n",
       "      <td>\"c'mon #bitcoin we're waiting 😅</td>\n",
       "      <td>0</td>\n",
       "      <td>0.0</td>\n",
       "      <td>\"1001913907391401989\"</td>\n",
       "      <td>mynameisraul__</td>\n",
       "      <td>0</td>\n",
       "      <td>33</td>\n",
       "      <td>234</td>\n",
       "      <td>28.0</td>\n",
       "      <td>1</td>\n",
       "      <td>0</td>\n",
       "      <td>0.0</td>\n",
       "      <td>0.0</td>\n",
       "    </tr>\n",
       "  </tbody>\n",
       "</table>\n",
       "</div>"
      ],
      "text/plain": [
       "   Unnamed: 0               Tweet Id    Tweet Posted Time  \\\n",
       "0           1  \"1570341208844808192\"  2022-09-15 09:18:14   \n",
       "1           2  \"1570467945327001601\"  2022-09-15 17:41:50   \n",
       "2           3  \"1570750327787524098\"  2022-09-16 12:23:55   \n",
       "3           4  \"1570603685201457153\"  2022-09-16 02:41:13   \n",
       "4           5  \"1570768653045633024\"  2022-09-16 13:36:45   \n",
       "\n",
       "                                       Tweet Content  Retweets Received  \\\n",
       "0  \"businesses that accept #bitcoin can undercut ...                  0   \n",
       "1           \"#bitcoin is the end of counterfeiting.\"                  0   \n",
       "2                             \"#bitcoin rabbit hole\"                  0   \n",
       "3  \"$54.94 to uber downtown and back only to find...                  0   \n",
       "4                   \"c'mon #bitcoin we're waiting 😅                   0   \n",
       "\n",
       "   Likes Received               User  Id        Username  \\\n",
       "0             0.0  \"1000157817528049664\"        kenobi_d   \n",
       "1             0.0  \"1000157817528049664\"        kenobi_d   \n",
       "2             1.0  \"1000157817528049664\"        kenobi_d   \n",
       "3             1.0  \"1000501176411000832\"     Schmieglese   \n",
       "4             0.0  \"1001913907391401989\"  mynameisraul__   \n",
       "\n",
       "   Verified or Non-Verified  User Followers  User Following  Hour  Frequency  \\\n",
       "0                         0             954            3872   0.0          1   \n",
       "1                         0             953            3877   8.0          2   \n",
       "2                         0             953            3879  27.0          1   \n",
       "3                         0            1406             813  17.0          1   \n",
       "4                         0              33             234  28.0          1   \n",
       "\n",
       "   Tweet Type_encoded  Average Likes  Average Retweets  \n",
       "0                   0            0.0               0.0  \n",
       "1                   0            0.0               0.0  \n",
       "2                   2            1.0               0.0  \n",
       "3                   2            1.0               0.0  \n",
       "4                   0            0.0               0.0  "
      ]
     },
     "execution_count": 3,
     "metadata": {},
     "output_type": "execute_result"
    }
   ],
   "source": [
    "\n",
    "df = pd.read_csv('C:/Users/21301610/Downloads/code/combine/data_lstm_processed_unique_perhour_avg_values_combine_test.csv')\n",
    "df.head()\n"
   ]
  },
  {
   "cell_type": "code",
   "execution_count": 4,
   "metadata": {},
   "outputs": [
    {
     "data": {
      "text/plain": [
       "(15167, 16)"
      ]
     },
     "execution_count": 4,
     "metadata": {},
     "output_type": "execute_result"
    }
   ],
   "source": [
    "df.shape"
   ]
  },
  {
   "cell_type": "code",
   "execution_count": 5,
   "metadata": {},
   "outputs": [
    {
     "name": "stdout",
     "output_type": "stream",
     "text": [
      "Average Frequency: 1.7213028285092635\n"
     ]
    }
   ],
   "source": [
    "import pandas as pd\n",
    "\n",
    "# Assuming df is your DataFrame\n",
    "# Calculate the mean of the 'Frequency' column\n",
    "average_frequency = df['Frequency'].mean()\n",
    "\n",
    "# Print the average frequency\n",
    "print(\"Average Frequency:\", average_frequency)\n"
   ]
  },
  {
   "cell_type": "code",
   "execution_count": 6,
   "metadata": {},
   "outputs": [
    {
     "name": "stdout",
     "output_type": "stream",
     "text": [
      "Top 30 frequencies:\n",
      "       Frequency\n",
      "14016         96\n",
      "8171          79\n",
      "8168          67\n",
      "9900          60\n",
      "9870          60\n",
      "9897          60\n",
      "9888          60\n",
      "9881          60\n",
      "9893          60\n",
      "9885          60\n",
      "9878          60\n",
      "9875          60\n",
      "9872          59\n",
      "9891          59\n",
      "9892          59\n",
      "9886          59\n",
      "9890          59\n",
      "9889          59\n",
      "9894          59\n",
      "9869          59\n",
      "9895          59\n",
      "9868          59\n",
      "9871          59\n",
      "9867          59\n",
      "9866          59\n",
      "9876          59\n",
      "9896          59\n",
      "9874          59\n",
      "9873          59\n",
      "9880          59\n"
     ]
    }
   ],
   "source": [
    "import pandas as pd\n",
    "\n",
    "# Assuming df is your DataFrame\n",
    "# Sort the DataFrame by the 'Frequency' column in descending order\n",
    "top_frequencies = df.sort_values(by='Frequency', ascending=False).head(30)\n",
    "\n",
    "# Print the top 30 frequencies\n",
    "print(\"Top 30 frequencies:\")\n",
    "print(top_frequencies[['Frequency']])\n"
   ]
  },
  {
   "cell_type": "code",
   "execution_count": 7,
   "metadata": {},
   "outputs": [
    {
     "data": {
      "text/plain": [
       "(15167, 16)"
      ]
     },
     "execution_count": 7,
     "metadata": {},
     "output_type": "execute_result"
    }
   ],
   "source": [
    "df.shape"
   ]
  },
  {
   "cell_type": "code",
   "execution_count": 8,
   "metadata": {
    "colab": {
     "base_uri": "https://localhost:8080/",
     "height": 432
    },
    "executionInfo": {
     "elapsed": 752,
     "status": "ok",
     "timestamp": 1725872774518,
     "user": {
      "displayName": "SHIHAB MUHTASIM",
      "userId": "06646168134231725609"
     },
     "user_tz": -360
    },
    "id": "DBq1MazbLbZ8",
    "outputId": "976ecdbe-8eed-42f3-ccae-8ce9b0ce9c4b"
   },
   "outputs": [],
   "source": [
    "# df = pd.read_csv('/content/drive/MyDrive/A. Shihab work station/Thesis(Shihab, Raiyan)/Thesis data/data_lstm_processed_unique_perhour_avg_values.csv')\n",
    "# df.head()"
   ]
  },
  {
   "cell_type": "code",
   "execution_count": null,
   "metadata": {
    "executionInfo": {
     "elapsed": 13,
     "status": "ok",
     "timestamp": 1725872774518,
     "user": {
      "displayName": "SHIHAB MUHTASIM",
      "userId": "06646168134231725609"
     },
     "user_tz": -360
    },
    "id": "xgJMwvc_8Hd-"
   },
   "outputs": [],
   "source": []
  },
  {
   "cell_type": "code",
   "execution_count": 9,
   "metadata": {
    "colab": {
     "base_uri": "https://localhost:8080/",
     "height": 206
    },
    "executionInfo": {
     "elapsed": 13,
     "status": "ok",
     "timestamp": 1725872774518,
     "user": {
      "displayName": "SHIHAB MUHTASIM",
      "userId": "06646168134231725609"
     },
     "user_tz": -360
    },
    "id": "p42s_ektLkMB",
    "outputId": "5c1c7896-0138-475b-f367-bed3a6b98409"
   },
   "outputs": [
    {
     "data": {
      "text/html": [
       "<div>\n",
       "<style scoped>\n",
       "    .dataframe tbody tr th:only-of-type {\n",
       "        vertical-align: middle;\n",
       "    }\n",
       "\n",
       "    .dataframe tbody tr th {\n",
       "        vertical-align: top;\n",
       "    }\n",
       "\n",
       "    .dataframe thead th {\n",
       "        text-align: right;\n",
       "    }\n",
       "</style>\n",
       "<table border=\"1\" class=\"dataframe\">\n",
       "  <thead>\n",
       "    <tr style=\"text-align: right;\">\n",
       "      <th></th>\n",
       "      <th>Retweets Received</th>\n",
       "      <th>Likes Received</th>\n",
       "      <th>User  Id</th>\n",
       "      <th>Hour</th>\n",
       "      <th>Frequency</th>\n",
       "      <th>Verified or Non-Verified</th>\n",
       "      <th>User Followers</th>\n",
       "      <th>User Following</th>\n",
       "      <th>Average Likes</th>\n",
       "      <th>Average Retweets</th>\n",
       "    </tr>\n",
       "  </thead>\n",
       "  <tbody>\n",
       "    <tr>\n",
       "      <th>0</th>\n",
       "      <td>0</td>\n",
       "      <td>0.0</td>\n",
       "      <td>\"1000157817528049664\"</td>\n",
       "      <td>0.0</td>\n",
       "      <td>1</td>\n",
       "      <td>0</td>\n",
       "      <td>954</td>\n",
       "      <td>3872</td>\n",
       "      <td>0.0</td>\n",
       "      <td>0.0</td>\n",
       "    </tr>\n",
       "    <tr>\n",
       "      <th>1</th>\n",
       "      <td>0</td>\n",
       "      <td>0.0</td>\n",
       "      <td>\"1000157817528049664\"</td>\n",
       "      <td>8.0</td>\n",
       "      <td>2</td>\n",
       "      <td>0</td>\n",
       "      <td>953</td>\n",
       "      <td>3877</td>\n",
       "      <td>0.0</td>\n",
       "      <td>0.0</td>\n",
       "    </tr>\n",
       "    <tr>\n",
       "      <th>2</th>\n",
       "      <td>0</td>\n",
       "      <td>1.0</td>\n",
       "      <td>\"1000157817528049664\"</td>\n",
       "      <td>27.0</td>\n",
       "      <td>1</td>\n",
       "      <td>0</td>\n",
       "      <td>953</td>\n",
       "      <td>3879</td>\n",
       "      <td>1.0</td>\n",
       "      <td>0.0</td>\n",
       "    </tr>\n",
       "    <tr>\n",
       "      <th>3</th>\n",
       "      <td>0</td>\n",
       "      <td>1.0</td>\n",
       "      <td>\"1000501176411000832\"</td>\n",
       "      <td>17.0</td>\n",
       "      <td>1</td>\n",
       "      <td>0</td>\n",
       "      <td>1406</td>\n",
       "      <td>813</td>\n",
       "      <td>1.0</td>\n",
       "      <td>0.0</td>\n",
       "    </tr>\n",
       "    <tr>\n",
       "      <th>4</th>\n",
       "      <td>0</td>\n",
       "      <td>0.0</td>\n",
       "      <td>\"1001913907391401989\"</td>\n",
       "      <td>28.0</td>\n",
       "      <td>1</td>\n",
       "      <td>0</td>\n",
       "      <td>33</td>\n",
       "      <td>234</td>\n",
       "      <td>0.0</td>\n",
       "      <td>0.0</td>\n",
       "    </tr>\n",
       "  </tbody>\n",
       "</table>\n",
       "</div>"
      ],
      "text/plain": [
       "   Retweets Received  Likes Received               User  Id  Hour  Frequency  \\\n",
       "0                  0             0.0  \"1000157817528049664\"   0.0          1   \n",
       "1                  0             0.0  \"1000157817528049664\"   8.0          2   \n",
       "2                  0             1.0  \"1000157817528049664\"  27.0          1   \n",
       "3                  0             1.0  \"1000501176411000832\"  17.0          1   \n",
       "4                  0             0.0  \"1001913907391401989\"  28.0          1   \n",
       "\n",
       "   Verified or Non-Verified  User Followers  User Following  Average Likes  \\\n",
       "0                         0             954            3872            0.0   \n",
       "1                         0             953            3877            0.0   \n",
       "2                         0             953            3879            1.0   \n",
       "3                         0            1406             813            1.0   \n",
       "4                         0              33             234            0.0   \n",
       "\n",
       "   Average Retweets  \n",
       "0               0.0  \n",
       "1               0.0  \n",
       "2               0.0  \n",
       "3               0.0  \n",
       "4               0.0  "
      ]
     },
     "execution_count": 9,
     "metadata": {},
     "output_type": "execute_result"
    }
   ],
   "source": [
    "columns_to_keep = [#'Tweet Type_encoded',\n",
    "                   'Retweets Received', 'Likes Received',\n",
    "        'User  Id', 'Hour', 'Frequency', 'Verified or Non-Verified',  'User Followers',\n",
    "       'User Following', 'Average Likes', 'Average Retweets']\n",
    "\n",
    "df = df[columns_to_keep]\n",
    "df.head()"
   ]
  },
  {
   "cell_type": "code",
   "execution_count": 10,
   "metadata": {
    "colab": {
     "base_uri": "https://localhost:8080/"
    },
    "executionInfo": {
     "elapsed": 12,
     "status": "ok",
     "timestamp": 1725872774518,
     "user": {
      "displayName": "SHIHAB MUHTASIM",
      "userId": "06646168134231725609"
     },
     "user_tz": -360
    },
    "id": "TMfKms_GN99q",
    "outputId": "19728811-6f6e-434d-acd1-c37f612f07c8"
   },
   "outputs": [
    {
     "name": "stdout",
     "output_type": "stream",
     "text": [
      "[0.0, 1.0, 2.0, 3.0, 4.0, 5.0, 6.0, 7.0, 8.0, 9.0, 10.0, 11.0, 12.0, 13.0, 14.0, 15.0, 16.0, 17.0, 18.0, 19.0, 20.0, 21.0, 22.0, 23.0, 24.0, 25.0, 26.0, 27.0, 28.0, 29.0, 30.0, 31.0, 32.0, 33.0, 34.0, 35.0, 36.0, 37.0, 38.0]\n"
     ]
    }
   ],
   "source": [
    "# prompt: printing total unique values of hour sorted\n",
    "\n",
    "print(sorted(df['Hour'].unique()))\n"
   ]
  },
  {
   "cell_type": "code",
   "execution_count": 11,
   "metadata": {
    "colab": {
     "base_uri": "https://localhost:8080/",
     "height": 206
    },
    "executionInfo": {
     "elapsed": 10,
     "status": "ok",
     "timestamp": 1725872774518,
     "user": {
      "displayName": "SHIHAB MUHTASIM",
      "userId": "06646168134231725609"
     },
     "user_tz": -360
    },
    "id": "NrKlhuHmOqRK",
    "outputId": "1009fd36-a48e-4244-9aa1-90dc87e6cb53"
   },
   "outputs": [],
   "source": [
    "# # # prompt: take a random shuffled subset of the df of like 10%\n",
    "\n",
    "# df = df.sample(frac=0.01, random_state=42)\n",
    "# df.head()\n"
   ]
  },
  {
   "cell_type": "code",
   "execution_count": 12,
   "metadata": {
    "colab": {
     "base_uri": "https://localhost:8080/"
    },
    "executionInfo": {
     "elapsed": 9,
     "status": "ok",
     "timestamp": 1725872774518,
     "user": {
      "displayName": "SHIHAB MUHTASIM",
      "userId": "06646168134231725609"
     },
     "user_tz": -360
    },
    "id": "dtzj7K8UPJCv",
    "outputId": "b09f2ec3-853f-406a-cce6-f3b49b3a5f95"
   },
   "outputs": [
    {
     "data": {
      "text/plain": [
       "(15167, 10)"
      ]
     },
     "execution_count": 12,
     "metadata": {},
     "output_type": "execute_result"
    }
   ],
   "source": [
    "df.shape"
   ]
  },
  {
   "cell_type": "code",
   "execution_count": 13,
   "metadata": {
    "executionInfo": {
     "elapsed": 23555,
     "status": "ok",
     "timestamp": 1725872798066,
     "user": {
      "displayName": "SHIHAB MUHTASIM",
      "userId": "06646168134231725609"
     },
     "user_tz": -360
    },
    "id": "JLQSufFNMLpg"
   },
   "outputs": [],
   "source": [
    "# prompt: I want to process this for LSTM. so creating a vector, inside that for each user there will be a separate vector- inside which for each hour there will be 38 vectors for 38 hours of data. inside each hour vector there will be the data of Tweet Type_encoded\tRetweets Received\tLikes Received  Frequency\tVerified or Non-Verified\tUser Followers\tUser Following. shape like [[[],[]..],[[],[]...]..]\n",
    "\n",
    "def create_user_vector(df):\n",
    "  user_vector = []\n",
    "  for user_id in df['User  Id'].unique():\n",
    "    user_df = df[df['User  Id'] == user_id]\n",
    "    hour_vector = []\n",
    "    for hour in range(39):\n",
    "      hour_df = user_df[user_df['Hour'] == hour]\n",
    "      if not hour_df.empty:\n",
    "        features = hour_df[['Retweets Received', 'Likes Received', 'Verified or Non-Verified', 'User Followers', 'User Following','Average Likes', 'Average Retweets','Frequency']].values.tolist()[0]\n",
    "        hour_vector.append(features)\n",
    "      else:\n",
    "        hour_vector.append([0] * 8)  # Pad with zeros if no data for that hour\n",
    "    user_vector.append(hour_vector)\n",
    "  return user_vector\n",
    "\n",
    "lstm_data = create_user_vector(df)\n"
   ]
  },
  {
   "cell_type": "code",
   "execution_count": 14,
   "metadata": {
    "colab": {
     "base_uri": "https://localhost:8080/"
    },
    "executionInfo": {
     "elapsed": 36,
     "status": "ok",
     "timestamp": 1725872798068,
     "user": {
      "displayName": "SHIHAB MUHTASIM",
      "userId": "06646168134231725609"
     },
     "user_tz": -360
    },
    "id": "Hz9dgAwqOYCz",
    "outputId": "361f7a47-de55-4104-fc3a-ff5a06c5b88e",
    "scrolled": true
   },
   "outputs": [
    {
     "name": "stdout",
     "output_type": "stream",
     "text": [
      "Shape of lstm_data: (9550, 39, 8)\n",
      "\n",
      "First user's data for the first 5 hours:\n",
      "Hour 0: [0.0, 0.0, 0.0, 954.0, 3872.0, 0.0, 0.0, 1.0]\n",
      "Hour 1: [0, 0, 0, 0, 0, 0, 0, 0]\n",
      "Hour 2: [0, 0, 0, 0, 0, 0, 0, 0]\n",
      "Hour 3: [0, 0, 0, 0, 0, 0, 0, 0]\n",
      "Hour 4: [0, 0, 0, 0, 0, 0, 0, 0]\n",
      "Hour 5: [0, 0, 0, 0, 0, 0, 0, 0]\n",
      "Hour 6: [0, 0, 0, 0, 0, 0, 0, 0]\n",
      "Hour 7: [0, 0, 0, 0, 0, 0, 0, 0]\n",
      "Hour 8: [0.0, 0.0, 0.0, 953.0, 3877.0, 0.0, 0.0, 2.0]\n",
      "Hour 9: [0, 0, 0, 0, 0, 0, 0, 0]\n",
      "Hour 10: [0, 0, 0, 0, 0, 0, 0, 0]\n",
      "Hour 11: [0, 0, 0, 0, 0, 0, 0, 0]\n",
      "Hour 12: [0, 0, 0, 0, 0, 0, 0, 0]\n",
      "Hour 13: [0, 0, 0, 0, 0, 0, 0, 0]\n",
      "Hour 14: [0, 0, 0, 0, 0, 0, 0, 0]\n",
      "Hour 15: [0, 0, 0, 0, 0, 0, 0, 0]\n",
      "Hour 16: [0, 0, 0, 0, 0, 0, 0, 0]\n",
      "Hour 17: [0, 0, 0, 0, 0, 0, 0, 0]\n",
      "Hour 18: [0, 0, 0, 0, 0, 0, 0, 0]\n",
      "Hour 19: [0, 0, 0, 0, 0, 0, 0, 0]\n",
      "Hour 20: [0, 0, 0, 0, 0, 0, 0, 0]\n",
      "Hour 21: [0, 0, 0, 0, 0, 0, 0, 0]\n",
      "Hour 22: [0, 0, 0, 0, 0, 0, 0, 0]\n",
      "Hour 23: [0, 0, 0, 0, 0, 0, 0, 0]\n",
      "Hour 24: [0, 0, 0, 0, 0, 0, 0, 0]\n",
      "Hour 25: [0, 0, 0, 0, 0, 0, 0, 0]\n",
      "Hour 26: [0, 0, 0, 0, 0, 0, 0, 0]\n",
      "Hour 27: [0.0, 1.0, 0.0, 953.0, 3879.0, 1.0, 0.0, 1.0]\n",
      "Hour 28: [0, 0, 0, 0, 0, 0, 0, 0]\n",
      "Hour 29: [0, 0, 0, 0, 0, 0, 0, 0]\n",
      "Hour 30: [0, 0, 0, 0, 0, 0, 0, 0]\n",
      "Hour 31: [0, 0, 0, 0, 0, 0, 0, 0]\n",
      "Hour 32: [0, 0, 0, 0, 0, 0, 0, 0]\n",
      "Hour 33: [0, 0, 0, 0, 0, 0, 0, 0]\n",
      "Hour 34: [0, 0, 0, 0, 0, 0, 0, 0]\n",
      "Hour 35: [0, 0, 0, 0, 0, 0, 0, 0]\n",
      "Hour 36: [0, 0, 0, 0, 0, 0, 0, 0]\n",
      "Hour 37: [0, 0, 0, 0, 0, 0, 0, 0]\n",
      "Hour 38: [0, 0, 0, 0, 0, 0, 0, 0]\n",
      "\n",
      "First 5 users' data for the first hour:\n",
      "User 0: [0.0, 0.0, 0.0, 954.0, 3872.0, 0.0, 0.0, 1.0]\n",
      "User 1: [0, 0, 0, 0, 0, 0, 0, 0]\n",
      "User 2: [0, 0, 0, 0, 0, 0, 0, 0]\n",
      "User 3: [0, 0, 0, 0, 0, 0, 0, 0]\n",
      "User 4: [0, 0, 0, 0, 0, 0, 0, 0]\n"
     ]
    }
   ],
   "source": [
    "# prompt: printing some of lstm_data in a way to help me visualize it's structure properly.  also printing its dimensions.\n",
    "\n",
    "# Print the shape of the lstm_data\n",
    "print(\"Shape of lstm_data:\", np.array(lstm_data).shape)\n",
    "\n",
    "# Print the first user's data for the first 5 hours\n",
    "print(\"\\nFirst user's data for the first 5 hours:\")\n",
    "for i in range(39):\n",
    "  print(f\"Hour {i}: {lstm_data[0][i]}\")\n",
    "\n",
    "# Print the first 5 users' data for the first hour\n",
    "print(\"\\nFirst 5 users' data for the first hour:\")\n",
    "for i in range(5):\n",
    "  print(f\"User {i}: {lstm_data[i][0]}\")\n"
   ]
  },
  {
   "cell_type": "code",
   "execution_count": 15,
   "metadata": {
    "colab": {
     "base_uri": "https://localhost:8080/"
    },
    "executionInfo": {
     "elapsed": 35,
     "status": "ok",
     "timestamp": 1725872798068,
     "user": {
      "displayName": "SHIHAB MUHTASIM",
      "userId": "06646168134231725609"
     },
     "user_tz": -360
    },
    "id": "DonoJVecParD",
    "outputId": "9b347309-455f-4ada-f3a5-ac7e303a3ef3"
   },
   "outputs": [
    {
     "data": {
      "text/plain": [
       "9550"
      ]
     },
     "execution_count": 15,
     "metadata": {},
     "output_type": "execute_result"
    }
   ],
   "source": [
    "# prompt: total number of unique user  ids in df\n",
    "\n",
    "len(df['User  Id'].unique())\n"
   ]
  },
  {
   "cell_type": "code",
   "execution_count": 16,
   "metadata": {
    "executionInfo": {
     "elapsed": 33,
     "status": "ok",
     "timestamp": 1725872798068,
     "user": {
      "displayName": "SHIHAB MUHTASIM",
      "userId": "06646168134231725609"
     },
     "user_tz": -360
    },
    "id": "ZbY47XwyPzMG"
   },
   "outputs": [],
   "source": [
    "# # prompt:  imputing for the data in lstm_data to make sure the hours data which has no data because there is no user  id, those are not filled wth zeros only.\n",
    "\n",
    "# def impute_missing_data(lstm_data):\n",
    "#   for user_data in lstm_data:\n",
    "#     for hour in range(39):\n",
    "#       if user_data[hour] == [0] * 8:\n",
    "#         # Impute with the average of the previous and next hour's data\n",
    "#         prev_hour = (hour - 1) % 39\n",
    "#         next_hour = (hour + 1) % 39\n",
    "#         if user_data[prev_hour] != [0] * 8 or user_data[next_hour] != [0] * 8:\n",
    "#           imputed_data = [(a + b) / 2 for a, b in zip(user_data[prev_hour], user_data[next_hour])]\n",
    "#           user_data[hour] = imputed_data\n",
    "#   return lstm_data\n",
    "\n",
    "# lstm_data = impute_missing_data(lstm_data)\n"
   ]
  },
  {
   "cell_type": "code",
   "execution_count": 17,
   "metadata": {
    "executionInfo": {
     "elapsed": 32,
     "status": "ok",
     "timestamp": 1725872798068,
     "user": {
      "displayName": "SHIHAB MUHTASIM",
      "userId": "06646168134231725609"
     },
     "user_tz": -360
    },
    "id": "YKPsun-ZT96l"
   },
   "outputs": [],
   "source": [
    "# # prompt: similar to last imputing moving forward. do a backward check to impute the earlier values.\n",
    "\n",
    "# def impute_missing_data_backward(lstm_data):\n",
    "#   for user_data in lstm_data:\n",
    "#     for hour in range(38, -1, -1):  # Iterate backwards\n",
    "#       if user_data[hour] == [0] * 8:\n",
    "#         # Impute with the average of the previous and next hour's data\n",
    "#         prev_hour = (hour - 1) % 39\n",
    "#         next_hour = (hour + 1) % 39\n",
    "#         if user_data[prev_hour] != [0] * 8 or user_data[next_hour] != [0] * 8:\n",
    "#           imputed_data = [(a + b) / 2 for a, b in zip(user_data[prev_hour], user_data[next_hour])]\n",
    "#           user_data[hour] = imputed_data\n",
    "#   return lstm_data\n",
    "\n",
    "# lstm_data = impute_missing_data_backward(lstm_data)\n"
   ]
  },
  {
   "cell_type": "code",
   "execution_count": null,
   "metadata": {},
   "outputs": [],
   "source": []
  },
  {
   "cell_type": "code",
   "execution_count": 18,
   "metadata": {},
   "outputs": [
    {
     "name": "stdout",
     "output_type": "stream",
     "text": [
      "Original lstm_data_array shape: (9550, 39, 8)\n",
      "Shape of X (all columns except last): (9550, 39, 7)\n",
      "Shape of last_column (last column only): (9550, 39)\n",
      "Shape of X_reshaped for scaling: (372450, 7)\n",
      "Shape of last_column_reshaped for scaling: (372450, 1)\n",
      "Shape of X_scaled after transformation: (372450, 7)\n",
      "Shape of last_column_scaled after transformation: (372450, 1)\n",
      "Shape of X_scaled after reshaping: (9550, 39, 7)\n",
      "Shape of last_column_scaled after reshaping: (9550, 39, 1)\n",
      "Shape of lstm_data_normalized after concatenation: (9550, 39, 8)\n"
     ]
    }
   ],
   "source": [
    "import numpy as np\n",
    "from sklearn.preprocessing import StandardScaler\n",
    "\n",
    "# Assuming lstm_data is your original data\n",
    "\n",
    "# Convert lstm_data to a numpy array\n",
    "lstm_data_array = np.array(lstm_data)\n",
    "print(\"Original lstm_data_array shape:\", lstm_data_array.shape)\n",
    "\n",
    "# Separate the last column from the rest of the data\n",
    "X = lstm_data_array[:, :, :-1]  # All columns except the last one\n",
    "last_column = lstm_data_array[:, :, -1]  # Last column only\n",
    "print(\"Shape of X (all columns except last):\", X.shape)\n",
    "print(\"Shape of last_column (last column only):\", last_column.shape)\n",
    "\n",
    "# Reshape for scaling\n",
    "X_reshaped = X.reshape(-1, X.shape[-1])\n",
    "last_column_reshaped = last_column.reshape(-1, 1)\n",
    "print(\"Shape of X_reshaped for scaling:\", X_reshaped.shape)\n",
    "print(\"Shape of last_column_reshaped for scaling:\", last_column_reshaped.shape)\n",
    "\n",
    "# Create StandardScaler objects for different scaling\n",
    "scaler_X = StandardScaler()\n",
    "scaler_last = StandardScaler()\n",
    "\n",
    "# Fit and transform the data\n",
    "X_scaled = scaler_X.fit_transform(X_reshaped)\n",
    "last_column_scaled = scaler_last.fit_transform(last_column_reshaped)\n",
    "print(\"Shape of X_scaled after transformation:\", X_scaled.shape)\n",
    "print(\"Shape of last_column_scaled after transformation:\", last_column_scaled.shape)\n",
    "\n",
    "# Reshape back to the original shape\n",
    "X_scaled = X_scaled.reshape(lstm_data_array.shape[0], lstm_data_array.shape[1], -1)\n",
    "last_column_scaled = last_column_scaled.reshape(lstm_data_array.shape[0], lstm_data_array.shape[1], 1)\n",
    "\n",
    "print(\"Shape of X_scaled after reshaping:\", X_scaled.shape)\n",
    "print(\"Shape of last_column_scaled after reshaping:\", last_column_scaled.shape)\n",
    "\n",
    "# Concatenate the scaled data\n",
    "lstm_data_normalized = np.concatenate((X_scaled, last_column_scaled), axis=-1)\n",
    "print(\"Shape of lstm_data_normalized after concatenation:\", lstm_data_normalized.shape)\n"
   ]
  },
  {
   "cell_type": "code",
   "execution_count": 19,
   "metadata": {
    "colab": {
     "base_uri": "https://localhost:8080/"
    },
    "executionInfo": {
     "elapsed": 26,
     "status": "ok",
     "timestamp": 1725872798069,
     "user": {
      "displayName": "SHIHAB MUHTASIM",
      "userId": "06646168134231725609"
     },
     "user_tz": -360
    },
    "id": "AvvZiyHeUf0b",
    "outputId": "d6a6d4dc-69c4-4e86-8917-9315589962fb"
   },
   "outputs": [],
   "source": [
    "# # prompt: print some of lstm_data in a way to help me visualize it's structure properly.  also print its dimensions.\n",
    "\n",
    "# # Print the shape of the lstm_data\n",
    "# print(\"Shape of lstm_data:\", np.array(lstm_data_normalized).shape)\n",
    "\n",
    "# # Print the first user's data for the first 5 hours\n",
    "# print(\"\\nFirst user's data for the first 5 hours:\")\n",
    "# for i in range(39):\n",
    "#   print(f\"Hour {i}: {lstm_data_normalized[0][i]}\")\n",
    "\n",
    "# # Print the first 5 users' data for the first hour\n",
    "# print(\"\\nFirst 5 users' data for the first hour:\")\n",
    "# for i in range(5):\n",
    "#   print(f\"User {i}: {lstm_data_normalized[i][0]}\")\n"
   ]
  },
  {
   "cell_type": "code",
   "execution_count": 20,
   "metadata": {
    "colab": {
     "base_uri": "https://localhost:8080/"
    },
    "executionInfo": {
     "elapsed": 24,
     "status": "ok",
     "timestamp": 1725872798069,
     "user": {
      "displayName": "SHIHAB MUHTASIM",
      "userId": "06646168134231725609"
     },
     "user_tz": -360
    },
    "id": "DWHhouKFU0Bl",
    "outputId": "a7800997-e153-4b2f-9c3c-82bc87030f79"
   },
   "outputs": [],
   "source": [
    "\n",
    "test_data = lstm_data_normalized"
   ]
  },
  {
   "cell_type": "code",
   "execution_count": 21,
   "metadata": {
    "colab": {
     "base_uri": "https://localhost:8080/"
    },
    "executionInfo": {
     "elapsed": 21,
     "status": "ok",
     "timestamp": 1725872798069,
     "user": {
      "displayName": "SHIHAB MUHTASIM",
      "userId": "06646168134231725609"
     },
     "user_tz": -360
    },
    "id": "lAYnPFDNUrdi",
    "outputId": "0910de44-0534-4bf4-b47d-bd74500b316c"
   },
   "outputs": [
    {
     "name": "stdout",
     "output_type": "stream",
     "text": [
      "Test x shape: (9550, 38, 8)\n",
      "Test y shape: (9550, 1, 8)\n"
     ]
    }
   ],
   "source": [
    "# prompt: so the shape is (1059, 39, 7) for train_data. from this, create train_x so that the shape is (1059,37,7). hence for each instance take only the first 37 in x and create train_y where for each user the last 2 will be there with shape (1059,2,7)\n",
    "\n",
    "\n",
    "test_x = test_data[:, :38, :]\n",
    "test_y = test_data[:, 38:, :]\n",
    "\n",
    "print(\"Test x shape:\", test_x.shape)\n",
    "print(\"Test y shape:\", test_y.shape)\n",
    "\n"
   ]
  },
  {
   "cell_type": "code",
   "execution_count": 22,
   "metadata": {
    "colab": {
     "base_uri": "https://localhost:8080/"
    },
    "executionInfo": {
     "elapsed": 18,
     "status": "ok",
     "timestamp": 1725872798069,
     "user": {
      "displayName": "SHIHAB MUHTASIM",
      "userId": "06646168134231725609"
     },
     "user_tz": -360
    },
    "id": "HGU88EQd9r0y",
    "outputId": "29e06221-5efd-42bb-cf06-e2a77c98a461"
   },
   "outputs": [
    {
     "name": "stdout",
     "output_type": "stream",
     "text": [
      "Test x shape: (9550, 38, 8)\n",
      "Test y shape: (9550, 1, 1)\n"
     ]
    }
   ],
   "source": [
    "# prompt: in trainy test y and valy, remove values of the last dimension and make it 1 by keeping only the last entry. So the shape of train y becomes (1059,1,1) where out of the 6 values in the last dimension only the last value will be present.\n",
    "\n",
    "\n",
    "test_y = test_y[:, :, -1].reshape(test_y.shape[0], 1, 1)\n",
    "\n",
    "print(\"Test x shape:\", test_x.shape)\n",
    "print(\"Test y shape:\", test_y.shape)\n",
    "\n"
   ]
  },
  {
   "cell_type": "code",
   "execution_count": 23,
   "metadata": {},
   "outputs": [],
   "source": [
    "# # Group by \"User  Id\" and take the maximum of the \"Frequency\" column for each user\n",
    "# unique_users_frequency = df.groupby('User  Id')['Frequency'].max().reset_index()\n",
    "\n",
    "# # Assuming test_y is the extracted last column from lstm_data_normalized (scaled frequency for 39th hour)\n",
    "# # Reshape test_y for inverse scaling\n",
    "# scaled_frequency_reshaped = test_y.reshape(-1, 1)\n",
    "\n",
    "# # Create dummy data for inverse transform (we only need the frequency column)\n",
    "# dummy_data = np.zeros((scaled_frequency_reshaped.shape[0], lstm_data_normalized.shape[-1]))  # Create dummy data\n",
    "# dummy_data[:, -1] = scaled_frequency_reshaped[:, 0]  # Place scaled frequency into the last column\n",
    "\n",
    "# # Inverse transform to recover the original frequency\n",
    "# original_frequency_scaled_back = scaler_last.inverse_transform(dummy_data)[:, -1]  # Extract only the last column\n",
    "\n",
    "# # Plot the max frequency of unique users vs inverse scaled frequency\n",
    "# plt.figure(figsize=(10,6))\n",
    "\n",
    "# # Plot unique users' max frequency\n",
    "# plt.plot(range(len(unique_users_frequency)), unique_users_frequency['Frequency'], marker='o', linestyle='--', color='r', label='Max Frequency (Unique Users)')\n",
    "\n",
    "# # Plot the inverse scaled frequency\n",
    "# plt.plot(range(len(original_frequency_scaled_back)), original_frequency_scaled_back, marker='x', linestyle='-', color='b', label='Inverse Scaled Frequency')\n",
    "\n",
    "# # Adding title and labels\n",
    "# plt.title('Max Frequency (Unique Users) vs Inverse Scaled Frequency')\n",
    "# plt.xlabel('Unique User Count')\n",
    "# plt.ylabel('Frequency')\n",
    "\n",
    "# # Add legend\n",
    "# plt.legend()\n",
    "\n",
    "# # Show the plot\n",
    "# plt.show()"
   ]
  },
  {
   "cell_type": "code",
   "execution_count": 24,
   "metadata": {},
   "outputs": [],
   "source": [
    "# prompt: print only the maximum 10 values of test y.\n",
    "\n",
    "# Find the maximum 10 values in test_y_actual\n",
    "# max_values = heapq.nlargest(10, test_y.flatten())\n",
    "# print(\"Maximum 10 values of test_y_actual:\", max_values)\n"
   ]
  },
  {
   "cell_type": "code",
   "execution_count": null,
   "metadata": {},
   "outputs": [],
   "source": []
  },
  {
   "cell_type": "code",
   "execution_count": 25,
   "metadata": {},
   "outputs": [],
   "source": [
    "# import pickle\n",
    "\n",
    "# # Export predictions_2 to a file\n",
    "# with open('test_y_lstm.pkl', 'wb') as f:\n",
    "#     pickle.dump(test_y_actual, f)\n"
   ]
  },
  {
   "cell_type": "code",
   "execution_count": null,
   "metadata": {},
   "outputs": [],
   "source": []
  },
  {
   "cell_type": "code",
   "execution_count": null,
   "metadata": {},
   "outputs": [],
   "source": []
  },
  {
   "cell_type": "code",
   "execution_count": null,
   "metadata": {},
   "outputs": [],
   "source": []
  },
  {
   "cell_type": "code",
   "execution_count": null,
   "metadata": {},
   "outputs": [],
   "source": []
  },
  {
   "cell_type": "code",
   "execution_count": 26,
   "metadata": {},
   "outputs": [],
   "source": [
    "#___"
   ]
  },
  {
   "cell_type": "code",
   "execution_count": 27,
   "metadata": {},
   "outputs": [],
   "source": [
    "#___"
   ]
  },
  {
   "cell_type": "code",
   "execution_count": null,
   "metadata": {},
   "outputs": [],
   "source": []
  },
  {
   "cell_type": "code",
   "execution_count": 28,
   "metadata": {},
   "outputs": [],
   "source": [
    "import numpy as np\n",
    "import pandas as pd\n",
    "# import torch\n",
    "# from transformers import BertTokenizer, BertModel\n",
    "from sklearn.preprocessing import StandardScaler\n",
    "\n",
    "from tensorflow.keras.models import Sequential\n",
    "from tensorflow.keras.layers import LSTM, Dense, Bidirectional, Dropout\n",
    "from tensorflow.keras.callbacks import EarlyStopping\n",
    "from sklearn.metrics import mean_squared_error, mean_absolute_error, r2_score\n",
    "import matplotlib.pyplot as plt\n"
   ]
  },
  {
   "cell_type": "code",
   "execution_count": 29,
   "metadata": {},
   "outputs": [
    {
     "name": "stdout",
     "output_type": "stream",
     "text": [
      "[<class 'numpy.ndarray'>]\n"
     ]
    }
   ],
   "source": [
    "df_concatenated = pd.read_csv(\"C:\\\\Users\\\\21301610\\\\Downloads\\\\combine\\\\defense_final\\\\Aggregate\\\\aggregate_test.csv\")\n",
    "df_concatenated.rename(columns={'Aggregated Vector': 'bert_embedding'}, inplace=True)\n",
    "\n",
    "# df_concatenated = pd.read_csv(\"C:\\\\Users\\\\21301610\\\\Downloads\\\\combine\\\\defense_final\\\\PCA\\\\pca_train.csv\")\n",
    "# df_concatenated.rename(columns={'PCA Reduced Vector': 'bert_embedding'}, inplace=True)\n",
    "\n",
    "# df_concatenated = pd.read_csv(\"C:\\\\Users\\\\21301610\\\\Downloads\\\\combine\\\\defense_final\\\\Mean_pool\\\\mean_pool_train.csv\")\n",
    "# df_concatenated.rename(columns={'Pooled Vector': 'bert_embedding'}, inplace=True)\n",
    "\n",
    "# df_concatenated = pd.read_csv(\"C:\\\\Users\\\\21301610\\\\Downloads\\\\combine\\\\defense_final\\\\Max_pool\\\\max_pool_train.csv\")\n",
    "# df_concatenated.rename(columns={'Pooled Vector': 'bert_embedding'}, inplace=True)\n",
    "\n",
    "# df_concatenated = pd.read_csv(\"C:\\\\Users\\\\21301610\\\\Downloads\\\\combine\\\\defense_final\\\\Concat\\\\concat_train.csv\")\n",
    "\n",
    "def string_to_array(string_embedding):\n",
    "    # Convert the string representation of a numpy array back to a numpy array\n",
    "    return np.fromstring(string_embedding.strip('[]'), sep=' ', dtype=np.float32)\n",
    "\n",
    "# Apply the conversion to your embeddings\n",
    "df_concatenated['bert_embedding'] = df_concatenated['bert_embedding'].apply(string_to_array)\n",
    "\n",
    "# Verify the conversion\n",
    "print(df_concatenated['bert_embedding'].apply(type).unique())\n",
    "\n"
   ]
  },
  {
   "cell_type": "code",
   "execution_count": 30,
   "metadata": {},
   "outputs": [
    {
     "data": {
      "text/html": [
       "<div>\n",
       "<style scoped>\n",
       "    .dataframe tbody tr th:only-of-type {\n",
       "        vertical-align: middle;\n",
       "    }\n",
       "\n",
       "    .dataframe tbody tr th {\n",
       "        vertical-align: top;\n",
       "    }\n",
       "\n",
       "    .dataframe thead th {\n",
       "        text-align: right;\n",
       "    }\n",
       "</style>\n",
       "<table border=\"1\" class=\"dataframe\">\n",
       "  <thead>\n",
       "    <tr style=\"text-align: right;\">\n",
       "      <th></th>\n",
       "      <th>User Id</th>\n",
       "      <th>Hour</th>\n",
       "      <th>bert_embedding</th>\n",
       "      <th>Tweet Posted Time</th>\n",
       "      <th>Tweet Content</th>\n",
       "      <th>Frequency</th>\n",
       "      <th>Likes Received</th>\n",
       "    </tr>\n",
       "  </thead>\n",
       "  <tbody>\n",
       "    <tr>\n",
       "      <th>0</th>\n",
       "      <td>\"1000157817528049664\"</td>\n",
       "      <td>0.0</td>\n",
       "      <td>[-0.036657587, 0.18017164, 0.05914678, 0.13863...</td>\n",
       "      <td>2022-09-15 09:18:14</td>\n",
       "      <td>\"businesses that accept #bitcoin can undercut ...</td>\n",
       "      <td>1</td>\n",
       "      <td>0.0</td>\n",
       "    </tr>\n",
       "    <tr>\n",
       "      <th>1</th>\n",
       "      <td>\"1000157817528049664\"</td>\n",
       "      <td>8.0</td>\n",
       "      <td>[0.844336, 0.31393492, 0.11502318, 0.77762234,...</td>\n",
       "      <td>2022-09-15 17:30:42</td>\n",
       "      <td>\"our own reality is created by our thoughts, t...</td>\n",
       "      <td>2</td>\n",
       "      <td>0.0</td>\n",
       "    </tr>\n",
       "    <tr>\n",
       "      <th>2</th>\n",
       "      <td>\"1000157817528049664\"</td>\n",
       "      <td>27.0</td>\n",
       "      <td>[0.014070917, -0.039463937, 0.12622456, 0.1758...</td>\n",
       "      <td>2022-09-16 12:23:55</td>\n",
       "      <td>\"#bitcoin rabbit hole\"</td>\n",
       "      <td>1</td>\n",
       "      <td>1.0</td>\n",
       "    </tr>\n",
       "    <tr>\n",
       "      <th>3</th>\n",
       "      <td>\"1000501176411000832\"</td>\n",
       "      <td>17.0</td>\n",
       "      <td>[0.090164915, -0.063742615, 0.55363154, 0.1553...</td>\n",
       "      <td>2022-09-16 02:41:13</td>\n",
       "      <td>\"$54.94 to uber downtown and back only to find...</td>\n",
       "      <td>1</td>\n",
       "      <td>1.0</td>\n",
       "    </tr>\n",
       "    <tr>\n",
       "      <th>4</th>\n",
       "      <td>\"1001913907391401989\"</td>\n",
       "      <td>28.0</td>\n",
       "      <td>[0.19764242, 0.28220564, 0.5862857, -0.1821781...</td>\n",
       "      <td>2022-09-16 13:36:45</td>\n",
       "      <td>\"c'mon #bitcoin we're waiting 😅</td>\n",
       "      <td>1</td>\n",
       "      <td>0.0</td>\n",
       "    </tr>\n",
       "  </tbody>\n",
       "</table>\n",
       "</div>"
      ],
      "text/plain": [
       "                 User Id  Hour  \\\n",
       "0  \"1000157817528049664\"   0.0   \n",
       "1  \"1000157817528049664\"   8.0   \n",
       "2  \"1000157817528049664\"  27.0   \n",
       "3  \"1000501176411000832\"  17.0   \n",
       "4  \"1001913907391401989\"  28.0   \n",
       "\n",
       "                                      bert_embedding    Tweet Posted Time  \\\n",
       "0  [-0.036657587, 0.18017164, 0.05914678, 0.13863...  2022-09-15 09:18:14   \n",
       "1  [0.844336, 0.31393492, 0.11502318, 0.77762234,...  2022-09-15 17:30:42   \n",
       "2  [0.014070917, -0.039463937, 0.12622456, 0.1758...  2022-09-16 12:23:55   \n",
       "3  [0.090164915, -0.063742615, 0.55363154, 0.1553...  2022-09-16 02:41:13   \n",
       "4  [0.19764242, 0.28220564, 0.5862857, -0.1821781...  2022-09-16 13:36:45   \n",
       "\n",
       "                                       Tweet Content  Frequency  \\\n",
       "0  \"businesses that accept #bitcoin can undercut ...          1   \n",
       "1  \"our own reality is created by our thoughts, t...          2   \n",
       "2                             \"#bitcoin rabbit hole\"          1   \n",
       "3  \"$54.94 to uber downtown and back only to find...          1   \n",
       "4                   \"c'mon #bitcoin we're waiting 😅           1   \n",
       "\n",
       "   Likes Received  \n",
       "0             0.0  \n",
       "1             0.0  \n",
       "2             1.0  \n",
       "3             1.0  \n",
       "4             0.0  "
      ]
     },
     "execution_count": 30,
     "metadata": {},
     "output_type": "execute_result"
    }
   ],
   "source": [
    "df_concatenated.head()"
   ]
  },
  {
   "cell_type": "code",
   "execution_count": 31,
   "metadata": {},
   "outputs": [
    {
     "data": {
      "text/plain": [
       "(15167, 7)"
      ]
     },
     "execution_count": 31,
     "metadata": {},
     "output_type": "execute_result"
    }
   ],
   "source": [
    "df_concatenated.shape"
   ]
  },
  {
   "cell_type": "code",
   "execution_count": 32,
   "metadata": {},
   "outputs": [
    {
     "name": "stdout",
     "output_type": "stream",
     "text": [
      "Hour: 0.0 - 38.0\n"
     ]
    }
   ],
   "source": [
    "\n",
    "# Verify hours for sanity check\n",
    "min_hour = df_concatenated['Hour'].min()\n",
    "max_hour = df_concatenated['Hour'].max()\n",
    "print(\"Hour:\", min_hour, \"-\", max_hour)\n",
    "\n"
   ]
  },
  {
   "cell_type": "code",
   "execution_count": 33,
   "metadata": {},
   "outputs": [],
   "source": [
    "# Define a function to scale embeddings without scaling frequency\n",
    "def scale_embeddings_only(row, embedding_scaler):\n",
    "    embedding = row['bert_embedding']\n",
    "    # Scale the embedding\n",
    "    scaled_embedding = embedding_scaler.transform([embedding])[0]\n",
    "    frequency = row['Frequency']  # Keep the original frequency\n",
    "    # Convert frequency to an array and concatenate\n",
    "    return np.append(scaled_embedding, frequency)  # Append the original frequency\n",
    "\n",
    "# Prepare to collect embeddings for scaling\n",
    "embedding_list = np.array(df_concatenated['bert_embedding'].tolist())\n",
    "\n",
    "# Fit the scaler on all embeddings\n",
    "embedding_scaler = StandardScaler()  # or MinMaxScaler(feature_range=(0, 1))\n",
    "embedding_scaler.fit(embedding_list)\n",
    "\n",
    "# Apply scaling and appending frequency without scaling it\n",
    "df_concatenated['bert_embedding_with_frequency'] = df_concatenated.apply(\n",
    "    scale_embeddings_only, axis=1, embedding_scaler=embedding_scaler\n",
    ")"
   ]
  },
  {
   "cell_type": "code",
   "execution_count": 34,
   "metadata": {},
   "outputs": [
    {
     "data": {
      "text/html": [
       "<div>\n",
       "<style scoped>\n",
       "    .dataframe tbody tr th:only-of-type {\n",
       "        vertical-align: middle;\n",
       "    }\n",
       "\n",
       "    .dataframe tbody tr th {\n",
       "        vertical-align: top;\n",
       "    }\n",
       "\n",
       "    .dataframe thead th {\n",
       "        text-align: right;\n",
       "    }\n",
       "</style>\n",
       "<table border=\"1\" class=\"dataframe\">\n",
       "  <thead>\n",
       "    <tr style=\"text-align: right;\">\n",
       "      <th></th>\n",
       "      <th>User Id</th>\n",
       "      <th>Hour</th>\n",
       "      <th>bert_embedding</th>\n",
       "      <th>Tweet Posted Time</th>\n",
       "      <th>Tweet Content</th>\n",
       "      <th>Frequency</th>\n",
       "      <th>Likes Received</th>\n",
       "      <th>bert_embedding_with_frequency</th>\n",
       "    </tr>\n",
       "  </thead>\n",
       "  <tbody>\n",
       "    <tr>\n",
       "      <th>0</th>\n",
       "      <td>\"1000157817528049664\"</td>\n",
       "      <td>0.0</td>\n",
       "      <td>[-0.036657587, 0.18017164, 0.05914678, 0.13863...</td>\n",
       "      <td>2022-09-15 09:18:14</td>\n",
       "      <td>\"businesses that accept #bitcoin can undercut ...</td>\n",
       "      <td>1</td>\n",
       "      <td>0.0</td>\n",
       "      <td>[-0.32755069573896134, 0.35811430336854133, -0...</td>\n",
       "    </tr>\n",
       "    <tr>\n",
       "      <th>1</th>\n",
       "      <td>\"1000157817528049664\"</td>\n",
       "      <td>8.0</td>\n",
       "      <td>[0.844336, 0.31393492, 0.11502318, 0.77762234,...</td>\n",
       "      <td>2022-09-15 17:30:42</td>\n",
       "      <td>\"our own reality is created by our thoughts, t...</td>\n",
       "      <td>2</td>\n",
       "      <td>0.0</td>\n",
       "      <td>[0.8497045590851992, 0.5617284825617904, -0.14...</td>\n",
       "    </tr>\n",
       "    <tr>\n",
       "      <th>2</th>\n",
       "      <td>\"1000157817528049664\"</td>\n",
       "      <td>27.0</td>\n",
       "      <td>[0.014070917, -0.039463937, 0.12622456, 0.1758...</td>\n",
       "      <td>2022-09-16 12:23:55</td>\n",
       "      <td>\"#bitcoin rabbit hole\"</td>\n",
       "      <td>1</td>\n",
       "      <td>1.0</td>\n",
       "      <td>[-0.2597631429529057, 0.02378550727685645, -0....</td>\n",
       "    </tr>\n",
       "    <tr>\n",
       "      <th>3</th>\n",
       "      <td>\"1000501176411000832\"</td>\n",
       "      <td>17.0</td>\n",
       "      <td>[0.090164915, -0.063742615, 0.55363154, 0.1553...</td>\n",
       "      <td>2022-09-16 02:41:13</td>\n",
       "      <td>\"$54.94 to uber downtown and back only to find...</td>\n",
       "      <td>1</td>\n",
       "      <td>1.0</td>\n",
       "      <td>[-0.15808015359884572, -0.01317144356824892, 0...</td>\n",
       "    </tr>\n",
       "    <tr>\n",
       "      <th>4</th>\n",
       "      <td>\"1001913907391401989\"</td>\n",
       "      <td>28.0</td>\n",
       "      <td>[0.19764242, 0.28220564, 0.5862857, -0.1821781...</td>\n",
       "      <td>2022-09-16 13:36:45</td>\n",
       "      <td>\"c'mon #bitcoin we're waiting 😅</td>\n",
       "      <td>1</td>\n",
       "      <td>0.0</td>\n",
       "      <td>[-0.014459974497022245, 0.5134302401133887, 0....</td>\n",
       "    </tr>\n",
       "  </tbody>\n",
       "</table>\n",
       "</div>"
      ],
      "text/plain": [
       "                 User Id  Hour  \\\n",
       "0  \"1000157817528049664\"   0.0   \n",
       "1  \"1000157817528049664\"   8.0   \n",
       "2  \"1000157817528049664\"  27.0   \n",
       "3  \"1000501176411000832\"  17.0   \n",
       "4  \"1001913907391401989\"  28.0   \n",
       "\n",
       "                                      bert_embedding    Tweet Posted Time  \\\n",
       "0  [-0.036657587, 0.18017164, 0.05914678, 0.13863...  2022-09-15 09:18:14   \n",
       "1  [0.844336, 0.31393492, 0.11502318, 0.77762234,...  2022-09-15 17:30:42   \n",
       "2  [0.014070917, -0.039463937, 0.12622456, 0.1758...  2022-09-16 12:23:55   \n",
       "3  [0.090164915, -0.063742615, 0.55363154, 0.1553...  2022-09-16 02:41:13   \n",
       "4  [0.19764242, 0.28220564, 0.5862857, -0.1821781...  2022-09-16 13:36:45   \n",
       "\n",
       "                                       Tweet Content  Frequency  \\\n",
       "0  \"businesses that accept #bitcoin can undercut ...          1   \n",
       "1  \"our own reality is created by our thoughts, t...          2   \n",
       "2                             \"#bitcoin rabbit hole\"          1   \n",
       "3  \"$54.94 to uber downtown and back only to find...          1   \n",
       "4                   \"c'mon #bitcoin we're waiting 😅           1   \n",
       "\n",
       "   Likes Received                      bert_embedding_with_frequency  \n",
       "0             0.0  [-0.32755069573896134, 0.35811430336854133, -0...  \n",
       "1             0.0  [0.8497045590851992, 0.5617284825617904, -0.14...  \n",
       "2             1.0  [-0.2597631429529057, 0.02378550727685645, -0....  \n",
       "3             1.0  [-0.15808015359884572, -0.01317144356824892, 0...  \n",
       "4             0.0  [-0.014459974497022245, 0.5134302401133887, 0....  "
      ]
     },
     "execution_count": 34,
     "metadata": {},
     "output_type": "execute_result"
    }
   ],
   "source": [
    "df_concatenated.head()"
   ]
  },
  {
   "cell_type": "code",
   "execution_count": 35,
   "metadata": {},
   "outputs": [
    {
     "name": "stdout",
     "output_type": "stream",
     "text": [
      "(9550, 39, 769)\n",
      "Data for the first user (index 0):\n",
      "[[-0.3275507   0.3581143  -0.19476687 ... -0.2656869  -0.14344616\n",
      "   1.        ]\n",
      " [ 0.          0.          0.         ...  0.          0.\n",
      "   0.        ]\n",
      " [ 0.          0.          0.         ...  0.          0.\n",
      "   0.        ]\n",
      " ...\n",
      " [ 0.          0.          0.         ...  0.          0.\n",
      "   0.        ]\n",
      " [ 0.          0.          0.         ...  0.          0.\n",
      "   0.        ]\n",
      " [ 0.          0.          0.         ...  0.          0.\n",
      "   0.        ]]\n"
     ]
    }
   ],
   "source": [
    "# Create a mapping for User Ids\n",
    "user_id_mapping = {user_id: idx for idx, user_id in enumerate(df_concatenated['User Id'].unique())}\n",
    "num_users = len(user_id_mapping)\n",
    "num_hours = 39  # Assuming you have 39 hours(0 to 38)\n",
    "embedding_size = len(df_concatenated['bert_embedding_with_frequency'].iloc[0])\n",
    "\n",
    "# Ensure correct data types\n",
    "df_concatenated['User Id'] = df_concatenated['User Id'].astype(str)\n",
    "df_concatenated['Hour'] = df_concatenated['Hour'].astype(int)\n",
    "\n",
    "# Initialize 3D numpy array\n",
    "lstm_input = np.zeros((num_users, num_hours, embedding_size))\n",
    "\n",
    "# Populate the 3D array\n",
    "for _, row in df_concatenated.iterrows():\n",
    "    user_id = row['User Id']\n",
    "    hour = row['Hour']  # Use the hour directly since it's already 0-based\n",
    "    embedding = row['bert_embedding_with_frequency']\n",
    "    \n",
    "    # Get the user index\n",
    "    user_index = user_id_mapping[user_id]\n",
    "    \n",
    "    # Assign embedding to the 3D array\n",
    "    lstm_input[user_index, hour, :] = embedding\n",
    "\n",
    "# Print the shape of the resulting array\n",
    "print(lstm_input.shape)\n",
    "\n",
    "# Print the data for the first user\n",
    "first_user_index = 0  # Adjust if needed\n",
    "print(f\"Data for the first user (index {first_user_index}):\")\n",
    "print(lstm_input[first_user_index])\n"
   ]
  },
  {
   "cell_type": "code",
   "execution_count": 36,
   "metadata": {},
   "outputs": [
    {
     "name": "stdout",
     "output_type": "stream",
     "text": [
      "(9550,)\n",
      "\n",
      "Are the arrays equal? (check_test_y == test_y): True\n"
     ]
    }
   ],
   "source": [
    "# Create train_x and train_y\n",
    "test_x1 = lstm_input[:, :38, :-1]\n",
    "test_y1 = lstm_input[:, 38, -1]\n",
    "\n",
    "\n",
    "check_test_y1 = test_y1.copy()\n",
    "print(check_test_y1.shape)\n",
    "# Check if the arrays are equal\n",
    "are_arrays_equal = np.array_equal(check_test_y1, test_y1)\n",
    "print(\"\\nAre the arrays equal? (check_test_y == test_y):\", are_arrays_equal)\n",
    "\n",
    "\n"
   ]
  },
  {
   "cell_type": "code",
   "execution_count": 37,
   "metadata": {},
   "outputs": [
    {
     "name": "stdout",
     "output_type": "stream",
     "text": [
      "Test x 1 shape: (9550, 38, 768)\n",
      "Test y 1 shape: (9550,)\n",
      "\n",
      "Are the arrays equal? (check_test_y == test_y): False\n"
     ]
    }
   ],
   "source": [
    "\n",
    "\n",
    "# Extract the 39th hour frequencies\n",
    "last_hour_frequencies = lstm_input[:, 38, -1].reshape(-1, 1)  # Assuming last column is frequency\n",
    "\n",
    "# Fit the scaler on the 39th hour frequencies\n",
    "frequency_scaler = StandardScaler()  # or MinMaxScaler(feature_range=(0, 1))\n",
    "frequency_scaler.fit(last_hour_frequencies)\n",
    "\n",
    "# Transform the 39th hour frequencies\n",
    "scaled_frequencies = frequency_scaler.transform(last_hour_frequencies)\n",
    "\n",
    "# Replace the 39th hour frequencies in lstm_input with the scaled values\n",
    "for i in range(len(lstm_input)):\n",
    "    lstm_input[i, 38, -1] = scaled_frequencies[i, 0]\n",
    "\n",
    "\n",
    "\n",
    "# Create train_x and train_y\n",
    "test_x1 = lstm_input[:, :38, :-1]\n",
    "test_y1 = lstm_input[:, 38, -1]\n",
    "\n",
    "\n",
    "print(\"Test x 1 shape:\", test_x1.shape)\n",
    "print(\"Test y 1 shape:\", test_y1.shape)\n",
    "\n",
    "\n",
    "\n",
    "\n",
    "# Check if the arrays are equal\n",
    "are_arrays_equal = np.array_equal(check_test_y1, test_y1)\n",
    "print(\"\\nAre the arrays equal? (check_test_y == test_y):\", are_arrays_equal)\n",
    "\n",
    "\n"
   ]
  },
  {
   "cell_type": "code",
   "execution_count": null,
   "metadata": {},
   "outputs": [],
   "source": []
  },
  {
   "cell_type": "code",
   "execution_count": null,
   "metadata": {},
   "outputs": [],
   "source": []
  },
  {
   "cell_type": "code",
   "execution_count": 38,
   "metadata": {},
   "outputs": [],
   "source": [
    "from tensorflow.keras.models import load_model\n",
    "\n",
    "# Load the saved model\n",
    "model_shihab = load_model('C:/Users/21301610/Downloads/combine/lstm_model_multivarient_base_16.keras')\n",
    "# model_shihab = load_model('C:/Users/21301610/Downloads/combine/lstm_model_multivarient.h5')"
   ]
  },
  {
   "cell_type": "code",
   "execution_count": 39,
   "metadata": {},
   "outputs": [],
   "source": [
    "# import tensorflow as tf\n",
    "# from tensorflow.keras.models import load_model\n",
    "# #model_raiyan = load_model('C:/Users/21301610/Downloads/combine/raiyan/raiyan_model.h5')\n",
    "\n",
    "# #model_raiyan =tf.saved_model.load('C:/Users/21301610/Downloads/combine/raiyan/raiyan_model/')"
   ]
  },
  {
   "cell_type": "code",
   "execution_count": 40,
   "metadata": {},
   "outputs": [
    {
     "name": "stderr",
     "output_type": "stream",
     "text": [
      "C:\\Users\\21301610\\AppData\\Roaming\\Python\\Python311\\site-packages\\keras\\src\\saving\\saving_lib.py:415: UserWarning: Skipping variable loading for optimizer 'rmsprop', because it has 12 variables whereas the saved optimizer has 22 variables. \n",
      "  saveable.load_own_variables(weights_store.get(inner_path))\n"
     ]
    }
   ],
   "source": [
    "import tensorflow as tf\n",
    "from tensorflow.keras.models import load_model\n",
    "model_raiyan = load_model('C:\\\\Users\\\\21301610\\\\Downloads\\\\combine\\\\defense_final\\\\Aggregate\\\\raiyan_aggregate128lstm_model.keras')"
   ]
  },
  {
   "cell_type": "code",
   "execution_count": 41,
   "metadata": {},
   "outputs": [
    {
     "name": "stdout",
     "output_type": "stream",
     "text": [
      "\u001b[1m299/299\u001b[0m \u001b[32m━━━━━━━━━━━━━━━━━━━━\u001b[0m\u001b[37m\u001b[0m \u001b[1m1s\u001b[0m 3ms/step\n"
     ]
    }
   ],
   "source": [
    "predictions_1 = model_shihab.predict(test_x)"
   ]
  },
  {
   "cell_type": "code",
   "execution_count": 42,
   "metadata": {},
   "outputs": [
    {
     "data": {
      "text/plain": [
       "(9550, 1)"
      ]
     },
     "execution_count": 42,
     "metadata": {},
     "output_type": "execute_result"
    }
   ],
   "source": [
    "predictions_1.shape"
   ]
  },
  {
   "cell_type": "code",
   "execution_count": 43,
   "metadata": {},
   "outputs": [
    {
     "name": "stdout",
     "output_type": "stream",
     "text": [
      "\u001b[1m299/299\u001b[0m \u001b[32m━━━━━━━━━━━━━━━━━━━━\u001b[0m\u001b[37m\u001b[0m \u001b[1m3s\u001b[0m 9ms/step\n"
     ]
    }
   ],
   "source": [
    "predictions_2 = model_raiyan.predict(test_x1)"
   ]
  },
  {
   "cell_type": "code",
   "execution_count": 44,
   "metadata": {},
   "outputs": [],
   "source": [
    "# import pickle\n",
    "\n",
    "# # Import predictions_1 from the file\n",
    "# with open('predictions_2.pkl', 'rb') as f:\n",
    "#     predictions_2 = pickle.load(f)"
   ]
  },
  {
   "cell_type": "code",
   "execution_count": 45,
   "metadata": {},
   "outputs": [],
   "source": [
    "# import pickle\n",
    "\n",
    "# # Export predictions_2 to a file\n",
    "# with open('predictions_2_pool.pkl', 'wb') as f:\n",
    "#     pickle.dump(predictions_2, f)\n"
   ]
  },
  {
   "cell_type": "code",
   "execution_count": null,
   "metadata": {},
   "outputs": [],
   "source": []
  },
  {
   "cell_type": "code",
   "execution_count": 46,
   "metadata": {},
   "outputs": [],
   "source": [
    "#predictions_2 = model_raiyan.predict(test_x1)"
   ]
  },
  {
   "cell_type": "code",
   "execution_count": 47,
   "metadata": {},
   "outputs": [
    {
     "data": {
      "text/plain": [
       "(9550, 1)"
      ]
     },
     "execution_count": 47,
     "metadata": {},
     "output_type": "execute_result"
    }
   ],
   "source": [
    "predictions_2.shape"
   ]
  },
  {
   "cell_type": "code",
   "execution_count": 48,
   "metadata": {},
   "outputs": [
    {
     "name": "stdout",
     "output_type": "stream",
     "text": [
      "False\n",
      "(9550, 1, 1)\n",
      "[[[False False False ... False False False]]\n",
      "\n",
      " [[False False False ... False False False]]\n",
      "\n",
      " [[False False False ... False False False]]\n",
      "\n",
      " ...\n",
      "\n",
      " [[False False False ... False False False]]\n",
      "\n",
      " [[False False False ... False False False]]\n",
      "\n",
      " [[False False False ... False False False]]]\n"
     ]
    }
   ],
   "source": [
    "is_y_equal = np.array_equal(test_y, test_y1)\n",
    "print(is_y_equal)\n",
    "\n",
    "print(test_y.shape)\n",
    "print(test_y==test_y1)"
   ]
  },
  {
   "cell_type": "code",
   "execution_count": 49,
   "metadata": {},
   "outputs": [
    {
     "name": "stdout",
     "output_type": "stream",
     "text": [
      "Mean of test_y: -0.029050320112175204\n",
      "Range of test_y (max - min): 58.546219535956546\n",
      "MSE SHIHAB: 0.49347426293972557\n",
      "RMSE: 0.702477233040136\n",
      "MAE: 0.09991769344165097\n",
      "R-squared: 0.35704742894959796\n"
     ]
    }
   ],
   "source": [
    "# prompt: find mse rmse and all other stuff to find the models accuracy\n",
    "\n",
    "from sklearn.metrics import mean_squared_error, mean_absolute_error, r2_score\n",
    "\n",
    "# Ensure both arrays are 2D for compatibility with sklearn metrics\n",
    "# If your target variable is a single value per sample, you likely want to reshape to (n_samples, 1)\n",
    "test_y = test_y.reshape(test_y.shape[0], -1)\n",
    "predictions_1 = predictions_1.reshape(predictions_1.shape[0], -1)\n",
    "\n",
    "# Calculate the mean of test_y\n",
    "mean_test_y = np.mean(test_y)\n",
    "\n",
    "# Calculate the range (max - min) of test_y\n",
    "range_test_y = np.ptp(test_y)\n",
    "\n",
    "# Print the results\n",
    "print(f\"Mean of test_y: {mean_test_y}\")\n",
    "print(f\"Range of test_y (max - min): {range_test_y}\")\n",
    "\n",
    "# Calculate MSE\n",
    "mse = mean_squared_error(test_y, predictions_1)\n",
    "\n",
    "# Calculate RMSE\n",
    "rmse = mean_squared_error(test_y, predictions_1, squared=False)\n",
    "\n",
    "# Calculate MAE\n",
    "mae = mean_absolute_error(test_y, predictions_1)\n",
    "\n",
    "# Calculate R-squared\n",
    "r2 = r2_score(test_y, predictions_1)\n",
    "\n",
    "# Print the results\n",
    "print(f\"MSE SHIHAB: {mse}\")\n",
    "print(f\"RMSE: {rmse}\")\n",
    "print(f\"MAE: {mae}\")\n",
    "print(f\"R-squared: {r2}\")"
   ]
  },
  {
   "cell_type": "code",
   "execution_count": 50,
   "metadata": {},
   "outputs": [
    {
     "name": "stdout",
     "output_type": "stream",
     "text": [
      "[[0.]\n",
      " [0.]\n",
      " [0.]\n",
      " ...\n",
      " [0.]\n",
      " [0.]\n",
      " [0.]]\n",
      "Mean of test_y_actual: 0.04429319371727749\n",
      "Range of test_y_actual (max - min): 52.0\n",
      "MSE SHIHAB: 0.38929021176270573\n",
      "RMSE: 0.6239312556385564\n",
      "MAE: 0.08874561196846488\n",
      "R-squared: 0.35704742367370024\n"
     ]
    }
   ],
   "source": [
    "# Inverse transform the predictions to get the actual values\n",
    "predictions_actual = scaler_last.inverse_transform(predictions_1.reshape(-1, 1))\n",
    "\n",
    "predictions_actual = predictions_actual.reshape(predictions_1.shape[0], 1)\n",
    "\n",
    "# Inverse transform the test_y to get the actual values\n",
    "test_y_actual = scaler_last.inverse_transform(test_y.reshape(-1, 1))\n",
    "# print test_y_actual\n",
    "print(test_y_actual)\n",
    "test_y_actual = test_y_actual.reshape(test_y.shape[0], 1)\n",
    "\n",
    "\n",
    "\n",
    "# Calculate the mean of test_y_actual\n",
    "mean_test_y_actual = np.mean(test_y_actual)\n",
    "\n",
    "# Calculate the range (max - min) of test_y_actual\n",
    "range_test_y_actual = np.ptp(test_y_actual)\n",
    "\n",
    "# Print the results\n",
    "print(f\"Mean of test_y_actual: {mean_test_y_actual}\")\n",
    "print(f\"Range of test_y_actual (max - min): {range_test_y_actual}\")\n",
    "\n",
    "# Calculate MSE\n",
    "mse = mean_squared_error(test_y_actual, predictions_actual)\n",
    "\n",
    "# Calculate RMSE\n",
    "rmse = mean_squared_error(test_y_actual, predictions_actual, squared=False)\n",
    "\n",
    "# Calculate MAE\n",
    "mae = mean_absolute_error(test_y_actual, predictions_actual)\n",
    "\n",
    "# Calculate R-squared\n",
    "r2 = r2_score(test_y_actual, predictions_actual)\n",
    "\n",
    "# Print the results\n",
    "print(f\"MSE SHIHAB: {mse}\")\n",
    "print(f\"RMSE: {rmse}\")\n",
    "print(f\"MAE: {mae}\")\n",
    "print(f\"R-squared: {r2}\")"
   ]
  },
  {
   "cell_type": "code",
   "execution_count": 51,
   "metadata": {},
   "outputs": [
    {
     "name": "stdout",
     "output_type": "stream",
     "text": [
      "The arrays are equal within the specified tolerance.\n"
     ]
    },
    {
     "data": {
      "image/png": "[encoded data removed]",
      "text/plain": [
       "<Figure size 640x480 with 1 Axes>"
      ]
     },
     "metadata": {},
     "output_type": "display_data"
    }
   ],
   "source": [
    "\n",
    "# Reshape predictions and test_y\n",
    "predictions_2 = predictions_2.reshape(-1, 1)\n",
    "test_y1 = test_y1.reshape(-1, 1)\n",
    "\n",
    "# Invert the scaling to get the actual values for frequency\n",
    "predictions_2_actual = frequency_scaler.inverse_transform(predictions_2)\n",
    "test_y1_actual = frequency_scaler.inverse_transform(test_y1)\n",
    "\n",
    "    \n",
    "# If your data is in 2D (like shape (n_samples, 1)), flatten it to 1D\n",
    "test_y1_actual = test_y1_actual.flatten()\n",
    "check_test_y1 = check_test_y1.flatten()\n",
    "\n",
    "\n",
    "\n",
    "#IMPORTANT\n",
    "#am using isclose instead of == because of floating point error where 0.9999999999!=1\n",
    "# Check if the arrays are close to each other\n",
    "are_equal = np.all(np.isclose(check_test_y1, test_y1_actual))\n",
    "\n",
    "# Print the result\n",
    "if are_equal:\n",
    "    print(\"The arrays are equal within the specified tolerance.\")\n",
    "else:\n",
    "    print(\"The arrays are NOT equal within the specified tolerance.\")\n",
    "    \n",
    "\n",
    "# Plotting\n",
    "plt.plot(test_y1_actual, label='Actual Values', color='blue', marker='o', linestyle='--')\n",
    "plt.plot(check_test_y1, label='Predicted Values', color='orange', marker='x', linestyle='-', alpha= 0.5)\n",
    "plt.title('Actual vs. Predicted Values')\n",
    "plt.xlabel('Samples')\n",
    "plt.ylabel('Values')\n",
    "plt.legend()\n",
    "plt.grid(True)  # Add a grid for better readability\n",
    "plt.show()\n",
    "\n",
    "\n"
   ]
  },
  {
   "cell_type": "code",
   "execution_count": null,
   "metadata": {},
   "outputs": [],
   "source": []
  },
  {
   "cell_type": "code",
   "execution_count": 52,
   "metadata": {},
   "outputs": [
    {
     "name": "stdout",
     "output_type": "stream",
     "text": [
      "Mean of test_y: 0.04429319371727749\n",
      "Range of test_y (max - min): 52.0\n",
      "MSE RAIYAN: 0.3255653313294723\n",
      "RMSE: 0.5705833254919673\n",
      "MAE: 0.0755386557969934\n",
      "R-squared: 0.462295577397143\n"
     ]
    }
   ],
   "source": [
    "# Calculate the mean of test_y\n",
    "mean_test_y1 = np.mean(test_y1_actual)\n",
    "\n",
    "# Calculate the range (max - min) of test_y\n",
    "range_test_y1 = np.ptp(test_y1_actual)\n",
    "\n",
    "# Print the results\n",
    "print(f\"Mean of test_y: {mean_test_y1}\")\n",
    "print(f\"Range of test_y (max - min): {range_test_y1}\")\n",
    "\n",
    "# Calculate metrics\n",
    "mse = mean_squared_error(test_y1_actual, predictions_2_actual)\n",
    "rmse = mean_squared_error(test_y1_actual, predictions_2_actual, squared=False)\n",
    "mae = mean_absolute_error(test_y1_actual, predictions_2_actual)\n",
    "r2 = r2_score(test_y1_actual, predictions_2_actual)\n",
    "\n",
    "# Print the results\n",
    "print(f\"MSE RAIYAN: {mse}\")\n",
    "print(f\"RMSE: {rmse}\")\n",
    "print(f\"MAE: {mae}\")\n",
    "print(f\"R-squared: {r2}\")"
   ]
  },
  {
   "cell_type": "code",
   "execution_count": 53,
   "metadata": {},
   "outputs": [
    {
     "name": "stdout",
     "output_type": "stream",
     "text": [
      "[[0.]\n",
      " [0.]\n",
      " [0.]\n",
      " ...\n",
      " [0.]\n",
      " [0.]\n",
      " [0.]]\n"
     ]
    },
    {
     "data": {
      "image/png": "[encoded data removed]",
      "text/plain": [
       "<Figure size 640x480 with 1 Axes>"
      ]
     },
     "metadata": {},
     "output_type": "display_data"
    }
   ],
   "source": [
    "# prompt:  predict and test, after that show a actual vs prediction plot for the frequency column that is in the test_y for last hour. However it needs to be taken care properly that the values were scaled using standard scaler for which getting back the actual value from the predictions_1 can be tricky. so atleast try so that the values of test_y and predictions_1 are in the same form\n",
    "\n",
    "\n",
    "# Inverse transform the predictions to get the actual values\n",
    "predictions_actual = scaler_last.inverse_transform(predictions_1.reshape(-1, 1))\n",
    "\n",
    "predictions_actual = predictions_actual.reshape(predictions_1.shape[0], 1)\n",
    "\n",
    "# Inverse transform the test_y to get the actual values\n",
    "test_y_actual = scaler_last.inverse_transform(test_y.reshape(-1, 1))\n",
    "# print test_y_actual\n",
    "print(test_y_actual)\n",
    "test_y_actual = test_y_actual.reshape(test_y.shape[0], 1)\n",
    "\n",
    "\n",
    "\n",
    "\n",
    "# Plot the actual vs predicted values\n",
    "plt.plot(test_y_actual, label='Actual')\n",
    "plt.plot(predictions_actual, label='Predicted')\n",
    "plt.xlabel('Samples')\n",
    "plt.ylabel('Frequency')\n",
    "plt.title('Actual vs Predicted Frequency Model 1')\n",
    "plt.legend()\n",
    "plt.show()\n",
    "\n",
    "\n"
   ]
  },
  {
   "cell_type": "code",
   "execution_count": null,
   "metadata": {},
   "outputs": [],
   "source": []
  },
  {
   "cell_type": "code",
   "execution_count": null,
   "metadata": {},
   "outputs": [],
   "source": []
  },
  {
   "cell_type": "code",
   "execution_count": 54,
   "metadata": {},
   "outputs": [
    {
     "data": {
      "image/png": "[encoded data removed]",
      "text/plain": [
       "<Figure size 640x480 with 1 Axes>"
      ]
     },
     "metadata": {},
     "output_type": "display_data"
    }
   ],
   "source": [
    "# Raiyan Plot\n",
    "\n",
    "\n",
    "# Plot actual vs. predicted with axis labels\n",
    "plt.plot(test_y1_actual, label='Actual')\n",
    "plt.plot(predictions_2_actual, label='Predicted')\n",
    "plt.xlabel('Samples')\n",
    "plt.ylabel('Frequency')\n",
    "plt.title('Actual vs Predicted Frequency Model 2')\n",
    "plt.legend()\n",
    "plt.show()\n",
    "\n",
    "\n",
    "\n"
   ]
  },
  {
   "cell_type": "code",
   "execution_count": 55,
   "metadata": {},
   "outputs": [
    {
     "data": {
      "text/plain": [
       "(9550, 1)"
      ]
     },
     "execution_count": 55,
     "metadata": {},
     "output_type": "execute_result"
    }
   ],
   "source": [
    "predictions_1.shape\n"
   ]
  },
  {
   "cell_type": "code",
   "execution_count": 56,
   "metadata": {},
   "outputs": [
    {
     "data": {
      "text/plain": [
       "(9550, 1)"
      ]
     },
     "execution_count": 56,
     "metadata": {},
     "output_type": "execute_result"
    }
   ],
   "source": [
    "predictions_2.shape"
   ]
  },
  {
   "cell_type": "code",
   "execution_count": 57,
   "metadata": {},
   "outputs": [
    {
     "name": "stdout",
     "output_type": "stream",
     "text": [
      "X_train shape: (6016, 2)\n",
      "y_train shape: (6016, 1)\n",
      "X_val shape: (669, 2)\n",
      "y_val shape: (669, 1)\n",
      "X_test shape: (2865, 2)\n",
      "y_test shape: (2865, 1)\n"
     ]
    }
   ],
   "source": [
    "# prompt: now i want to make a regression model where predictions_1 and predictions_2 will be my two features and test_y will be my target variable. Now firstly, properly prepare train test val data for my model.\n",
    "\n",
    "from sklearn.model_selection import train_test_split\n",
    "\n",
    "# Combine predictions_1 and predictions_2 into a single feature matrix\n",
    "X = np.column_stack((predictions_1, predictions_2))\n",
    "\n",
    "# Split the data into training and testing sets\n",
    "X_train, X_test, y_train, y_test = train_test_split(\n",
    "    X, test_y, test_size=0.3, random_state=42\n",
    ")\n",
    "\n",
    "# Further split the training data into training and validation sets\n",
    "X_train, X_val, y_train, y_val = train_test_split(\n",
    "    X_train, y_train, test_size=0.1, random_state=42\n",
    ")  # 0.25 x 0.8 = 0.2\n",
    "\n",
    "\n",
    "print(\"X_train shape:\", X_train.shape)\n",
    "print(\"y_train shape:\", y_train.shape)\n",
    "print(\"X_val shape:\", X_val.shape)\n",
    "print(\"y_val shape:\", y_val.shape)\n",
    "print(\"X_test shape:\", X_test.shape)\n",
    "print(\"y_test shape:\", y_test.shape)\n"
   ]
  },
  {
   "cell_type": "code",
   "execution_count": 58,
   "metadata": {},
   "outputs": [
    {
     "name": "stderr",
     "output_type": "stream",
     "text": [
      "C:\\Users\\21301610\\AppData\\Local\\Temp\\ipykernel_12296\\2076186147.py:17: DataConversionWarning: A column-vector y was passed when a 1d array was expected. Please change the shape of y to (n_samples,), for example using ravel().\n",
      "  model.fit(X_train, y_train)\n"
     ]
    },
    {
     "name": "stdout",
     "output_type": "stream",
     "text": [
      "Fusion Ensemble with Random Forest Regressor\n",
      "Validation Set Evaluation:\n",
      "MSE: 1.0715215178328457\n",
      "RMSE: 1.0351432354185799\n",
      "MAE: 0.060776332400567776\n",
      "R-squared: 0.4160614145862064\n",
      "\n",
      "Test Set Evaluation:\n",
      "MSE: 0.24958698197694834\n",
      "RMSE: 0.4995868112520069\n",
      "MAE: 0.04870655091001755\n",
      "R-squared: 0.10088806486171176\n"
     ]
    },
    {
     "data": {
      "image/png": "[encoded data removed]",
      "text/plain": [
       "<Figure size 1200x600 with 1 Axes>"
      ]
     },
     "metadata": {},
     "output_type": "display_data"
    }
   ],
   "source": [
    "from sklearn.ensemble import RandomForestRegressor\n",
    "from sklearn.metrics import mean_squared_error, mean_absolute_error, r2_score\n",
    "import numpy as np\n",
    "import matplotlib.pyplot as plt\n",
    "\n",
    "# Initialize the regression model\n",
    "model = RandomForestRegressor(\n",
    "    n_estimators=500,         # Increase the number of trees\n",
    "    max_depth=15,             # Limit the depth of each tree\n",
    "    min_samples_split=10,     # Require more samples to split an internal node\n",
    "    min_samples_leaf=5,       # Require a higher number of samples per leaf\n",
    "    max_features='sqrt',      # Use a subset of features at each split to reduce overfitting\n",
    "    random_state=42           # Ensures reproducibility\n",
    ")\n",
    "\n",
    "# Fit the model on the training data\n",
    "model.fit(X_train, y_train)\n",
    "\n",
    "# Make predictions on the validation set\n",
    "y_val_pred = model.predict(X_val)\n",
    "\n",
    "# Inverse transform the predictions and actual values for the validation set\n",
    "y_val_pred_actual = scaler_last.inverse_transform(y_val_pred.reshape(-1, 1)).reshape(-1)\n",
    "y_val_actual = scaler_last.inverse_transform(y_val.reshape(-1, 1)).reshape(-1)\n",
    "\n",
    "# Evaluate the model on the validation set\n",
    "mse_val = mean_squared_error(y_val_actual, y_val_pred_actual)\n",
    "rmse_val = mean_squared_error(y_val_actual, y_val_pred_actual, squared=False)\n",
    "mae_val = mean_absolute_error(y_val_actual, y_val_pred_actual)\n",
    "r2_val = r2_score(y_val_actual, y_val_pred_actual)\n",
    "\n",
    "print(\"Fusion Ensemble with Random Forest Regressor\")\n",
    "print(\"Validation Set Evaluation:\")\n",
    "print(f\"MSE: {mse_val}\")\n",
    "print(f\"RMSE: {rmse_val}\")\n",
    "print(f\"MAE: {mae_val}\")\n",
    "print(f\"R-squared: {r2_val}\")\n",
    "\n",
    "# Make predictions on the test set\n",
    "y_test_pred = model.predict(X_test)\n",
    "\n",
    "# Inverse transform the predictions and actual values for the test set\n",
    "y_test_pred_actual = scaler_last.inverse_transform(y_test_pred.reshape(-1, 1)).reshape(-1)\n",
    "y_test_actual = scaler_last.inverse_transform(y_test.reshape(-1, 1)).reshape(-1)\n",
    "\n",
    "# Evaluate the model on the test set\n",
    "mse_test = mean_squared_error(y_test_actual, y_test_pred_actual)\n",
    "rmse_test = mean_squared_error(y_test_actual, y_test_pred_actual, squared=False)\n",
    "mae_test = mean_absolute_error(y_test_actual, y_test_pred_actual)\n",
    "r2_test = r2_score(y_test_actual, y_test_pred_actual)\n",
    "\n",
    "print(\"\\nTest Set Evaluation:\")\n",
    "print(f\"MSE: {mse_test}\")\n",
    "print(f\"RMSE: {rmse_test}\")\n",
    "print(f\"MAE: {mae_test}\")\n",
    "print(f\"R-squared: {r2_test}\")\n",
    "\n",
    "# Plot the actual vs predicted values\n",
    "plt.figure(figsize=(12, 6))\n",
    "plt.plot(y_test_actual, label='Actual')\n",
    "plt.plot(y_test_pred_actual, label='Predicted')\n",
    "plt.title('Fusion Ensemble with Random Forest Regressor')\n",
    "plt.xlabel('Sample Index')\n",
    "plt.ylabel('Tweet Count')\n",
    "plt.legend()\n",
    "plt.show()\n"
   ]
  },
  {
   "cell_type": "code",
   "execution_count": 59,
   "metadata": {},
   "outputs": [
    {
     "data": {
      "text/plain": [
       "(0.0, 25.0, 0.04048865619546248)"
      ]
     },
     "execution_count": 59,
     "metadata": {},
     "output_type": "execute_result"
    }
   ],
   "source": [
    "\n",
    "min_value = np.min(y_test_actual)\n",
    "max_value = np.max(y_test_actual)\n",
    "mean_value = np.mean(y_test_actual)\n",
    "min_value, max_value,mean_value"
   ]
  },
  {
   "cell_type": "code",
   "execution_count": 60,
   "metadata": {},
   "outputs": [
    {
     "name": "stderr",
     "output_type": "stream",
     "text": [
      "C:\\ProgramData\\anaconda3\\Lib\\site-packages\\sklearn\\ensemble\\_gb.py:437: DataConversionWarning: A column-vector y was passed when a 1d array was expected. Please change the shape of y to (n_samples, ), for example using ravel().\n",
      "  y = column_or_1d(y, warn=True)\n"
     ]
    },
    {
     "name": "stdout",
     "output_type": "stream",
     "text": [
      "GradientBoostingRegressor Validation Set Evaluation:\n",
      "MSE: 0.08202427649488624\n",
      "RMSE: 0.2863988067274133\n",
      "MAE: 0.033399464265734806\n",
      "R-squared: 0.9552998804140809\n",
      "\n",
      "GradientBoostingRegressor Test Set Evaluation:\n",
      "MSE: 0.24350899169815676\n",
      "RMSE: 0.49346630249507084\n",
      "MAE: 0.043129408782419616\n",
      "R-squared: 0.12278341195886422\n"
     ]
    },
    {
     "data": {
      "image/png": "[encoded data removed]",
      "text/plain": [
       "<Figure size 640x480 with 1 Axes>"
      ]
     },
     "metadata": {},
     "output_type": "display_data"
    }
   ],
   "source": [
    "from sklearn.linear_model import LinearRegression\n",
    "from sklearn.ensemble import RandomForestRegressor, GradientBoostingRegressor\n",
    "from sklearn.metrics import mean_squared_error, mean_absolute_error, r2_score\n",
    "import numpy as np\n",
    "import matplotlib.pyplot as plt\n",
    "\n",
    "# Initialize the regression model\n",
    "model = GradientBoostingRegressor(n_estimators=100, random_state=42, learning_rate=0.1, max_depth=3)\n",
    "\n",
    "# Fit the model on the training data\n",
    "model.fit(X_train, y_train)\n",
    "\n",
    "# Make predictions on the validation set\n",
    "y_val_pred = model.predict(X_val)\n",
    "\n",
    "# Inverse transform the predictions and actual values for the validation set\n",
    "y_val_pred_actual = scaler_last.inverse_transform(y_val_pred.reshape(-1, 1)).reshape(-1)\n",
    "y_val_actual = scaler_last.inverse_transform(y_val.reshape(-1, 1)).reshape(-1)\n",
    "\n",
    "# Evaluate the model on the validation set\n",
    "mse_val = mean_squared_error(y_val_actual, y_val_pred_actual)\n",
    "rmse_val = mean_squared_error(y_val_actual, y_val_pred_actual, squared=False)\n",
    "mae_val = mean_absolute_error(y_val_actual, y_val_pred_actual)\n",
    "r2_val = r2_score(y_val_actual, y_val_pred_actual)\n",
    "\n",
    "print(\"GradientBoostingRegressor Validation Set Evaluation:\")\n",
    "print(f\"MSE: {mse_val}\")\n",
    "print(f\"RMSE: {rmse_val}\")\n",
    "print(f\"MAE: {mae_val}\")\n",
    "print(f\"R-squared: {r2_val}\")\n",
    "\n",
    "# Make predictions on the test set\n",
    "y_test_pred = model.predict(X_test)\n",
    "\n",
    "# Inverse transform the predictions and actual values for the test set\n",
    "y_test_pred_actual = scaler_last.inverse_transform(y_test_pred.reshape(-1, 1)).reshape(-1)\n",
    "y_test_actual = scaler_last.inverse_transform(y_test.reshape(-1, 1)).reshape(-1)\n",
    "\n",
    "# Evaluate the model on the test set\n",
    "mse_test = mean_squared_error(y_test_actual, y_test_pred_actual)\n",
    "rmse_test = mean_squared_error(y_test_actual, y_test_pred_actual, squared=False)\n",
    "mae_test = mean_absolute_error(y_test_actual, y_test_pred_actual)\n",
    "r2_test = r2_score(y_test_actual, y_test_pred_actual)\n",
    "\n",
    "print(\"\\nGradientBoostingRegressor Test Set Evaluation:\")\n",
    "print(f\"MSE: {mse_test}\")\n",
    "print(f\"RMSE: {rmse_test}\")\n",
    "print(f\"MAE: {mae_test}\")\n",
    "print(f\"R-squared: {r2_test}\")\n",
    "\n",
    "# Plot the actual vs predicted values\n",
    "# plt.figure(figsize=(12, 6))\n",
    "plt.plot(y_test_actual, label='Actual')\n",
    "plt.plot(y_test_pred_actual, label='Predicted')\n",
    "plt.title('Fusion Ensemble with Gradient Boosting Regressor')\n",
    "plt.xlabel('Sample Index')\n",
    "plt.ylabel('Tweet Count')\n",
    "plt.legend()\n",
    "plt.show()\n"
   ]
  },
  {
   "cell_type": "code",
   "execution_count": 61,
   "metadata": {},
   "outputs": [
    {
     "name": "stdout",
     "output_type": "stream",
     "text": [
      "Defaulting to user installation because normal site-packages is not writeable\n",
      "Requirement already satisfied: lightgbm in c:\\users\\21301610\\appdata\\roaming\\python\\python311\\site-packages (4.5.0)\n",
      "Requirement already satisfied: numpy>=1.17.0 in c:\\programdata\\anaconda3\\lib\\site-packages (from lightgbm) (1.26.4)\n",
      "Requirement already satisfied: scipy in c:\\programdata\\anaconda3\\lib\\site-packages (from lightgbm) (1.11.4)\n"
     ]
    }
   ],
   "source": [
    "!pip install lightgbm\n"
   ]
  },
  {
   "cell_type": "code",
   "execution_count": 62,
   "metadata": {},
   "outputs": [
    {
     "name": "stdout",
     "output_type": "stream",
     "text": [
      "Defaulting to user installation because normal site-packages is not writeable\n",
      "Requirement already satisfied: catboost in c:\\users\\21301610\\appdata\\roaming\\python\\python311\\site-packages (1.2.7)\n",
      "Requirement already satisfied: graphviz in c:\\users\\21301610\\appdata\\roaming\\python\\python311\\site-packages (from catboost) (0.20.3)\n",
      "Requirement already satisfied: matplotlib in c:\\programdata\\anaconda3\\lib\\site-packages (from catboost) (3.8.0)\n",
      "Requirement already satisfied: numpy<2.0,>=1.16.0 in c:\\programdata\\anaconda3\\lib\\site-packages (from catboost) (1.26.4)\n",
      "Requirement already satisfied: pandas>=0.24 in c:\\programdata\\anaconda3\\lib\\site-packages (from catboost) (2.1.4)\n",
      "Requirement already satisfied: scipy in c:\\programdata\\anaconda3\\lib\\site-packages (from catboost) (1.11.4)\n",
      "Requirement already satisfied: plotly in c:\\programdata\\anaconda3\\lib\\site-packages (from catboost) (5.9.0)\n",
      "Requirement already satisfied: six in c:\\programdata\\anaconda3\\lib\\site-packages (from catboost) (1.16.0)\n",
      "Requirement already satisfied: python-dateutil>=2.8.2 in c:\\programdata\\anaconda3\\lib\\site-packages (from pandas>=0.24->catboost) (2.8.2)\n",
      "Requirement already satisfied: pytz>=2020.1 in c:\\programdata\\anaconda3\\lib\\site-packages (from pandas>=0.24->catboost) (2023.3.post1)\n",
      "Requirement already satisfied: tzdata>=2022.1 in c:\\programdata\\anaconda3\\lib\\site-packages (from pandas>=0.24->catboost) (2023.3)\n",
      "Requirement already satisfied: contourpy>=1.0.1 in c:\\programdata\\anaconda3\\lib\\site-packages (from matplotlib->catboost) (1.2.0)\n",
      "Requirement already satisfied: cycler>=0.10 in c:\\programdata\\anaconda3\\lib\\site-packages (from matplotlib->catboost) (0.11.0)\n",
      "Requirement already satisfied: fonttools>=4.22.0 in c:\\programdata\\anaconda3\\lib\\site-packages (from matplotlib->catboost) (4.25.0)\n",
      "Requirement already satisfied: kiwisolver>=1.0.1 in c:\\programdata\\anaconda3\\lib\\site-packages (from matplotlib->catboost) (1.4.4)\n",
      "Requirement already satisfied: packaging>=20.0 in c:\\programdata\\anaconda3\\lib\\site-packages (from matplotlib->catboost) (23.1)\n",
      "Requirement already satisfied: pillow>=6.2.0 in c:\\programdata\\anaconda3\\lib\\site-packages (from matplotlib->catboost) (10.2.0)\n",
      "Requirement already satisfied: pyparsing>=2.3.1 in c:\\programdata\\anaconda3\\lib\\site-packages (from matplotlib->catboost) (3.0.9)\n",
      "Requirement already satisfied: tenacity>=6.2.0 in c:\\programdata\\anaconda3\\lib\\site-packages (from plotly->catboost) (8.2.2)\n"
     ]
    }
   ],
   "source": [
    "!pip install catboost\n"
   ]
  },
  {
   "cell_type": "code",
   "execution_count": 64,
   "metadata": {},
   "outputs": [
    {
     "name": "stdout",
     "output_type": "stream",
     "text": [
      "Cat Boost Regressor Validation Set Evaluation:\n",
      "MSE: 0.3338886414511572\n",
      "RMSE: 0.5778309800029393\n",
      "MAE: 0.046376813229046826\n",
      "R-squared: 0.8180433544917975\n",
      "\n",
      "Cat Boost Regressor Test Set Evaluation:\n",
      "MSE: 0.2883155996359833\n",
      "RMSE: 0.5369502766886178\n",
      "MAE: 0.0496462572834573\n",
      "R-squared: -0.038627875003540924\n"
     ]
    },
    {
     "data": {
      "image/png": "[encoded data removed]",
      "text/plain": [
       "<Figure size 640x480 with 1 Axes>"
      ]
     },
     "metadata": {},
     "output_type": "display_data"
    }
   ],
   "source": [
    "from catboost import CatBoostRegressor\n",
    "from sklearn.metrics import mean_squared_error, mean_absolute_error, r2_score\n",
    "import matplotlib.pyplot as plt\n",
    "\n",
    "# Initialize the regression model\n",
    "model = CatBoostRegressor(n_estimators=100, learning_rate=0.1, depth=3, random_state=42, verbose=0)\n",
    "\n",
    "# Fit the model on the training data\n",
    "model.fit(X_train, y_train)\n",
    "\n",
    "# Make predictions on the validation set\n",
    "y_val_pred = model.predict(X_val)\n",
    "\n",
    "# Inverse transform the predictions and actual values for the validation set\n",
    "y_val_pred_actual = scaler_last.inverse_transform(y_val_pred.reshape(-1, 1)).reshape(-1)\n",
    "y_val_actual = scaler_last.inverse_transform(y_val.reshape(-1, 1)).reshape(-1)\n",
    "\n",
    "# Evaluate the model on the validation set\n",
    "mse_val = mean_squared_error(y_val_actual, y_val_pred_actual)\n",
    "rmse_val = mean_squared_error(y_val_actual, y_val_pred_actual, squared=False)\n",
    "mae_val = mean_absolute_error(y_val_actual, y_val_pred_actual)\n",
    "r2_val = r2_score(y_val_actual, y_val_pred_actual)\n",
    "\n",
    "print(\"Cat Boost Regressor Validation Set Evaluation:\")\n",
    "print(f\"MSE: {mse_val}\")\n",
    "print(f\"RMSE: {rmse_val}\")\n",
    "print(f\"MAE: {mae_val}\")\n",
    "print(f\"R-squared: {r2_val}\")\n",
    "\n",
    "# Make predictions on the test set\n",
    "y_test_pred = model.predict(X_test)\n",
    "\n",
    "# Inverse transform the predictions and actual values for the test set\n",
    "y_test_pred_actual = scaler_last.inverse_transform(y_test_pred.reshape(-1, 1)).reshape(-1)\n",
    "y_test_actual = scaler_last.inverse_transform(y_test.reshape(-1, 1)).reshape(-1)\n",
    "\n",
    "# Evaluate the model on the test set\n",
    "mse_test = mean_squared_error(y_test_actual, y_test_pred_actual)\n",
    "rmse_test = mean_squared_error(y_test_actual, y_test_pred_actual, squared=False)\n",
    "mae_test = mean_absolute_error(y_test_actual, y_test_pred_actual)\n",
    "r2_test = r2_score(y_test_actual, y_test_pred_actual)\n",
    "\n",
    "print(\"\\nCat Boost Regressor Test Set Evaluation:\")\n",
    "print(f\"MSE: {mse_test}\")\n",
    "print(f\"RMSE: {rmse_test}\")\n",
    "print(f\"MAE: {mae_test}\")\n",
    "print(f\"R-squared: {r2_test}\")\n",
    "\n",
    "# Plot the actual vs predicted values\n",
    "\n",
    "plt.plot(y_test_actual, label='Actual')\n",
    "plt.plot(y_test_pred_actual, label='Predicted')\n",
    "plt.title('Fusion Ensemble with Cat Boost Regressor')\n",
    "plt.xlabel('Sample Index')\n",
    "plt.ylabel('Tweet Count')\n",
    "plt.legend()\n",
    "plt.show()\n"
   ]
  },
  {
   "cell_type": "code",
   "execution_count": null,
   "metadata": {},
   "outputs": [],
   "source": []
  }
 ],
 "metadata": {
  "colab": {
   "provenance": []
  },
  "kernelspec": {
   "display_name": "Python 3 (ipykernel)",
   "language": "python",
   "name": "python3"
  },
  "language_info": {
   "codemirror_mode": {
    "name": "ipython",
    "version": 3
   },
   "file_extension": ".py",
   "mimetype": "text/x-python",
   "name": "python",
   "nbconvert_exporter": "python",
   "pygments_lexer": "ipython3",
   "version": "3.11.7"
  }
 },
 "nbformat": 4,
 "nbformat_minor": 4
}
