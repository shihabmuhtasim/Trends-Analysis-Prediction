{
 "cells": [
  {
   "cell_type": "code",
   "execution_count": null,
   "metadata": {
    "executionInfo": {
     "elapsed": 468,
     "status": "ok",
     "timestamp": 1725872767935,
     "user": {
      "displayName": "SHIHAB MUHTASIM",
      "userId": "06646168134231725609"
     },
     "user_tz": -360
    },
    "id": "cYPl9eOFLaXR"
   },
   "outputs": [],
   "source": []
  },
  {
   "cell_type": "code",
   "execution_count": 1,
   "metadata": {
    "colab": {
     "base_uri": "https://localhost:8080/"
    },
    "executionInfo": {
     "elapsed": 5391,
     "status": "ok",
     "timestamp": 1725872773769,
     "user": {
      "displayName": "SHIHAB MUHTASIM",
      "userId": "06646168134231725609"
     },
     "user_tz": -360
    },
    "id": "LsHBvUiBdhPE",
    "outputId": "f26dda0e-983c-45b8-cde0-057c4ed01d61"
   },
   "outputs": [],
   "source": [
    "# from google.colab import drive\n",
    "# drive.mount('/content/drive')"
   ]
  },
  {
   "cell_type": "markdown",
   "metadata": {
    "id": "ldAIdm_CSD5c"
   },
   "source": [
    "**# LSTM MULTIVARIENT**\n",
    "\n",
    "1.   This file imports the processed dataset with unique users per hour\n",
    "2.   It creates a shape for the data according to need for LSTM which is external- user- 38 hours- in each hour -multiple data\n",
    "3. then feeds to lstm\n",
    "\n",
    "\n",
    "\n",
    "\n"
   ]
  },
  {
   "cell_type": "code",
   "execution_count": null,
   "metadata": {
    "executionInfo": {
     "elapsed": 4,
     "status": "ok",
     "timestamp": 1725872773769,
     "user": {
      "displayName": "SHIHAB MUHTASIM",
      "userId": "06646168134231725609"
     },
     "user_tz": -360
    },
    "id": "2NbSvBycLY-m"
   },
   "outputs": [],
   "source": [
    "import pandas as pd\n",
    "import numpy as np\n",
    "import seaborn as sns \n",
    "import matplotlib.pyplot as plt\n",
    "# import tensorflow as tf\n",
    "# from tensorflow import keras\n",
    "import itertools\n",
    "from itertools import combinations\n",
    "import networkx as nx\n",
    "from networkx.algorithms.community import greedy_modularity_communities\n",
    "from collections import Counter\n",
    "import nltk\n",
    "from nltk.corpus import stopwords, words as nltk_words\n",
    "from nltk.tokenize import word_tokenize\n",
    "# from wordcloud import WordCloud\n",
    "import matplotlib.cm as cm\n",
    "import re\n",
    "from nltk.stem import WordNetLemmatizer\n",
    "import heapq\n",
    "from tqdm import tqdm\n",
    "\n",
    "# import pycountry\n",
    "# from langdetect import detect\n",
    "# from prettytable import PrettyTable\n",
    "\n"
   ]
  },
  {
   "cell_type": "code",
   "execution_count": 3,
   "metadata": {
    "executionInfo": {
     "elapsed": 4,
     "status": "ok",
     "timestamp": 1725872773769,
     "user": {
      "displayName": "SHIHAB MUHTASIM",
      "userId": "06646168134231725609"
     },
     "user_tz": -360
    },
    "id": "HUkFe6vTs_P7"
   },
   "outputs": [
    {
     "data": {
      "text/html": [
       "<div>\n",
       "<style scoped>\n",
       "    .dataframe tbody tr th:only-of-type {\n",
       "        vertical-align: middle;\n",
       "    }\n",
       "\n",
       "    .dataframe tbody tr th {\n",
       "        vertical-align: top;\n",
       "    }\n",
       "\n",
       "    .dataframe thead th {\n",
       "        text-align: right;\n",
       "    }\n",
       "</style>\n",
       "<table border=\"1\" class=\"dataframe\">\n",
       "  <thead>\n",
       "    <tr style=\"text-align: right;\">\n",
       "      <th></th>\n",
       "      <th>Unnamed: 0</th>\n",
       "      <th>Tweet Id</th>\n",
       "      <th>Tweet Posted Time</th>\n",
       "      <th>Tweet Content</th>\n",
       "      <th>Retweets Received</th>\n",
       "      <th>Likes Received</th>\n",
       "      <th>User  Id</th>\n",
       "      <th>Username</th>\n",
       "      <th>Verified or Non-Verified</th>\n",
       "      <th>User Followers</th>\n",
       "      <th>User Following</th>\n",
       "      <th>Hour</th>\n",
       "      <th>Frequency</th>\n",
       "      <th>Tweet Type_encoded</th>\n",
       "      <th>Average Likes</th>\n",
       "      <th>Average Retweets</th>\n",
       "    </tr>\n",
       "  </thead>\n",
       "  <tbody>\n",
       "    <tr>\n",
       "      <th>0</th>\n",
       "      <td>1</td>\n",
       "      <td>\"1570573128694370304\"</td>\n",
       "      <td>2022-09-16 00:39:48</td>\n",
       "      <td>\"i will give $1,000 #bitcoin        to my foll...</td>\n",
       "      <td>0</td>\n",
       "      <td>0.0</td>\n",
       "      <td>\"1000000628737765376\"</td>\n",
       "      <td>henryfordking2</td>\n",
       "      <td>0</td>\n",
       "      <td>11</td>\n",
       "      <td>24</td>\n",
       "      <td>15.0</td>\n",
       "      <td>1</td>\n",
       "      <td>0</td>\n",
       "      <td>0.0</td>\n",
       "      <td>0.0</td>\n",
       "    </tr>\n",
       "    <tr>\n",
       "      <th>1</th>\n",
       "      <td>2</td>\n",
       "      <td>\"1570791442913841154\"</td>\n",
       "      <td>2022-09-16 15:07:18</td>\n",
       "      <td>\"i will give $1,000 #bitcoin         to my fol...</td>\n",
       "      <td>0</td>\n",
       "      <td>0.0</td>\n",
       "      <td>\"1000000628737765376\"</td>\n",
       "      <td>henryfordking2</td>\n",
       "      <td>0</td>\n",
       "      <td>11</td>\n",
       "      <td>24</td>\n",
       "      <td>29.0</td>\n",
       "      <td>1</td>\n",
       "      <td>0</td>\n",
       "      <td>0.0</td>\n",
       "      <td>0.0</td>\n",
       "    </tr>\n",
       "    <tr>\n",
       "      <th>2</th>\n",
       "      <td>3</td>\n",
       "      <td>\"1570899128535904256\"</td>\n",
       "      <td>2022-09-16 22:15:12</td>\n",
       "      <td>\"i will give $1,000 #bitcoin  to my followers\\...</td>\n",
       "      <td>0</td>\n",
       "      <td>0.0</td>\n",
       "      <td>\"1000000628737765376\"</td>\n",
       "      <td>henryfordking2</td>\n",
       "      <td>0</td>\n",
       "      <td>11</td>\n",
       "      <td>24</td>\n",
       "      <td>37.0</td>\n",
       "      <td>1</td>\n",
       "      <td>0</td>\n",
       "      <td>0.0</td>\n",
       "      <td>0.0</td>\n",
       "    </tr>\n",
       "    <tr>\n",
       "      <th>3</th>\n",
       "      <td>4</td>\n",
       "      <td>\"1570408954945060864\"</td>\n",
       "      <td>2022-09-15 13:47:26</td>\n",
       "      <td>\"given the sheer volume of misinformation &amp;amp...</td>\n",
       "      <td>0</td>\n",
       "      <td>0.0</td>\n",
       "      <td>\"1000004500525060097\"</td>\n",
       "      <td>deluxebyluk</td>\n",
       "      <td>0</td>\n",
       "      <td>126</td>\n",
       "      <td>685</td>\n",
       "      <td>4.0</td>\n",
       "      <td>2</td>\n",
       "      <td>0</td>\n",
       "      <td>0.0</td>\n",
       "      <td>0.0</td>\n",
       "    </tr>\n",
       "    <tr>\n",
       "      <th>4</th>\n",
       "      <td>5</td>\n",
       "      <td>\"1570769335924445195\"</td>\n",
       "      <td>2022-09-16 13:39:27</td>\n",
       "      <td>\"the white house has no idea what #bitcoin is....</td>\n",
       "      <td>0</td>\n",
       "      <td>0.0</td>\n",
       "      <td>\"1000020055973945344\"</td>\n",
       "      <td>MakoraNyaradzai</td>\n",
       "      <td>0</td>\n",
       "      <td>3103</td>\n",
       "      <td>2102</td>\n",
       "      <td>28.0</td>\n",
       "      <td>1</td>\n",
       "      <td>0</td>\n",
       "      <td>0.0</td>\n",
       "      <td>0.0</td>\n",
       "    </tr>\n",
       "  </tbody>\n",
       "</table>\n",
       "</div>"
      ],
      "text/plain": [
       "   Unnamed: 0               Tweet Id    Tweet Posted Time  \\\n",
       "0           1  \"1570573128694370304\"  2022-09-16 00:39:48   \n",
       "1           2  \"1570791442913841154\"  2022-09-16 15:07:18   \n",
       "2           3  \"1570899128535904256\"  2022-09-16 22:15:12   \n",
       "3           4  \"1570408954945060864\"  2022-09-15 13:47:26   \n",
       "4           5  \"1570769335924445195\"  2022-09-16 13:39:27   \n",
       "\n",
       "                                       Tweet Content  Retweets Received  \\\n",
       "0  \"i will give $1,000 #bitcoin        to my foll...                  0   \n",
       "1  \"i will give $1,000 #bitcoin         to my fol...                  0   \n",
       "2  \"i will give $1,000 #bitcoin  to my followers\\...                  0   \n",
       "3  \"given the sheer volume of misinformation &amp...                  0   \n",
       "4  \"the white house has no idea what #bitcoin is....                  0   \n",
       "\n",
       "   Likes Received               User  Id         Username  \\\n",
       "0             0.0  \"1000000628737765376\"   henryfordking2   \n",
       "1             0.0  \"1000000628737765376\"   henryfordking2   \n",
       "2             0.0  \"1000000628737765376\"   henryfordking2   \n",
       "3             0.0  \"1000004500525060097\"      deluxebyluk   \n",
       "4             0.0  \"1000020055973945344\"  MakoraNyaradzai   \n",
       "\n",
       "   Verified or Non-Verified  User Followers  User Following  Hour  Frequency  \\\n",
       "0                         0              11              24  15.0          1   \n",
       "1                         0              11              24  29.0          1   \n",
       "2                         0              11              24  37.0          1   \n",
       "3                         0             126             685   4.0          2   \n",
       "4                         0            3103            2102  28.0          1   \n",
       "\n",
       "   Tweet Type_encoded  Average Likes  Average Retweets  \n",
       "0                   0            0.0               0.0  \n",
       "1                   0            0.0               0.0  \n",
       "2                   0            0.0               0.0  \n",
       "3                   0            0.0               0.0  \n",
       "4                   0            0.0               0.0  "
      ]
     },
     "execution_count": 3,
     "metadata": {},
     "output_type": "execute_result"
    }
   ],
   "source": [
    "\n",
    "df = pd.read_csv('C:/Users/21301610/Downloads/code/combine/data_lstm_processed_unique_perhour_avg_values_combine_train.csv')\n",
    "df.head()"
   ]
  },
  {
   "cell_type": "code",
   "execution_count": 5,
   "metadata": {
    "colab": {
     "base_uri": "https://localhost:8080/",
     "height": 206
    },
    "executionInfo": {
     "elapsed": 13,
     "status": "ok",
     "timestamp": 1725872774518,
     "user": {
      "displayName": "SHIHAB MUHTASIM",
      "userId": "06646168134231725609"
     },
     "user_tz": -360
    },
    "id": "p42s_ektLkMB",
    "outputId": "5c1c7896-0138-475b-f367-bed3a6b98409"
   },
   "outputs": [
    {
     "data": {
      "text/html": [
       "<div>\n",
       "<style scoped>\n",
       "    .dataframe tbody tr th:only-of-type {\n",
       "        vertical-align: middle;\n",
       "    }\n",
       "\n",
       "    .dataframe tbody tr th {\n",
       "        vertical-align: top;\n",
       "    }\n",
       "\n",
       "    .dataframe thead th {\n",
       "        text-align: right;\n",
       "    }\n",
       "</style>\n",
       "<table border=\"1\" class=\"dataframe\">\n",
       "  <thead>\n",
       "    <tr style=\"text-align: right;\">\n",
       "      <th></th>\n",
       "      <th>Retweets Received</th>\n",
       "      <th>Likes Received</th>\n",
       "      <th>User  Id</th>\n",
       "      <th>Hour</th>\n",
       "      <th>Frequency</th>\n",
       "      <th>Verified or Non-Verified</th>\n",
       "      <th>User Followers</th>\n",
       "      <th>User Following</th>\n",
       "      <th>Average Likes</th>\n",
       "      <th>Average Retweets</th>\n",
       "    </tr>\n",
       "  </thead>\n",
       "  <tbody>\n",
       "    <tr>\n",
       "      <th>0</th>\n",
       "      <td>0</td>\n",
       "      <td>0.0</td>\n",
       "      <td>\"1000000628737765376\"</td>\n",
       "      <td>15.0</td>\n",
       "      <td>1</td>\n",
       "      <td>0</td>\n",
       "      <td>11</td>\n",
       "      <td>24</td>\n",
       "      <td>0.0</td>\n",
       "      <td>0.0</td>\n",
       "    </tr>\n",
       "    <tr>\n",
       "      <th>1</th>\n",
       "      <td>0</td>\n",
       "      <td>0.0</td>\n",
       "      <td>\"1000000628737765376\"</td>\n",
       "      <td>29.0</td>\n",
       "      <td>1</td>\n",
       "      <td>0</td>\n",
       "      <td>11</td>\n",
       "      <td>24</td>\n",
       "      <td>0.0</td>\n",
       "      <td>0.0</td>\n",
       "    </tr>\n",
       "    <tr>\n",
       "      <th>2</th>\n",
       "      <td>0</td>\n",
       "      <td>0.0</td>\n",
       "      <td>\"1000000628737765376\"</td>\n",
       "      <td>37.0</td>\n",
       "      <td>1</td>\n",
       "      <td>0</td>\n",
       "      <td>11</td>\n",
       "      <td>24</td>\n",
       "      <td>0.0</td>\n",
       "      <td>0.0</td>\n",
       "    </tr>\n",
       "    <tr>\n",
       "      <th>3</th>\n",
       "      <td>0</td>\n",
       "      <td>0.0</td>\n",
       "      <td>\"1000004500525060097\"</td>\n",
       "      <td>4.0</td>\n",
       "      <td>2</td>\n",
       "      <td>0</td>\n",
       "      <td>126</td>\n",
       "      <td>685</td>\n",
       "      <td>0.0</td>\n",
       "      <td>0.0</td>\n",
       "    </tr>\n",
       "    <tr>\n",
       "      <th>4</th>\n",
       "      <td>0</td>\n",
       "      <td>0.0</td>\n",
       "      <td>\"1000020055973945344\"</td>\n",
       "      <td>28.0</td>\n",
       "      <td>1</td>\n",
       "      <td>0</td>\n",
       "      <td>3103</td>\n",
       "      <td>2102</td>\n",
       "      <td>0.0</td>\n",
       "      <td>0.0</td>\n",
       "    </tr>\n",
       "  </tbody>\n",
       "</table>\n",
       "</div>"
      ],
      "text/plain": [
       "   Retweets Received  Likes Received               User  Id  Hour  Frequency  \\\n",
       "0                  0             0.0  \"1000000628737765376\"  15.0          1   \n",
       "1                  0             0.0  \"1000000628737765376\"  29.0          1   \n",
       "2                  0             0.0  \"1000000628737765376\"  37.0          1   \n",
       "3                  0             0.0  \"1000004500525060097\"   4.0          2   \n",
       "4                  0             0.0  \"1000020055973945344\"  28.0          1   \n",
       "\n",
       "   Verified or Non-Verified  User Followers  User Following  Average Likes  \\\n",
       "0                         0              11              24            0.0   \n",
       "1                         0              11              24            0.0   \n",
       "2                         0              11              24            0.0   \n",
       "3                         0             126             685            0.0   \n",
       "4                         0            3103            2102            0.0   \n",
       "\n",
       "   Average Retweets  \n",
       "0               0.0  \n",
       "1               0.0  \n",
       "2               0.0  \n",
       "3               0.0  \n",
       "4               0.0  "
      ]
     },
     "execution_count": 5,
     "metadata": {},
     "output_type": "execute_result"
    }
   ],
   "source": [
    "columns_to_keep = [#'Tweet Type_encoded',\n",
    "                   'Retweets Received', 'Likes Received',\n",
    "        'User  Id', 'Hour', 'Frequency', 'Verified or Non-Verified',  'User Followers',\n",
    "       'User Following', 'Average Likes', 'Average Retweets']\n",
    "\n",
    "df = df[columns_to_keep]\n",
    "df.head()"
   ]
  },
  {
   "cell_type": "code",
   "execution_count": 6,
   "metadata": {
    "colab": {
     "base_uri": "https://localhost:8080/"
    },
    "executionInfo": {
     "elapsed": 12,
     "status": "ok",
     "timestamp": 1725872774518,
     "user": {
      "displayName": "SHIHAB MUHTASIM",
      "userId": "06646168134231725609"
     },
     "user_tz": -360
    },
    "id": "TMfKms_GN99q",
    "outputId": "19728811-6f6e-434d-acd1-c37f612f07c8"
   },
   "outputs": [
    {
     "name": "stdout",
     "output_type": "stream",
     "text": [
      "[0.0, 1.0, 2.0, 3.0, 4.0, 5.0, 6.0, 7.0, 8.0, 9.0, 10.0, 11.0, 12.0, 13.0, 14.0, 15.0, 16.0, 17.0, 18.0, 19.0, 20.0, 21.0, 22.0, 23.0, 24.0, 25.0, 26.0, 27.0, 28.0, 29.0, 30.0, 31.0, 32.0, 33.0, 34.0, 35.0, 36.0, 37.0, 38.0]\n"
     ]
    }
   ],
   "source": [
    "# prompt: printing total unique values of hour sorted\n",
    "\n",
    "print(sorted(df['Hour'].unique()))\n"
   ]
  },
  {
   "cell_type": "code",
   "execution_count": 7,
   "metadata": {
    "colab": {
     "base_uri": "https://localhost:8080/",
     "height": 206
    },
    "executionInfo": {
     "elapsed": 10,
     "status": "ok",
     "timestamp": 1725872774518,
     "user": {
      "displayName": "SHIHAB MUHTASIM",
      "userId": "06646168134231725609"
     },
     "user_tz": -360
    },
    "id": "NrKlhuHmOqRK",
    "outputId": "1009fd36-a48e-4244-9aa1-90dc87e6cb53"
   },
   "outputs": [],
   "source": [
    "# # # prompt: take a random shuffled subset of the df of like 10%\n",
    "\n",
    "# df = df.sample(frac=0.01, random_state=42)\n",
    "# df.head()\n"
   ]
  },
  {
   "cell_type": "code",
   "execution_count": 8,
   "metadata": {
    "colab": {
     "base_uri": "https://localhost:8080/"
    },
    "executionInfo": {
     "elapsed": 9,
     "status": "ok",
     "timestamp": 1725872774518,
     "user": {
      "displayName": "SHIHAB MUHTASIM",
      "userId": "06646168134231725609"
     },
     "user_tz": -360
    },
    "id": "dtzj7K8UPJCv",
    "outputId": "b09f2ec3-853f-406a-cce6-f3b49b3a5f95"
   },
   "outputs": [
    {
     "data": {
      "text/plain": [
       "(138325, 10)"
      ]
     },
     "execution_count": 8,
     "metadata": {},
     "output_type": "execute_result"
    }
   ],
   "source": [
    "df.shape"
   ]
  },
  {
   "cell_type": "code",
   "execution_count": 9,
   "metadata": {
    "executionInfo": {
     "elapsed": 23555,
     "status": "ok",
     "timestamp": 1725872798066,
     "user": {
      "displayName": "SHIHAB MUHTASIM",
      "userId": "06646168134231725609"
     },
     "user_tz": -360
    },
    "id": "JLQSufFNMLpg"
   },
   "outputs": [],
   "source": [
    "# prompt: I want to process this for LSTM. so creating a vector, inside that for each user there will be a separate vector- inside which for each hour there will be 38 vectors for 38 hours of data. inside each hour vector there will be the data of Tweet Type_encoded\tRetweets Received\tLikes Received  Frequency\tVerified or Non-Verified\tUser Followers\tUser Following. shape like [[[],[]..],[[],[]...]..]\n",
    "\n",
    "def create_user_vector(df):\n",
    "  user_vector = []\n",
    "  for user_id in df['User  Id'].unique():\n",
    "    user_df = df[df['User  Id'] == user_id]\n",
    "    hour_vector = []\n",
    "    for hour in range(39):\n",
    "      hour_df = user_df[user_df['Hour'] == hour]\n",
    "      if not hour_df.empty:\n",
    "        features = hour_df[['Retweets Received', 'Likes Received', 'Verified or Non-Verified', 'User Followers', 'User Following','Average Likes', 'Average Retweets','Frequency']].values.tolist()[0]\n",
    "        hour_vector.append(features)\n",
    "      else:\n",
    "        hour_vector.append([0] * 8)  # Pad with zeros if no data for that hour\n",
    "    user_vector.append(hour_vector)\n",
    "  return user_vector\n",
    "\n",
    "lstm_data = create_user_vector(df)\n"
   ]
  },
  {
   "cell_type": "code",
   "execution_count": 10,
   "metadata": {
    "colab": {
     "base_uri": "https://localhost:8080/"
    },
    "executionInfo": {
     "elapsed": 36,
     "status": "ok",
     "timestamp": 1725872798068,
     "user": {
      "displayName": "SHIHAB MUHTASIM",
      "userId": "06646168134231725609"
     },
     "user_tz": -360
    },
    "id": "Hz9dgAwqOYCz",
    "outputId": "361f7a47-de55-4104-fc3a-ff5a06c5b88e",
    "scrolled": true
   },
   "outputs": [
    {
     "name": "stdout",
     "output_type": "stream",
     "text": [
      "Shape of lstm_data: (86353, 39, 8)\n",
      "\n",
      "First user's data for the first 5 hours:\n",
      "Hour 0: [0, 0, 0, 0, 0, 0, 0, 0]\n",
      "Hour 1: [0, 0, 0, 0, 0, 0, 0, 0]\n",
      "Hour 2: [0, 0, 0, 0, 0, 0, 0, 0]\n",
      "Hour 3: [0, 0, 0, 0, 0, 0, 0, 0]\n",
      "Hour 4: [0, 0, 0, 0, 0, 0, 0, 0]\n",
      "Hour 5: [0, 0, 0, 0, 0, 0, 0, 0]\n",
      "Hour 6: [0, 0, 0, 0, 0, 0, 0, 0]\n",
      "Hour 7: [0, 0, 0, 0, 0, 0, 0, 0]\n",
      "Hour 8: [0, 0, 0, 0, 0, 0, 0, 0]\n",
      "Hour 9: [0, 0, 0, 0, 0, 0, 0, 0]\n",
      "Hour 10: [0, 0, 0, 0, 0, 0, 0, 0]\n",
      "Hour 11: [0, 0, 0, 0, 0, 0, 0, 0]\n",
      "Hour 12: [0, 0, 0, 0, 0, 0, 0, 0]\n",
      "Hour 13: [0, 0, 0, 0, 0, 0, 0, 0]\n",
      "Hour 14: [0, 0, 0, 0, 0, 0, 0, 0]\n",
      "Hour 15: [0.0, 0.0, 0.0, 11.0, 24.0, 0.0, 0.0, 1.0]\n",
      "Hour 16: [0, 0, 0, 0, 0, 0, 0, 0]\n",
      "Hour 17: [0, 0, 0, 0, 0, 0, 0, 0]\n",
      "Hour 18: [0, 0, 0, 0, 0, 0, 0, 0]\n",
      "Hour 19: [0, 0, 0, 0, 0, 0, 0, 0]\n",
      "Hour 20: [0, 0, 0, 0, 0, 0, 0, 0]\n",
      "Hour 21: [0, 0, 0, 0, 0, 0, 0, 0]\n",
      "Hour 22: [0, 0, 0, 0, 0, 0, 0, 0]\n",
      "Hour 23: [0, 0, 0, 0, 0, 0, 0, 0]\n",
      "Hour 24: [0, 0, 0, 0, 0, 0, 0, 0]\n",
      "Hour 25: [0, 0, 0, 0, 0, 0, 0, 0]\n",
      "Hour 26: [0, 0, 0, 0, 0, 0, 0, 0]\n",
      "Hour 27: [0, 0, 0, 0, 0, 0, 0, 0]\n",
      "Hour 28: [0, 0, 0, 0, 0, 0, 0, 0]\n",
      "Hour 29: [0.0, 0.0, 0.0, 11.0, 24.0, 0.0, 0.0, 1.0]\n",
      "Hour 30: [0, 0, 0, 0, 0, 0, 0, 0]\n",
      "Hour 31: [0, 0, 0, 0, 0, 0, 0, 0]\n",
      "Hour 32: [0, 0, 0, 0, 0, 0, 0, 0]\n",
      "Hour 33: [0, 0, 0, 0, 0, 0, 0, 0]\n",
      "Hour 34: [0, 0, 0, 0, 0, 0, 0, 0]\n",
      "Hour 35: [0, 0, 0, 0, 0, 0, 0, 0]\n",
      "Hour 36: [0, 0, 0, 0, 0, 0, 0, 0]\n",
      "Hour 37: [0.0, 0.0, 0.0, 11.0, 24.0, 0.0, 0.0, 1.0]\n",
      "Hour 38: [0, 0, 0, 0, 0, 0, 0, 0]\n",
      "\n",
      "First 5 users' data for the first hour:\n",
      "User 0: [0, 0, 0, 0, 0, 0, 0, 0]\n",
      "User 1: [0, 0, 0, 0, 0, 0, 0, 0]\n",
      "User 2: [0, 0, 0, 0, 0, 0, 0, 0]\n",
      "User 3: [0.0, 0.0, 0.0, 903.0, 4997.0, 0.0, 0.0, 2.0]\n",
      "User 4: [0, 0, 0, 0, 0, 0, 0, 0]\n"
     ]
    }
   ],
   "source": [
    "# prompt: printing some of lstm_data in a way to help me visualize it's structure properly.  also printing its dimensions.\n",
    "\n",
    "# Print the shape of the lstm_data\n",
    "print(\"Shape of lstm_data:\", np.array(lstm_data).shape)\n",
    "\n",
    "# Print the first user's data for the first 5 hours\n",
    "print(\"\\nFirst user's data for the first 5 hours:\")\n",
    "for i in range(39):\n",
    "  print(f\"Hour {i}: {lstm_data[0][i]}\")\n",
    "\n",
    "# Print the first 5 users' data for the first hour\n",
    "print(\"\\nFirst 5 users' data for the first hour:\")\n",
    "for i in range(5):\n",
    "  print(f\"User {i}: {lstm_data[i][0]}\")\n"
   ]
  },
  {
   "cell_type": "code",
   "execution_count": 11,
   "metadata": {
    "colab": {
     "base_uri": "https://localhost:8080/"
    },
    "executionInfo": {
     "elapsed": 35,
     "status": "ok",
     "timestamp": 1725872798068,
     "user": {
      "displayName": "SHIHAB MUHTASIM",
      "userId": "06646168134231725609"
     },
     "user_tz": -360
    },
    "id": "DonoJVecParD",
    "outputId": "9b347309-455f-4ada-f3a5-ac7e303a3ef3"
   },
   "outputs": [
    {
     "data": {
      "text/plain": [
       "86353"
      ]
     },
     "execution_count": 11,
     "metadata": {},
     "output_type": "execute_result"
    }
   ],
   "source": [
    "# prompt: total number of unique user  ids in df\n",
    "\n",
    "len(df['User  Id'].unique())h\n"
   ]
  },
  {
   "cell_type": "code",
   "execution_count": 12,
   "metadata": {
    "executionInfo": {
     "elapsed": 33,
     "status": "ok",
     "timestamp": 1725872798068,
     "user": {
      "displayName": "SHIHAB MUHTASIM",
      "userId": "06646168134231725609"
     },
     "user_tz": -360
    },
    "id": "ZbY47XwyPzMG"
   },
   "outputs": [],
   "source": [
    "# # prompt:  imputing for the data in lstm_data to make sure the hours data which has no data because there is no user  id, those are not filled wth zeros only.\n",
    "\n",
    "# def impute_missing_data(lstm_data):\n",
    "#   for user_data in lstm_data:\n",
    "#     for hour in range(39):\n",
    "#       if user_data[hour] == [0] * 8:\n",
    "#         # Impute with the average of the previous and next hour's data\n",
    "#         prev_hour = (hour - 1) % 39\n",
    "#         next_hour = (hour + 1) % 39\n",
    "#         if user_data[prev_hour] != [0] * 8 or user_data[next_hour] != [0] * 8:\n",
    "#           imputed_data = [(a + b) / 2 for a, b in zip(user_data[prev_hour], user_data[next_hour])]\n",
    "#           user_data[hour] = imputed_data\n",
    "#   return lstm_data\n",
    "\n",
    "# lstm_data = impute_missing_data(lstm_data)\n"
   ]
  },
  {
   "cell_type": "code",
   "execution_count": 13,
   "metadata": {
    "executionInfo": {
     "elapsed": 32,
     "status": "ok",
     "timestamp": 1725872798068,
     "user": {
      "displayName": "SHIHAB MUHTASIM",
      "userId": "06646168134231725609"
     },
     "user_tz": -360
    },
    "id": "YKPsun-ZT96l"
   },
   "outputs": [],
   "source": [
    "# # prompt: similar to last imputing moving forward. do a backward check to impute the earlier values.\n",
    "\n",
    "# def impute_missing_data_backward(lstm_data):\n",
    "#   for user_data in lstm_data:\n",
    "#     for hour in range(38, -1, -1):  # Iterate backwards\n",
    "#       if user_data[hour] == [0] * 8:\n",
    "#         # Impute with the average of the previous and next hour's data\n",
    "#         prev_hour = (hour - 1) % 39\n",
    "#         next_hour = (hour + 1) % 39\n",
    "#         if user_data[prev_hour] != [0] * 8 or user_data[next_hour] != [0] * 8:\n",
    "#           imputed_data = [(a + b) / 2 for a, b in zip(user_data[prev_hour], user_data[next_hour])]\n",
    "#           user_data[hour] = imputed_data\n",
    "#   return lstm_data\n",
    "\n",
    "# lstm_data = impute_missing_data_backward(lstm_data)\n"
   ]
  },
  {
   "cell_type": "code",
   "execution_count": 27,
   "metadata": {},
   "outputs": [
    {
     "name": "stdout",
     "output_type": "stream",
     "text": [
      "lstm_data has been successfully exported.\n"
     ]
    }
   ],
   "source": [
    "# import pickle\n",
    "\n",
    "# # Export lstm_data to a file using pickle\n",
    "# with open('lstm_data.pkl', 'wb') as file:\n",
    "#     pickle.dump(lstm_data, file)\n",
    "\n",
    "# print(\"lstm_data has been successfully exported.\")\n"
   ]
  },
  {
   "cell_type": "code",
   "execution_count": null,
   "metadata": {},
   "outputs": [],
   "source": [
    "# import pickle\n",
    "\n",
    "# # Import lstm_data from the file\n",
    "# with open('lstm_data.pkl', 'rb') as file:\n",
    "#     lstm_data_loaded = pickle.load(file)\n",
    "\n",
    "# print(\"lstm_data has been successfully imported.\")\n"
   ]
  },
  {
   "cell_type": "code",
   "execution_count": 15,
   "metadata": {
    "executionInfo": {
     "elapsed": 28,
     "status": "ok",
     "timestamp": 1725872798068,
     "user": {
      "displayName": "SHIHAB MUHTASIM",
      "userId": "06646168134231725609"
     },
     "user_tz": -360
    },
    "id": "iP7YwgLj7_DN"
   },
   "outputs": [],
   "source": [
    "# import random\n",
    "\n",
    "# # Shuffle the user data\n",
    "# random.shuffle(lstm_data)"
   ]
  },
  {
   "cell_type": "code",
   "execution_count": 16,
   "metadata": {
    "executionInfo": {
     "elapsed": 28,
     "status": "ok",
     "timestamp": 1725872798068,
     "user": {
      "displayName": "SHIHAB MUHTASIM",
      "userId": "06646168134231725609"
     },
     "user_tz": -360
    },
    "id": "CPz_vv7C7_DN"
   },
   "outputs": [],
   "source": [
    "# # prompt: print some of lstm_data in a way to help me visualize it's structure properly.  also print its dimensions.\n",
    "\n",
    "# # Print the shape of the lstm_data\n",
    "# print(\"Shape of lstm_data:\", np.array(lstm_data).shape)\n",
    "\n",
    "# # Print the first user's data for the first 5 hours\n",
    "# print(\"\\nFirst user's data for the first 5 hours:\")\n",
    "# for i in range(39):\n",
    "#   print(f\"Hour {i}: {lstm_data[0][i]}\")\n",
    "\n",
    "# # Print the first 5 users' data for the first hour\n",
    "# print(\"\\nFirst 5 users' data for the first hour:\")\n",
    "# for i in range(5):\n",
    "#   print(f\"User {i}: {lstm_data[i][0]}\")\n"
   ]
  },
  {
   "cell_type": "code",
   "execution_count": 17,
   "metadata": {},
   "outputs": [
    {
     "name": "stdout",
     "output_type": "stream",
     "text": [
      "Original lstm_data_array shape: (86353, 39, 8)\n",
      "Shape of X (all columns except last): (86353, 39, 7)\n",
      "Shape of last_column (last column only): (86353, 39)\n",
      "Shape of X_reshaped for scaling: (3367767, 7)\n",
      "Shape of last_column_reshaped for scaling: (3367767, 1)\n",
      "Shape of X_scaled after transformation: (3367767, 7)\n",
      "Shape of last_column_scaled after transformation: (3367767, 1)\n",
      "Shape of X_scaled after reshaping: (86353, 39, 7)\n",
      "Shape of last_column_scaled after reshaping: (86353, 39, 1)\n",
      "Shape of lstm_data_normalized after concatenation: (86353, 39, 8)\n"
     ]
    }
   ],
   "source": [
    "import numpy as np\n",
    "from sklearn.preprocessing import StandardScaler\n",
    "\n",
    "# Assuming lstm_data is your original data\n",
    "\n",
    "# Convert lstm_data to a numpy array\n",
    "lstm_data_array = np.array(lstm_data)\n",
    "print(\"Original lstm_data_array shape:\", lstm_data_array.shape)\n",
    "\n",
    "# Separate the last column from the rest of the data\n",
    "X = lstm_data_array[:, :, :-1]  # All columns except the last one\n",
    "last_column = lstm_data_array[:, :, -1]  # Last column only\n",
    "print(\"Shape of X (all columns except last):\", X.shape)\n",
    "print(\"Shape of last_column (last column only):\", last_column.shape)\n",
    "\n",
    "# Reshape for scaling\n",
    "X_reshaped = X.reshape(-1, X.shape[-1])\n",
    "last_column_reshaped = last_column.reshape(-1, 1)\n",
    "print(\"Shape of X_reshaped for scaling:\", X_reshaped.shape)\n",
    "print(\"Shape of last_column_reshaped for scaling:\", last_column_reshaped.shape)\n",
    "\n",
    "# Create StandardScaler objects for different scaling\n",
    "scaler_X = StandardScaler()\n",
    "scaler_last = StandardScaler()\n",
    "\n",
    "# Fit and transform the data\n",
    "X_scaled = scaler_X.fit_transform(X_reshaped)\n",
    "last_column_scaled = scaler_last.fit_transform(last_column_reshaped)\n",
    "print(\"Shape of X_scaled after transformation:\", X_scaled.shape)\n",
    "print(\"Shape of last_column_scaled after transformation:\", last_column_scaled.shape)\n",
    "\n",
    "# Reshape back to the original shape\n",
    "X_scaled = X_scaled.reshape(lstm_data_array.shape[0], lstm_data_array.shape[1], -1)\n",
    "last_column_scaled = last_column_scaled.reshape(lstm_data_array.shape[0], lstm_data_array.shape[1], 1)\n",
    "\n",
    "print(\"Shape of X_scaled after reshaping:\", X_scaled.shape)\n",
    "print(\"Shape of last_column_scaled after reshaping:\", last_column_scaled.shape)\n",
    "\n",
    "# Concatenate the scaled data\n",
    "lstm_data_normalized = np.concatenate((X_scaled, last_column_scaled), axis=-1)\n",
    "print(\"Shape of lstm_data_normalized after concatenation:\", lstm_data_normalized.shape)\n"
   ]
  },
  {
   "cell_type": "code",
   "execution_count": 18,
   "metadata": {
    "colab": {
     "base_uri": "https://localhost:8080/"
    },
    "executionInfo": {
     "elapsed": 28,
     "status": "ok",
     "timestamp": 1725872798068,
     "user": {
      "displayName": "SHIHAB MUHTASIM",
      "userId": "06646168134231725609"
     },
     "user_tz": -360
    },
    "id": "5uy5_MMTT-mV",
    "outputId": "9e01953f-0fd8-4ad8-84d4-8d48f16b77c4"
   },
   "outputs": [],
   "source": [
    "# # prompt: now normalize the lstm_data by using standard scaler\n",
    "\n",
    "# from sklearn.preprocessing import StandardScaler\n",
    "\n",
    "# # Reshape the data for scaling\n",
    "# lstm_data_reshaped = np.array(lstm_data).reshape(-1, 8)\n",
    "\n",
    "# # Create a StandardScaler object\n",
    "# scaler = StandardScaler()\n",
    "\n",
    "# # Fit and transform the data\n",
    "# lstm_data_scaled = scaler.fit_transform(lstm_data_reshaped)\n",
    "\n",
    "# # Reshape the data back to its original shape\n",
    "# lstm_data_normalized = lstm_data_scaled.reshape(np.array(lstm_data).shape)\n",
    "\n",
    "# # Print the shape of the normalized lstm_data\n",
    "# print(\"Shape of lstm_data_normalized:\", lstm_data_normalized.shape)\n"
   ]
  },
  {
   "cell_type": "code",
   "execution_count": 19,
   "metadata": {
    "colab": {
     "base_uri": "https://localhost:8080/"
    },
    "executionInfo": {
     "elapsed": 26,
     "status": "ok",
     "timestamp": 1725872798069,
     "user": {
      "displayName": "SHIHAB MUHTASIM",
      "userId": "06646168134231725609"
     },
     "user_tz": -360
    },
    "id": "AvvZiyHeUf0b",
    "outputId": "d6a6d4dc-69c4-4e86-8917-9315589962fb"
   },
   "outputs": [],
   "source": [
    "# # prompt: print some of lstm_data in a way to help me visualize it's structure properly.  also print its dimensions.\n",
    "\n",
    "# # Print the shape of the lstm_data\n",
    "# print(\"Shape of lstm_data:\", np.array(lstm_data_normalized).shape)\n",
    "\n",
    "# # Print the first user's data for the first 5 hours\n",
    "# print(\"\\nFirst user's data for the first 5 hours:\")\n",
    "# for i in range(39):\n",
    "#   print(f\"Hour {i}: {lstm_data_normalized[0][i]}\")\n",
    "\n",
    "# # Print the first 5 users' data for the first hour\n",
    "# print(\"\\nFirst 5 users' data for the first hour:\")\n",
    "# for i in range(5):\n",
    "#   print(f\"User {i}: {lstm_data_normalized[i][0]}\")\n"
   ]
  },
  {
   "cell_type": "code",
   "execution_count": 20,
   "metadata": {
    "colab": {
     "base_uri": "https://localhost:8080/"
    },
    "executionInfo": {
     "elapsed": 24,
     "status": "ok",
     "timestamp": 1725872798069,
     "user": {
      "displayName": "SHIHAB MUHTASIM",
      "userId": "06646168134231725609"
     },
     "user_tz": -360
    },
    "id": "DWHhouKFU0Bl",
    "outputId": "a7800997-e153-4b2f-9c3c-82bc87030f79"
   },
   "outputs": [
    {
     "name": "stdout",
     "output_type": "stream",
     "text": [
      "Train data shape: (77717, 39, 8)\n",
      "Validation data shape: (8636, 39, 8)\n"
     ]
    }
   ],
   "source": [
    "# Calculate the split indices (90% for training and 10% for validation)\n",
    "train_size = int(0.9 * len(lstm_data_normalized))\n",
    "val_size = len(lstm_data_normalized) - train_size\n",
    "\n",
    "# Split the data\n",
    "train_data = lstm_data_normalized[:train_size]\n",
    "val_data = lstm_data_normalized[train_size:]\n",
    "\n",
    "# Print the shapes of the split data\n",
    "print(\"Train data shape:\", train_data.shape)\n",
    "print(\"Validation data shape:\", val_data.shape)\n"
   ]
  },
  {
   "cell_type": "code",
   "execution_count": 21,
   "metadata": {
    "colab": {
     "base_uri": "https://localhost:8080/"
    },
    "executionInfo": {
     "elapsed": 21,
     "status": "ok",
     "timestamp": 1725872798069,
     "user": {
      "displayName": "SHIHAB MUHTASIM",
      "userId": "06646168134231725609"
     },
     "user_tz": -360
    },
    "id": "lAYnPFDNUrdi",
    "outputId": "0910de44-0534-4bf4-b47d-bd74500b316c"
   },
   "outputs": [
    {
     "name": "stdout",
     "output_type": "stream",
     "text": [
      "Train x shape: (77717, 38, 8)\n",
      "Train y shape: (77717, 1, 8)\n",
      "Validation x shape: (8636, 38, 8)\n",
      "Validation y shape: (8636, 1, 8)\n"
     ]
    }
   ],
   "source": [
    "# prompt: so the shape is (1059, 39, 7) for train_data. from this, create train_x so that the shape is (1059,37,7). hence for each instance take only the first 37 in x and create train_y where for each user the last 2 will be there with shape (1059,2,7)\n",
    "\n",
    "# Create train_x and train_y\n",
    "train_x = train_data[:, :38, :]\n",
    "train_y = train_data[:, 38:, :]\n",
    "\n",
    "# test_x = test_data[:, :38, :]\n",
    "# test_y = test_data[:, 38:, :]\n",
    "\n",
    "val_x = val_data[:, :38, :]\n",
    "val_y = val_data[:, 38:, :]\n",
    "\n",
    "# Print the shapes of train_x and train_y\n",
    "print(\"Train x shape:\", train_x.shape)\n",
    "print(\"Train y shape:\", train_y.shape)\n",
    "# print(\"Test x shape:\", test_x.shape)\n",
    "# print(\"Test y shape:\", test_y.shape)\n",
    "print(\"Validation x shape:\", val_x.shape)\n",
    "print(\"Validation y shape:\", val_y.shape)\n"
   ]
  },
  {
   "cell_type": "code",
   "execution_count": 22,
   "metadata": {
    "colab": {
     "base_uri": "https://localhost:8080/"
    },
    "executionInfo": {
     "elapsed": 19,
     "status": "ok",
     "timestamp": 1725872798069,
     "user": {
      "displayName": "SHIHAB MUHTASIM",
      "userId": "06646168134231725609"
     },
     "user_tz": -360
    },
    "id": "MDwI6ONC-Qog",
    "outputId": "1a204f15-a7fe-4c1b-91e9-17556bbbb965"
   },
   "outputs": [
    {
     "name": "stdout",
     "output_type": "stream",
     "text": [
      "[[-0.00496104 -0.00809696 -0.01313574 -0.01209958 -0.05196782 -0.007176\n",
      "  -0.00438356 -0.10481759]]\n"
     ]
    }
   ],
   "source": [
    "print(train_y[0])"
   ]
  },
  {
   "cell_type": "code",
   "execution_count": 23,
   "metadata": {
    "colab": {
     "base_uri": "https://localhost:8080/"
    },
    "executionInfo": {
     "elapsed": 18,
     "status": "ok",
     "timestamp": 1725872798069,
     "user": {
      "displayName": "SHIHAB MUHTASIM",
      "userId": "06646168134231725609"
     },
     "user_tz": -360
    },
    "id": "HGU88EQd9r0y",
    "outputId": "29e06221-5efd-42bb-cf06-e2a77c98a461"
   },
   "outputs": [
    {
     "name": "stdout",
     "output_type": "stream",
     "text": [
      "Train x shape: (77717, 38, 8)\n",
      "Train y shape: (77717, 1, 1)\n",
      "Validation x shape: (8636, 38, 8)\n",
      "Validation y shape: (8636, 1, 1)\n"
     ]
    }
   ],
   "source": [
    "# prompt: in trainy test y and valy, remove values of the last dimension and make it 1 by keeping only the last entry. So the shape of train y becomes (1059,1,1) where out of the 6 values in the last dimension only the last value will be present.\n",
    "\n",
    "train_y = train_y[:, :, -1].reshape(train_y.shape[0], 1, 1)\n",
    "# test_y = test_y[:, :, -1].reshape(test_y.shape[0], 1, 1)\n",
    "val_y = val_y[:, :, -1].reshape(val_y.shape[0], 1, 1)\n",
    "\n",
    "# Print the shapes of train_x and train_y\n",
    "print(\"Train x shape:\", train_x.shape)\n",
    "print(\"Train y shape:\", train_y.shape)\n",
    "# print(\"Test x shape:\", test_x.shape)\n",
    "# print(\"Test y shape:\", test_y.shape)\n",
    "print(\"Validation x shape:\", val_x.shape)\n",
    "print(\"Validation y shape:\", val_y.shape)\n"
   ]
  },
  {
   "cell_type": "code",
   "execution_count": 24,
   "metadata": {
    "colab": {
     "base_uri": "https://localhost:8080/",
     "height": 357
    },
    "executionInfo": {
     "elapsed": 647,
     "status": "ok",
     "timestamp": 1725872985870,
     "user": {
      "displayName": "SHIHAB MUHTASIM",
      "userId": "06646168134231725609"
     },
     "user_tz": -360
    },
    "id": "H86DBVUEeERI",
    "outputId": "44e08cf8-2825-4d50-8019-bff91ba07b41"
   },
   "outputs": [
    {
     "name": "stderr",
     "output_type": "stream",
     "text": [
      "C:\\Users\\21301610\\AppData\\Roaming\\Python\\Python311\\site-packages\\keras\\src\\layers\\rnn\\rnn.py:204: UserWarning: Do not pass an `input_shape`/`input_dim` argument to a layer. When using Sequential models, prefer using an `Input(shape)` object as the first layer in the model instead.\n",
      "  super().__init__(**kwargs)\n"
     ]
    },
    {
     "data": {
      "text/html": [
       "<pre style=\"white-space:pre;overflow-x:auto;line-height:normal;font-family:Menlo,'DejaVu Sans Mono',consolas,'Courier New',monospace\"><span style=\"font-weight: bold\">Model: \"sequential\"</span>\n",
       "</pre>\n"
      ],
      "text/plain": [
       "\u001b[1mModel: \"sequential\"\u001b[0m\n"
      ]
     },
     "metadata": {},
     "output_type": "display_data"
    },
    {
     "data": {
      "text/html": [
       "<pre style=\"white-space:pre;overflow-x:auto;line-height:normal;font-family:Menlo,'DejaVu Sans Mono',consolas,'Courier New',monospace\">┏━━━━━━━━━━━━━━━━━━━━━━━━━━━━━━━━━━━━━━┳━━━━━━━━━━━━━━━━━━━━━━━━━━━━━┳━━━━━━━━━━━━━━━━━┓\n",
       "┃<span style=\"font-weight: bold\"> Layer (type)                         </span>┃<span style=\"font-weight: bold\"> Output Shape                </span>┃<span style=\"font-weight: bold\">         Param # </span>┃\n",
       "┡━━━━━━━━━━━━━━━━━━━━━━━━━━━━━━━━━━━━━━╇━━━━━━━━━━━━━━━━━━━━━━━━━━━━━╇━━━━━━━━━━━━━━━━━┩\n",
       "│ lstm (<span style=\"color: #0087ff; text-decoration-color: #0087ff\">LSTM</span>)                          │ (<span style=\"color: #00d7ff; text-decoration-color: #00d7ff\">None</span>, <span style=\"color: #00af00; text-decoration-color: #00af00\">38</span>, <span style=\"color: #00af00; text-decoration-color: #00af00\">38</span>)              │           <span style=\"color: #00af00; text-decoration-color: #00af00\">7,144</span> │\n",
       "├──────────────────────────────────────┼─────────────────────────────┼─────────────────┤\n",
       "│ dropout (<span style=\"color: #0087ff; text-decoration-color: #0087ff\">Dropout</span>)                    │ (<span style=\"color: #00d7ff; text-decoration-color: #00d7ff\">None</span>, <span style=\"color: #00af00; text-decoration-color: #00af00\">38</span>, <span style=\"color: #00af00; text-decoration-color: #00af00\">38</span>)              │               <span style=\"color: #00af00; text-decoration-color: #00af00\">0</span> │\n",
       "├──────────────────────────────────────┼─────────────────────────────┼─────────────────┤\n",
       "│ lstm_1 (<span style=\"color: #0087ff; text-decoration-color: #0087ff\">LSTM</span>)                        │ (<span style=\"color: #00d7ff; text-decoration-color: #00d7ff\">None</span>, <span style=\"color: #00af00; text-decoration-color: #00af00\">38</span>)                  │          <span style=\"color: #00af00; text-decoration-color: #00af00\">11,704</span> │\n",
       "├──────────────────────────────────────┼─────────────────────────────┼─────────────────┤\n",
       "│ dropout_1 (<span style=\"color: #0087ff; text-decoration-color: #0087ff\">Dropout</span>)                  │ (<span style=\"color: #00d7ff; text-decoration-color: #00d7ff\">None</span>, <span style=\"color: #00af00; text-decoration-color: #00af00\">38</span>)                  │               <span style=\"color: #00af00; text-decoration-color: #00af00\">0</span> │\n",
       "├──────────────────────────────────────┼─────────────────────────────┼─────────────────┤\n",
       "│ dense (<span style=\"color: #0087ff; text-decoration-color: #0087ff\">Dense</span>)                        │ (<span style=\"color: #00d7ff; text-decoration-color: #00d7ff\">None</span>, <span style=\"color: #00af00; text-decoration-color: #00af00\">1</span>)                   │              <span style=\"color: #00af00; text-decoration-color: #00af00\">39</span> │\n",
       "└──────────────────────────────────────┴─────────────────────────────┴─────────────────┘\n",
       "</pre>\n"
      ],
      "text/plain": [
       "┏━━━━━━━━━━━━━━━━━━━━━━━━━━━━━━━━━━━━━━┳━━━━━━━━━━━━━━━━━━━━━━━━━━━━━┳━━━━━━━━━━━━━━━━━┓\n",
       "┃\u001b[1m \u001b[0m\u001b[1mLayer (type)                        \u001b[0m\u001b[1m \u001b[0m┃\u001b[1m \u001b[0m\u001b[1mOutput Shape               \u001b[0m\u001b[1m \u001b[0m┃\u001b[1m \u001b[0m\u001b[1m        Param #\u001b[0m\u001b[1m \u001b[0m┃\n",
       "┡━━━━━━━━━━━━━━━━━━━━━━━━━━━━━━━━━━━━━━╇━━━━━━━━━━━━━━━━━━━━━━━━━━━━━╇━━━━━━━━━━━━━━━━━┩\n",
       "│ lstm (\u001b[38;5;33mLSTM\u001b[0m)                          │ (\u001b[38;5;45mNone\u001b[0m, \u001b[38;5;34m38\u001b[0m, \u001b[38;5;34m38\u001b[0m)              │           \u001b[38;5;34m7,144\u001b[0m │\n",
       "├──────────────────────────────────────┼─────────────────────────────┼─────────────────┤\n",
       "│ dropout (\u001b[38;5;33mDropout\u001b[0m)                    │ (\u001b[38;5;45mNone\u001b[0m, \u001b[38;5;34m38\u001b[0m, \u001b[38;5;34m38\u001b[0m)              │               \u001b[38;5;34m0\u001b[0m │\n",
       "├──────────────────────────────────────┼─────────────────────────────┼─────────────────┤\n",
       "│ lstm_1 (\u001b[38;5;33mLSTM\u001b[0m)                        │ (\u001b[38;5;45mNone\u001b[0m, \u001b[38;5;34m38\u001b[0m)                  │          \u001b[38;5;34m11,704\u001b[0m │\n",
       "├──────────────────────────────────────┼─────────────────────────────┼─────────────────┤\n",
       "│ dropout_1 (\u001b[38;5;33mDropout\u001b[0m)                  │ (\u001b[38;5;45mNone\u001b[0m, \u001b[38;5;34m38\u001b[0m)                  │               \u001b[38;5;34m0\u001b[0m │\n",
       "├──────────────────────────────────────┼─────────────────────────────┼─────────────────┤\n",
       "│ dense (\u001b[38;5;33mDense\u001b[0m)                        │ (\u001b[38;5;45mNone\u001b[0m, \u001b[38;5;34m1\u001b[0m)                   │              \u001b[38;5;34m39\u001b[0m │\n",
       "└──────────────────────────────────────┴─────────────────────────────┴─────────────────┘\n"
      ]
     },
     "metadata": {},
     "output_type": "display_data"
    },
    {
     "data": {
      "text/html": [
       "<pre style=\"white-space:pre;overflow-x:auto;line-height:normal;font-family:Menlo,'DejaVu Sans Mono',consolas,'Courier New',monospace\"><span style=\"font-weight: bold\"> Total params: </span><span style=\"color: #00af00; text-decoration-color: #00af00\">18,887</span> (73.78 KB)\n",
       "</pre>\n"
      ],
      "text/plain": [
       "\u001b[1m Total params: \u001b[0m\u001b[38;5;34m18,887\u001b[0m (73.78 KB)\n"
      ]
     },
     "metadata": {},
     "output_type": "display_data"
    },
    {
     "data": {
      "text/html": [
       "<pre style=\"white-space:pre;overflow-x:auto;line-height:normal;font-family:Menlo,'DejaVu Sans Mono',consolas,'Courier New',monospace\"><span style=\"font-weight: bold\"> Trainable params: </span><span style=\"color: #00af00; text-decoration-color: #00af00\">18,887</span> (73.78 KB)\n",
       "</pre>\n"
      ],
      "text/plain": [
       "\u001b[1m Trainable params: \u001b[0m\u001b[38;5;34m18,887\u001b[0m (73.78 KB)\n"
      ]
     },
     "metadata": {},
     "output_type": "display_data"
    },
    {
     "data": {
      "text/html": [
       "<pre style=\"white-space:pre;overflow-x:auto;line-height:normal;font-family:Menlo,'DejaVu Sans Mono',consolas,'Courier New',monospace\"><span style=\"font-weight: bold\"> Non-trainable params: </span><span style=\"color: #00af00; text-decoration-color: #00af00\">0</span> (0.00 B)\n",
       "</pre>\n"
      ],
      "text/plain": [
       "\u001b[1m Non-trainable params: \u001b[0m\u001b[38;5;34m0\u001b[0m (0.00 B)\n"
      ]
     },
     "metadata": {},
     "output_type": "display_data"
    }
   ],
   "source": [
    "# prompt: create an LSTM model so that it can predict all 7 features for the last hour 1 hour that is in train y.\n",
    "\n",
    "from tensorflow.keras.models import Sequential\n",
    "from tensorflow.keras.layers import LSTM, Dense, Dropout\n",
    "from tensorflow.keras import regularizers\n",
    "\n",
    "# Define the model\n",
    "model = Sequential()\n",
    "model.add(LSTM(38, return_sequences=True, input_shape=(train_x.shape[1], train_x.shape[2]), kernel_regularizer=regularizers.l2(0.01)))\n",
    "model.add(Dropout(0.2))  # Dropout after the first LSTM layer\n",
    "model.add(LSTM(38, kernel_regularizer=regularizers.l2(0.01)))\n",
    "model.add(Dropout(0.2))  # Dropout after the second LSTM layer\n",
    "model.add(Dense(1))  # Output layer with 1 units for the 1 features\n",
    "\n",
    "# Compile the model (you'll need to choose an optimizer and loss function)\n",
    "model.compile(loss='mse', optimizer='adam')\n",
    "\n",
    "# Print the model summary\n",
    "model.summary()\n"
   ]
  },
  {
   "cell_type": "code",
   "execution_count": 25,
   "metadata": {
    "executionInfo": {
     "elapsed": 9,
     "status": "aborted",
     "timestamp": 1725872798531,
     "user": {
      "displayName": "SHIHAB MUHTASIM",
      "userId": "06646168134231725609"
     },
     "user_tz": -360
    },
    "id": "WxyNUyC6eT5H"
   },
   "outputs": [],
   "source": [
    "# history = model.fit(train_x, train_y, epochs=5, batch_size=32, validation_data=(val_x, val_y))"
   ]
  },
  {
   "cell_type": "code",
   "execution_count": 28,
   "metadata": {
    "colab": {
     "base_uri": "https://localhost:8080/"
    },
    "executionInfo": {
     "elapsed": 25358,
     "status": "ok",
     "timestamp": 1725873016139,
     "user": {
      "displayName": "SHIHAB MUHTASIM",
      "userId": "06646168134231725609"
     },
     "user_tz": -360
    },
    "id": "JC3fcs0rZ7Fz",
    "outputId": "741a18a0-da81-459b-adeb-a1929d6de58e"
   },
   "outputs": [
    {
     "name": "stdout",
     "output_type": "stream",
     "text": [
      "Epoch 1/100\n",
      "\u001b[1m2429/2429\u001b[0m \u001b[32m━━━━━━━━━━━━━━━━━━━━\u001b[0m\u001b[37m\u001b[0m \u001b[1m23s\u001b[0m 9ms/step - loss: 0.3555 - val_loss: 0.5126\n",
      "Epoch 2/100\n",
      "\u001b[1m2429/2429\u001b[0m \u001b[32m━━━━━━━━━━━━━━━━━━━━\u001b[0m\u001b[37m\u001b[0m \u001b[1m23s\u001b[0m 9ms/step - loss: 0.2671 - val_loss: 0.5092\n",
      "Epoch 3/100\n",
      "\u001b[1m2429/2429\u001b[0m \u001b[32m━━━━━━━━━━━━━━━━━━━━\u001b[0m\u001b[37m\u001b[0m \u001b[1m23s\u001b[0m 10ms/step - loss: 0.3355 - val_loss: 0.5043\n",
      "Epoch 4/100\n",
      "\u001b[1m2429/2429\u001b[0m \u001b[32m━━━━━━━━━━━━━━━━━━━━\u001b[0m\u001b[37m\u001b[0m \u001b[1m24s\u001b[0m 10ms/step - loss: 0.3138 - val_loss: 0.5140\n",
      "Epoch 5/100\n",
      "\u001b[1m2429/2429\u001b[0m \u001b[32m━━━━━━━━━━━━━━━━━━━━\u001b[0m\u001b[37m\u001b[0m \u001b[1m23s\u001b[0m 10ms/step - loss: 0.2228 - val_loss: 0.5156\n",
      "Epoch 6/100\n",
      "\u001b[1m2429/2429\u001b[0m \u001b[32m━━━━━━━━━━━━━━━━━━━━\u001b[0m\u001b[37m\u001b[0m \u001b[1m23s\u001b[0m 10ms/step - loss: 0.3327 - val_loss: 0.4988\n",
      "Epoch 7/100\n",
      "\u001b[1m2429/2429\u001b[0m \u001b[32m━━━━━━━━━━━━━━━━━━━━\u001b[0m\u001b[37m\u001b[0m \u001b[1m24s\u001b[0m 10ms/step - loss: 0.4308 - val_loss: 0.4894\n",
      "Epoch 8/100\n",
      "\u001b[1m2429/2429\u001b[0m \u001b[32m━━━━━━━━━━━━━━━━━━━━\u001b[0m\u001b[37m\u001b[0m \u001b[1m23s\u001b[0m 10ms/step - loss: 0.3359 - val_loss: 0.4932\n",
      "Epoch 9/100\n",
      "\u001b[1m2429/2429\u001b[0m \u001b[32m━━━━━━━━━━━━━━━━━━━━\u001b[0m\u001b[37m\u001b[0m \u001b[1m23s\u001b[0m 10ms/step - loss: 0.2099 - val_loss: 0.4813\n",
      "Epoch 10/100\n",
      "\u001b[1m2429/2429\u001b[0m \u001b[32m━━━━━━━━━━━━━━━━━━━━\u001b[0m\u001b[37m\u001b[0m \u001b[1m23s\u001b[0m 10ms/step - loss: 0.3571 - val_loss: 0.4828\n",
      "Epoch 11/100\n",
      "\u001b[1m2429/2429\u001b[0m \u001b[32m━━━━━━━━━━━━━━━━━━━━\u001b[0m\u001b[37m\u001b[0m \u001b[1m24s\u001b[0m 10ms/step - loss: 0.4410 - val_loss: 0.4741\n",
      "Epoch 12/100\n",
      "\u001b[1m2429/2429\u001b[0m \u001b[32m━━━━━━━━━━━━━━━━━━━━\u001b[0m\u001b[37m\u001b[0m \u001b[1m25s\u001b[0m 10ms/step - loss: 0.3837 - val_loss: 0.4734\n",
      "Epoch 13/100\n",
      "\u001b[1m2429/2429\u001b[0m \u001b[32m━━━━━━━━━━━━━━━━━━━━\u001b[0m\u001b[37m\u001b[0m \u001b[1m24s\u001b[0m 10ms/step - loss: 0.3402 - val_loss: 0.4771\n",
      "Epoch 14/100\n",
      "\u001b[1m2429/2429\u001b[0m \u001b[32m━━━━━━━━━━━━━━━━━━━━\u001b[0m\u001b[37m\u001b[0m \u001b[1m23s\u001b[0m 9ms/step - loss: 0.4035 - val_loss: 0.4708\n",
      "Epoch 15/100\n",
      "\u001b[1m2429/2429\u001b[0m \u001b[32m━━━━━━━━━━━━━━━━━━━━\u001b[0m\u001b[37m\u001b[0m \u001b[1m23s\u001b[0m 10ms/step - loss: 0.4617 - val_loss: 0.4808\n",
      "Epoch 16/100\n",
      "\u001b[1m2429/2429\u001b[0m \u001b[32m━━━━━━━━━━━━━━━━━━━━\u001b[0m\u001b[37m\u001b[0m \u001b[1m24s\u001b[0m 10ms/step - loss: 0.3641 - val_loss: 0.5169\n",
      "Epoch 17/100\n",
      "\u001b[1m2429/2429\u001b[0m \u001b[32m━━━━━━━━━━━━━━━━━━━━\u001b[0m\u001b[37m\u001b[0m \u001b[1m24s\u001b[0m 10ms/step - loss: 0.2606 - val_loss: 0.4802\n",
      "Epoch 18/100\n",
      "\u001b[1m2429/2429\u001b[0m \u001b[32m━━━━━━━━━━━━━━━━━━━━\u001b[0m\u001b[37m\u001b[0m \u001b[1m25s\u001b[0m 10ms/step - loss: 0.3429 - val_loss: 0.4744\n",
      "Epoch 19/100\n",
      "\u001b[1m2429/2429\u001b[0m \u001b[32m━━━━━━━━━━━━━━━━━━━━\u001b[0m\u001b[37m\u001b[0m \u001b[1m24s\u001b[0m 10ms/step - loss: 0.2623 - val_loss: 0.4666\n",
      "Epoch 20/100\n",
      "\u001b[1m2429/2429\u001b[0m \u001b[32m━━━━━━━━━━━━━━━━━━━━\u001b[0m\u001b[37m\u001b[0m \u001b[1m24s\u001b[0m 10ms/step - loss: 0.2645 - val_loss: 0.5011\n",
      "Epoch 21/100\n",
      "\u001b[1m2429/2429\u001b[0m \u001b[32m━━━━━━━━━━━━━━━━━━━━\u001b[0m\u001b[37m\u001b[0m \u001b[1m23s\u001b[0m 10ms/step - loss: 0.3175 - val_loss: 0.4556\n",
      "Epoch 22/100\n",
      "\u001b[1m2429/2429\u001b[0m \u001b[32m━━━━━━━━━━━━━━━━━━━━\u001b[0m\u001b[37m\u001b[0m \u001b[1m24s\u001b[0m 10ms/step - loss: 0.2161 - val_loss: 0.4719\n",
      "Epoch 23/100\n",
      "\u001b[1m2429/2429\u001b[0m \u001b[32m━━━━━━━━━━━━━━━━━━━━\u001b[0m\u001b[37m\u001b[0m \u001b[1m25s\u001b[0m 10ms/step - loss: 0.2950 - val_loss: 0.4729\n",
      "Epoch 24/100\n",
      "\u001b[1m2429/2429\u001b[0m \u001b[32m━━━━━━━━━━━━━━━━━━━━\u001b[0m\u001b[37m\u001b[0m \u001b[1m26s\u001b[0m 11ms/step - loss: 0.3648 - val_loss: 0.4769\n",
      "Epoch 25/100\n",
      "\u001b[1m2429/2429\u001b[0m \u001b[32m━━━━━━━━━━━━━━━━━━━━\u001b[0m\u001b[37m\u001b[0m \u001b[1m26s\u001b[0m 11ms/step - loss: 0.2411 - val_loss: 0.4805\n",
      "Epoch 26/100\n",
      "\u001b[1m2429/2429\u001b[0m \u001b[32m━━━━━━━━━━━━━━━━━━━━\u001b[0m\u001b[37m\u001b[0m \u001b[1m23s\u001b[0m 9ms/step - loss: 0.3002 - val_loss: 0.4924\n",
      "Epoch 27/100\n",
      "\u001b[1m2429/2429\u001b[0m \u001b[32m━━━━━━━━━━━━━━━━━━━━\u001b[0m\u001b[37m\u001b[0m \u001b[1m23s\u001b[0m 10ms/step - loss: 0.3377 - val_loss: 0.4574\n",
      "Epoch 28/100\n",
      "\u001b[1m2429/2429\u001b[0m \u001b[32m━━━━━━━━━━━━━━━━━━━━\u001b[0m\u001b[37m\u001b[0m \u001b[1m24s\u001b[0m 10ms/step - loss: 0.3710 - val_loss: 0.4678\n",
      "Epoch 29/100\n",
      "\u001b[1m2429/2429\u001b[0m \u001b[32m━━━━━━━━━━━━━━━━━━━━\u001b[0m\u001b[37m\u001b[0m \u001b[1m23s\u001b[0m 10ms/step - loss: 0.2816 - val_loss: 0.4851\n",
      "Epoch 30/100\n",
      "\u001b[1m2429/2429\u001b[0m \u001b[32m━━━━━━━━━━━━━━━━━━━━\u001b[0m\u001b[37m\u001b[0m \u001b[1m23s\u001b[0m 10ms/step - loss: 0.3480 - val_loss: 0.4619\n",
      "Epoch 31/100\n",
      "\u001b[1m2429/2429\u001b[0m \u001b[32m━━━━━━━━━━━━━━━━━━━━\u001b[0m\u001b[37m\u001b[0m \u001b[1m24s\u001b[0m 10ms/step - loss: 0.3902 - val_loss: 0.4891\n"
     ]
    }
   ],
   "source": [
    "# prompt: now implement early stopping\n",
    "\n",
    "from tensorflow.keras.callbacks import EarlyStopping\n",
    "\n",
    "# Define the early stopping callback\n",
    "early_stopping = EarlyStopping(monitor='val_loss', patience=10)\n",
    "\n",
    "# Fit the model with early stopping\n",
    "history = model.fit(train_x, train_y, epochs=100, batch_size=32, validation_data=(val_x, val_y), callbacks=[early_stopping])\n"
   ]
  },
  {
   "cell_type": "code",
   "execution_count": 29,
   "metadata": {
    "colab": {
     "base_uri": "https://localhost:8080/",
     "height": 430
    },
    "executionInfo": {
     "elapsed": 853,
     "status": "ok",
     "timestamp": 1725873016991,
     "user": {
      "displayName": "SHIHAB MUHTASIM",
      "userId": "06646168134231725609"
     },
     "user_tz": -360
    },
    "id": "1aQA1AsEaDTH",
    "outputId": "cae75c07-0f4d-40b3-b4e7-ad8d1027a8cb"
   },
   "outputs": [
    {
     "data": {
      "image/png": "[encoded data removed]",
      "text/plain": [
       "<Figure size 640x480 with 1 Axes>"
      ]
     },
     "metadata": {},
     "output_type": "display_data"
    }
   ],
   "source": [
    "\n",
    "\n",
    "# Plot train and validation loss\n",
    "plt.plot(history.history['loss'], label='Train Loss')\n",
    "plt.plot(history.history['val_loss'], label='Validation Loss')\n",
    "plt.legend()\n",
    "plt.show()\n"
   ]
  },
  {
   "cell_type": "code",
   "execution_count": 30,
   "metadata": {},
   "outputs": [],
   "source": [
    "# # Save the trained model to the same folder as your dataset\n",
    "# model.save('C:/Users/21301610/Downloads/combine/lstm_model_multivarient_base.h5')\n",
    "# model.save('C:/Users/21301610/Downloads/combine/lstm_model_multivarient_base.keras')"
   ]
  },
  {
   "cell_type": "code",
   "execution_count": 31,
   "metadata": {},
   "outputs": [],
   "source": [
    "# import pickle\n",
    "\n",
    "# # Load lstm_data from the file\n",
    "# with open('lstm_data.pkl', 'rb') as file:\n",
    "#     lstm_data = pickle.load(file)\n",
    "\n",
    "# print(\"lstm_data has been loaded successfully.\")\n"
   ]
  }
 ],
 "metadata": {
  "colab": {
   "provenance": []
  },
  "kernelspec": {
   "display_name": "Python 3 (ipykernel)",
   "language": "python",
   "name": "python3"
  },
  "language_info": {
   "codemirror_mode": {
    "name": "ipython",
    "version": 3
   },
   "file_extension": ".py",
   "mimetype": "text/x-python",
   "name": "python",
   "nbconvert_exporter": "python",
   "pygments_lexer": "ipython3",
   "version": "3.11.7"
  }
 },
 "nbformat": 4,
 "nbformat_minor": 4
}
